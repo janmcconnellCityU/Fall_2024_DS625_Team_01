{
 "cells": [
  {
   "cell_type": "markdown",
   "metadata": {
    "application/vnd.databricks.v1+cell": {
     "cellMetadata": {},
     "inputWidgets": {},
     "nuid": "aa70cdc7-25d8-422b-b2dc-038a73db4c8c",
     "showTitle": false,
     "tableResultSettingsMap": {},
     "title": ""
    }
   },
   "source": [
    "# IMPORTING DATA FILES"
   ]
  },
  {
   "cell_type": "markdown",
   "metadata": {
    "application/vnd.databricks.v1+cell": {
     "cellMetadata": {},
     "inputWidgets": {},
     "nuid": "00c65a42-2d4f-4acf-8caf-24dfabc2aae6",
     "showTitle": false,
     "tableResultSettingsMap": {},
     "title": ""
    }
   },
   "source": [
    "Download the ZIP file from GitHub:\n",
    "https://github.com/janmcconnellCityU/Fall_2024_DS625_Team_01/archive/refs/heads/main.zip\n"
   ]
  },
  {
   "cell_type": "code",
   "execution_count": 0,
   "metadata": {
    "application/vnd.databricks.v1+cell": {
     "cellMetadata": {
      "byteLimit": 2048000,
      "rowLimit": 10000
     },
     "collapsed": true,
     "inputWidgets": {},
     "nuid": "73a69a49-42ee-4f0e-9f57-65b71a021c82",
     "showTitle": false,
     "tableResultSettingsMap": {},
     "title": ""
    }
   },
   "outputs": [
    {
     "output_type": "stream",
     "name": "stdout",
     "output_type": "stream",
     "text": [
      "Archive:  /tmp/Fall_2024_DS625_Team_01_main.zip\n0964ebe111bcb00bf4e4b4cc3c19517b0ca27bbe\n   creating: /tmp/Fall_2024_DS625_Team_01_unzipped/Fall_2024_DS625_Team_01-main/\n   creating: /tmp/Fall_2024_DS625_Team_01_unzipped/Fall_2024_DS625_Team_01-main/EDA/\n   creating: /tmp/Fall_2024_DS625_Team_01_unzipped/Fall_2024_DS625_Team_01-main/EDA/Ean/\n  inflating: /tmp/Fall_2024_DS625_Team_01_unzipped/Fall_2024_DS625_Team_01-main/EDA/Ean/DS522_Team_EDA_Ean.ipynb  \n   creating: /tmp/Fall_2024_DS625_Team_01_unzipped/Fall_2024_DS625_Team_01-main/EDA/Jan/\n  inflating: /tmp/Fall_2024_DS625_Team_01_unzipped/Fall_2024_DS625_Team_01-main/EDA/Jan/DS522_Team_EDA_Jan.ipynb  \n   creating: /tmp/Fall_2024_DS625_Team_01_unzipped/Fall_2024_DS625_Team_01-main/EDA/Scott/\n  inflating: /tmp/Fall_2024_DS625_Team_01_unzipped/Fall_2024_DS625_Team_01-main/EDA/Scott/DS522_Team_EDA_Scott.ipynb  \n  inflating: /tmp/Fall_2024_DS625_Team_01_unzipped/Fall_2024_DS625_Team_01-main/README.md  \n   creating: /tmp/Fall_2024_DS625_Team_01_unzipped/Fall_2024_DS625_Team_01-main/data/\n   creating: /tmp/Fall_2024_DS625_Team_01_unzipped/Fall_2024_DS625_Team_01-main/data/daphne/\n  inflating: /tmp/Fall_2024_DS625_Team_01_unzipped/Fall_2024_DS625_Team_01-main/data/daphne/Fig. 01-06 (also 7.3).csv  \n  inflating: /tmp/Fall_2024_DS625_Team_01_unzipped/Fall_2024_DS625_Team_01-main/data/daphne/Fig. 01-07.csv  \n  inflating: /tmp/Fall_2024_DS625_Team_01_unzipped/Fall_2024_DS625_Team_01-main/data/daphne/Fig. 02-01.csv  \n  inflating: /tmp/Fall_2024_DS625_Team_01_unzipped/Fall_2024_DS625_Team_01-main/data/daphne/Fig. 02-02.csv  \n  inflating: /tmp/Fall_2024_DS625_Team_01_unzipped/Fall_2024_DS625_Team_01-main/data/daphne/Fig. 02-09.csv  \n  inflating: /tmp/Fall_2024_DS625_Team_01_unzipped/Fall_2024_DS625_Team_01-main/data/daphne/Fig. 02-11.csv  \n  inflating: /tmp/Fall_2024_DS625_Team_01_unzipped/Fall_2024_DS625_Team_01-main/data/daphne/Fig. 02-15.csv  \n  inflating: /tmp/Fall_2024_DS625_Team_01_unzipped/Fall_2024_DS625_Team_01-main/data/daphne/Fig. 03-01.csv  \n  inflating: /tmp/Fall_2024_DS625_Team_01_unzipped/Fall_2024_DS625_Team_01-main/data/daphne/Fig. 03-02.csv  \n  inflating: /tmp/Fall_2024_DS625_Team_01_unzipped/Fall_2024_DS625_Team_01-main/data/daphne/Fig. 03-03 fortis.csv  \n  inflating: /tmp/Fall_2024_DS625_Team_01_unzipped/Fall_2024_DS625_Team_01-main/data/daphne/Fig. 03-03scand.csv  \n  inflating: /tmp/Fall_2024_DS625_Team_01_unzipped/Fall_2024_DS625_Team_01-main/data/daphne/Fig. 03-04.csv  \n  inflating: /tmp/Fall_2024_DS625_Team_01_unzipped/Fall_2024_DS625_Team_01-main/data/daphne/Fig. 04-04.csv  \n  inflating: /tmp/Fall_2024_DS625_Team_01_unzipped/Fall_2024_DS625_Team_01-main/data/daphne/Fig. 04-05.csv  \n  inflating: /tmp/Fall_2024_DS625_Team_01_unzipped/Fall_2024_DS625_Team_01-main/data/daphne/Fig. 04-06.csv  \n  inflating: /tmp/Fall_2024_DS625_Team_01_unzipped/Fall_2024_DS625_Team_01-main/data/daphne/Fig. 04-12.csv  \n  inflating: /tmp/Fall_2024_DS625_Team_01_unzipped/Fall_2024_DS625_Team_01-main/data/daphne/Fig. 04-13.csv  \n  inflating: /tmp/Fall_2024_DS625_Team_01_unzipped/Fall_2024_DS625_Team_01-main/data/daphne/Fig. 04-14.csv  \n  inflating: /tmp/Fall_2024_DS625_Team_01_unzipped/Fall_2024_DS625_Team_01-main/data/daphne/Fig. 05-02.csv  \n  inflating: /tmp/Fall_2024_DS625_Team_01_unzipped/Fall_2024_DS625_Team_01-main/data/daphne/Fig. 05-03.csv  \n  inflating: /tmp/Fall_2024_DS625_Team_01_unzipped/Fall_2024_DS625_Team_01-main/data/daphne/Fig. 05-04.csv  \n  inflating: /tmp/Fall_2024_DS625_Team_01_unzipped/Fall_2024_DS625_Team_01-main/data/daphne/Fig. 05-05.csv  \n  inflating: /tmp/Fall_2024_DS625_Team_01_unzipped/Fall_2024_DS625_Team_01-main/data/daphne/Fig. 05-06.csv  \n  inflating: /tmp/Fall_2024_DS625_Team_01_unzipped/Fall_2024_DS625_Team_01-main/data/daphne/Fig. 05-07.csv  \n  inflating: /tmp/Fall_2024_DS625_Team_01_unzipped/Fall_2024_DS625_Team_01-main/data/daphne/Fig. 05-08.csv  \n  inflating: /tmp/Fall_2024_DS625_Team_01_unzipped/Fall_2024_DS625_Team_01-main/data/daphne/Fig. 05-09.csv  \n  inflating: /tmp/Fall_2024_DS625_Team_01_unzipped/Fall_2024_DS625_Team_01-main/data/daphne/Fig. 05-14.csv  \n  inflating: /tmp/Fall_2024_DS625_Team_01_unzipped/Fall_2024_DS625_Team_01-main/data/daphne/Fig. 05-15.csv  \n  inflating: /tmp/Fall_2024_DS625_Team_01_unzipped/Fall_2024_DS625_Team_01-main/data/daphne/Fig. 06-01.csv  \n  inflating: /tmp/Fall_2024_DS625_Team_01_unzipped/Fall_2024_DS625_Team_01-main/data/daphne/Fig. 06-03.csv  \n  inflating: /tmp/Fall_2024_DS625_Team_01_unzipped/Fall_2024_DS625_Team_01-main/data/daphne/Fig. 06-04.csv  \n  inflating: /tmp/Fall_2024_DS625_Team_01_unzipped/Fall_2024_DS625_Team_01-main/data/daphne/Fig. 06-05.csv  \n  inflating: /tmp/Fall_2024_DS625_Team_01_unzipped/Fall_2024_DS625_Team_01-main/data/daphne/Fig. 06-06.csv  \n  inflating: /tmp/Fall_2024_DS625_Team_01_unzipped/Fall_2024_DS625_Team_01-main/data/daphne/Fig. 06-07.csv  \n  inflating: /tmp/Fall_2024_DS625_Team_01_unzipped/Fall_2024_DS625_Team_01-main/data/daphne/Fig. 06-09.csv  \n  inflating: /tmp/Fall_2024_DS625_Team_01_unzipped/Fall_2024_DS625_Team_01-main/data/daphne/Fig. 06-11.csv  \n  inflating: /tmp/Fall_2024_DS625_Team_01_unzipped/Fall_2024_DS625_Team_01-main/data/daphne/Fig. 07-01.csv  \n  inflating: /tmp/Fall_2024_DS625_Team_01_unzipped/Fall_2024_DS625_Team_01-main/data/daphne/Fig. 07-05.csv  \n  inflating: /tmp/Fall_2024_DS625_Team_01_unzipped/Fall_2024_DS625_Team_01-main/data/daphne/Fig. 07-06.csv  \n  inflating: /tmp/Fall_2024_DS625_Team_01_unzipped/Fall_2024_DS625_Team_01-main/data/daphne/Fig. 08-10.csv  \n  inflating: /tmp/Fall_2024_DS625_Team_01_unzipped/Fall_2024_DS625_Team_01-main/data/daphne/Fig. 08-11.csv  \n  inflating: /tmp/Fall_2024_DS625_Team_01_unzipped/Fall_2024_DS625_Team_01-main/data/daphne/Fig. 08-12 lower.csv  \n  inflating: /tmp/Fall_2024_DS625_Team_01_unzipped/Fall_2024_DS625_Team_01-main/data/daphne/Fig. 09-03.csv  \n  inflating: /tmp/Fall_2024_DS625_Team_01_unzipped/Fall_2024_DS625_Team_01-main/data/daphne/Fig. 09-06.csv  \n  inflating: /tmp/Fall_2024_DS625_Team_01_unzipped/Fall_2024_DS625_Team_01-main/data/daphne/Fig. 10-01.csv  \n  inflating: /tmp/Fall_2024_DS625_Team_01_unzipped/Fall_2024_DS625_Team_01-main/data/daphne/Fig. 10-03 data, 12.csv  \n  inflating: /tmp/Fall_2024_DS625_Team_01_unzipped/Fall_2024_DS625_Team_01-main/data/daphne/Fig. 10-03 data, 75.csv  \n  inflating: /tmp/Fall_2024_DS625_Team_01_unzipped/Fall_2024_DS625_Team_01-main/data/daphne/Fig. 10-03 data, 87.csv  \n  inflating: /tmp/Fall_2024_DS625_Team_01_unzipped/Fall_2024_DS625_Team_01-main/data/daphne/Fig. 10-03 data, 91.csv  \n  inflating: /tmp/Fall_2024_DS625_Team_01_unzipped/Fall_2024_DS625_Team_01-main/data/daphne/Fig. 10-04.csv  \n  inflating: /tmp/Fall_2024_DS625_Team_01_unzipped/Fall_2024_DS625_Team_01-main/data/daphne/Fig. 10-05.csv  \n  inflating: /tmp/Fall_2024_DS625_Team_01_unzipped/Fall_2024_DS625_Team_01-main/data/daphne/Fig. 10-06.csv  \n  inflating: /tmp/Fall_2024_DS625_Team_01_unzipped/Fall_2024_DS625_Team_01-main/data/daphne/Fig. 10-07.csv  \n  inflating: /tmp/Fall_2024_DS625_Team_01_unzipped/Fall_2024_DS625_Team_01-main/data/daphne/Fig. 10-08.csv  \n  inflating: /tmp/Fall_2024_DS625_Team_01_unzipped/Fall_2024_DS625_Team_01-main/data/daphne/Fig. 10-09.csv  \n  inflating: /tmp/Fall_2024_DS625_Team_01_unzipped/Fall_2024_DS625_Team_01-main/data/daphne/Fig. 10-10.csv  \n  inflating: /tmp/Fall_2024_DS625_Team_01_unzipped/Fall_2024_DS625_Team_01-main/data/daphne/Fig. 10-11.csv  \n  inflating: /tmp/Fall_2024_DS625_Team_01_unzipped/Fall_2024_DS625_Team_01-main/data/daphne/Fig. 10-12.csv  \n  inflating: /tmp/Fall_2024_DS625_Team_01_unzipped/Fall_2024_DS625_Team_01-main/data/daphne/Fig. 11-01.csv  \n  inflating: /tmp/Fall_2024_DS625_Team_01_unzipped/Fall_2024_DS625_Team_01-main/data/daphne/Fig. 11-02.csv  \n  inflating: /tmp/Fall_2024_DS625_Team_01_unzipped/Fall_2024_DS625_Team_01-main/data/daphne/Fig. 11-03.csv  \n  inflating: /tmp/Fall_2024_DS625_Team_01_unzipped/Fall_2024_DS625_Team_01-main/data/daphne/Fig. 11-04.csv  \n  inflating: /tmp/Fall_2024_DS625_Team_01_unzipped/Fall_2024_DS625_Team_01-main/data/daphne/Fig. 11-05.csv  \n  inflating: /tmp/Fall_2024_DS625_Team_01_unzipped/Fall_2024_DS625_Team_01-main/data/daphne/Fig. 11-07.csv  \n  inflating: /tmp/Fall_2024_DS625_Team_01_unzipped/Fall_2024_DS625_Team_01-main/data/daphne/Fig. 11-08.csv  \n  inflating: /tmp/Fall_2024_DS625_Team_01_unzipped/Fall_2024_DS625_Team_01-main/data/daphne/Fig. 11-09.csv  \n  inflating: /tmp/Fall_2024_DS625_Team_01_unzipped/Fall_2024_DS625_Team_01-main/data/daphne/Fig. 11-10.csv  \n  inflating: /tmp/Fall_2024_DS625_Team_01_unzipped/Fall_2024_DS625_Team_01-main/data/daphne/Fig. 11-11.csv  \n  inflating: /tmp/Fall_2024_DS625_Team_01_unzipped/Fall_2024_DS625_Team_01-main/data/daphne/Fig. 11-12.csv  \n  inflating: /tmp/Fall_2024_DS625_Team_01_unzipped/Fall_2024_DS625_Team_01-main/data/daphne/Fig. 12-05.csv  \n  inflating: /tmp/Fall_2024_DS625_Team_01_unzipped/Fall_2024_DS625_Team_01-main/data/daphne/Fig. 13-13.csv  \n  inflating: /tmp/Fall_2024_DS625_Team_01_unzipped/Fall_2024_DS625_Team_01-main/data/daphne/Fig. 13-14.csv  \n  inflating: /tmp/Fall_2024_DS625_Team_01_unzipped/Fall_2024_DS625_Team_01-main/data/daphne/Fig. 13-15.csv  \n  inflating: /tmp/Fall_2024_DS625_Team_01_unzipped/Fall_2024_DS625_Team_01-main/data/daphne/Fig. 13-17.csv  \n  inflating: /tmp/Fall_2024_DS625_Team_01_unzipped/Fall_2024_DS625_Team_01-main/data/daphne/Fig. 14-01.csv  \n  inflating: /tmp/Fall_2024_DS625_Team_01_unzipped/Fall_2024_DS625_Team_01-main/data/daphne/Fig. 14-02.csv  \n  inflating: /tmp/Fall_2024_DS625_Team_01_unzipped/Fall_2024_DS625_Team_01-main/data/daphne/Fig. 14-03.csv  \n  inflating: /tmp/Fall_2024_DS625_Team_01_unzipped/Fall_2024_DS625_Team_01-main/data/daphne/Fig. 17-02.csv  \n  inflating: /tmp/Fall_2024_DS625_Team_01_unzipped/Fall_2024_DS625_Team_01-main/data/daphne/Fig. 17-03.csv  \n  inflating: /tmp/Fall_2024_DS625_Team_01_unzipped/Fall_2024_DS625_Team_01-main/data/daphne/Fig. A-03-03.csv  \n  inflating: /tmp/Fall_2024_DS625_Team_01_unzipped/Fall_2024_DS625_Team_01-main/data/daphne/Fig. A-17-01.csv  \n  inflating: /tmp/Fall_2024_DS625_Team_01_unzipped/Fall_2024_DS625_Team_01-main/data/daphne/Fig. B1-02.csv  \n  inflating: /tmp/Fall_2024_DS625_Team_01_unzipped/Fall_2024_DS625_Team_01-main/data/daphne/Readme for files.txt  \n   creating: /tmp/Fall_2024_DS625_Team_01_unzipped/Fall_2024_DS625_Team_01-main/data/forage/\n  inflating: /tmp/Fall_2024_DS625_Team_01_unzipped/Fall_2024_DS625_Team_01-main/data/forage/DRYAD_Darwin_s_finch_foraging_behaviour_and_naris_size.xlsx  \n   creating: /tmp/Fall_2024_DS625_Team_01_unzipped/Fall_2024_DS625_Team_01-main/data/hybrid/\n  inflating: /tmp/Fall_2024_DS625_Team_01_unzipped/Fall_2024_DS625_Team_01-main/data/hybrid/GeneticData_structure.csv  \n  inflating: /tmp/Fall_2024_DS625_Team_01_unzipped/Fall_2024_DS625_Team_01-main/data/hybrid/MaleAgeBirthYearRainfallassigned.csv  \n   creating: /tmp/Fall_2024_DS625_Team_01_unzipped/Fall_2024_DS625_Team_01-main/data/kaggle/\n  inflating: /tmp/Fall_2024_DS625_Team_01_unzipped/Fall_2024_DS625_Team_01-main/data/kaggle/finch_beaks_1975.csv  \n  inflating: /tmp/Fall_2024_DS625_Team_01_unzipped/Fall_2024_DS625_Team_01-main/data/kaggle/finch_beaks_2012.csv  \n  inflating: /tmp/Fall_2024_DS625_Team_01_unzipped/Fall_2024_DS625_Team_01-main/data/kaggle/fortis_beak_depth_heredity.csv  \n  inflating: /tmp/Fall_2024_DS625_Team_01_unzipped/Fall_2024_DS625_Team_01-main/data/kaggle/scandens_beak_depth_heredity.csv  \n"
     ]
    }
   ],
   "source": [
    "%sh\n",
    "unzip /tmp/Fall_2024_DS625_Team_01_main.zip -d /tmp/Fall_2024_DS625_Team_01_unzipped\n"
   ]
  },
  {
   "cell_type": "code",
   "execution_count": 0,
   "metadata": {
    "application/vnd.databricks.v1+cell": {
     "cellMetadata": {
      "byteLimit": 2048000,
      "rowLimit": 10000
     },
     "collapsed": true,
     "inputWidgets": {},
     "nuid": "2f15e9cb-9557-4623-86d5-c1c841bdf41b",
     "showTitle": false,
     "tableResultSettingsMap": {},
     "title": ""
    }
   },
   "outputs": [
    {
     "output_type": "stream",
     "name": "stdout",
     "output_type": "stream",
     "text": [
      "Fall_2024_DS625_Team_01-main\n"
     ]
    }
   ],
   "source": [
    "%sh\n",
    "ls /tmp/Fall_2024_DS625_Team_01_unzipped\n"
   ]
  },
  {
   "cell_type": "code",
   "execution_count": 0,
   "metadata": {
    "application/vnd.databricks.v1+cell": {
     "cellMetadata": {
      "byteLimit": 2048000,
      "rowLimit": 10000
     },
     "collapsed": true,
     "inputWidgets": {},
     "nuid": "a31f4da5-6008-4de2-b34a-09467ed5c0f9",
     "showTitle": false,
     "tableResultSettingsMap": {},
     "title": ""
    }
   },
   "outputs": [
    {
     "output_type": "execute_result",
     "data": {
      "text/plain": [
       "True"
      ]
     },
     "execution_count": 8,
     "metadata": {},
     "output_type": "execute_result"
    }
   ],
   "source": [
    "dbutils.fs.cp(\"file:/tmp/Fall_2024_DS625_Team_01_unzipped\", \"dbfs:/FileStore/Fall_2024_DS625_Team_01/\", recurse=True)\n"
   ]
  },
  {
   "cell_type": "code",
   "execution_count": 0,
   "metadata": {
    "application/vnd.databricks.v1+cell": {
     "cellMetadata": {
      "byteLimit": 2048000,
      "rowLimit": 10000
     },
     "collapsed": true,
     "inputWidgets": {},
     "nuid": "4b9ff7fc-7d46-49ae-8350-0510e8e26650",
     "showTitle": false,
     "tableResultSettingsMap": {},
     "title": ""
    }
   },
   "outputs": [
    {
     "output_type": "display_data",
     "data": {
      "text/html": [
       "<style scoped>\n",
       "  .table-result-container {\n",
       "    max-height: 300px;\n",
       "    overflow: auto;\n",
       "  }\n",
       "  table, th, td {\n",
       "    border: 1px solid black;\n",
       "    border-collapse: collapse;\n",
       "  }\n",
       "  th, td {\n",
       "    padding: 5px;\n",
       "  }\n",
       "  th {\n",
       "    text-align: left;\n",
       "  }\n",
       "</style><div class='table-result-container'><table class='table-result'><thead style='background-color: white'><tr><th>path</th><th>name</th><th>size</th><th>modificationTime</th></tr></thead><tbody><tr><td>dbfs:/FileStore/Fall_2024_DS625_Team_01/Fall_2024_DS625_Team_01-main/</td><td>Fall_2024_DS625_Team_01-main/</td><td>0</td><td>0</td></tr><tr><td>dbfs:/FileStore/Fall_2024_DS625_Team_01/Fall_2024_DS625_Team_01_main.zip</td><td>Fall_2024_DS625_Team_01_main.zip</td><td>243899</td><td>1731615966000</td></tr></tbody></table></div>"
      ]
     },
     "metadata": {
      "application/vnd.databricks.v1+output": {
       "addedWidgets": {},
       "aggData": [],
       "aggError": "",
       "aggOverflow": false,
       "aggSchema": [],
       "aggSeriesLimitReached": false,
       "aggType": "",
       "arguments": {},
       "columnCustomDisplayInfos": {},
       "data": [
        [
         "dbfs:/FileStore/Fall_2024_DS625_Team_01/Fall_2024_DS625_Team_01-main/",
         "Fall_2024_DS625_Team_01-main/",
         0,
         0
        ],
        [
         "dbfs:/FileStore/Fall_2024_DS625_Team_01/Fall_2024_DS625_Team_01_main.zip",
         "Fall_2024_DS625_Team_01_main.zip",
         243899,
         1731615966000
        ]
       ],
       "datasetInfos": [],
       "dbfsResultPath": null,
       "isJsonSchema": true,
       "metadata": {
        "isDbfsCommandResult": false
       },
       "overflow": false,
       "plotOptions": {
        "customPlotOptions": {},
        "displayType": "table",
        "pivotAggregation": null,
        "pivotColumns": null,
        "xColumns": null,
        "yColumns": null
       },
       "removedWidgets": [],
       "schema": [
        {
         "metadata": "{}",
         "name": "path",
         "type": "\"string\""
        },
        {
         "metadata": "{}",
         "name": "name",
         "type": "\"string\""
        },
        {
         "metadata": "{}",
         "name": "size",
         "type": "\"long\""
        },
        {
         "metadata": "{}",
         "name": "modificationTime",
         "type": "\"long\""
        }
       ],
       "type": "table"
      }
     },
     "output_type": "display_data"
    }
   ],
   "source": [
    "%fs ls dbfs:/FileStore/Fall_2024_DS625_Team_01/\n"
   ]
  },
  {
   "cell_type": "markdown",
   "metadata": {
    "application/vnd.databricks.v1+cell": {
     "cellMetadata": {},
     "inputWidgets": {},
     "nuid": "864f57a2-5ad8-4513-ba2c-778f88af4a42",
     "showTitle": false,
     "tableResultSettingsMap": {},
     "title": ""
    }
   },
   "source": [
    "# LIST FILES"
   ]
  },
  {
   "cell_type": "code",
   "execution_count": 0,
   "metadata": {
    "application/vnd.databricks.v1+cell": {
     "cellMetadata": {
      "byteLimit": 2048000,
      "rowLimit": 10000
     },
     "inputWidgets": {},
     "nuid": "0bea8a96-3d25-4a99-b789-f2c40253f9b4",
     "showTitle": false,
     "tableResultSettingsMap": {},
     "title": ""
    }
   },
   "outputs": [
    {
     "output_type": "display_data",
     "data": {
      "text/html": [
       "<style scoped>\n",
       "  .table-result-container {\n",
       "    max-height: 300px;\n",
       "    overflow: auto;\n",
       "  }\n",
       "  table, th, td {\n",
       "    border: 1px solid black;\n",
       "    border-collapse: collapse;\n",
       "  }\n",
       "  th, td {\n",
       "    padding: 5px;\n",
       "  }\n",
       "  th {\n",
       "    text-align: left;\n",
       "  }\n",
       "</style><div class='table-result-container'><table class='table-result'><thead style='background-color: white'><tr><th>path</th><th>name</th><th>size</th><th>modificationTime</th></tr></thead><tbody><tr><td>dbfs:/FileStore/Fall_2024_DS625_Team_01/Fall_2024_DS625_Team_01-main/data/daphne/</td><td>daphne/</td><td>0</td><td>0</td></tr><tr><td>dbfs:/FileStore/Fall_2024_DS625_Team_01/Fall_2024_DS625_Team_01-main/data/forage/</td><td>forage/</td><td>0</td><td>0</td></tr><tr><td>dbfs:/FileStore/Fall_2024_DS625_Team_01/Fall_2024_DS625_Team_01-main/data/hybrid/</td><td>hybrid/</td><td>0</td><td>0</td></tr><tr><td>dbfs:/FileStore/Fall_2024_DS625_Team_01/Fall_2024_DS625_Team_01-main/data/kaggle/</td><td>kaggle/</td><td>0</td><td>0</td></tr></tbody></table></div>"
      ]
     },
     "metadata": {
      "application/vnd.databricks.v1+output": {
       "addedWidgets": {},
       "aggData": [],
       "aggError": "",
       "aggOverflow": false,
       "aggSchema": [],
       "aggSeriesLimitReached": false,
       "aggType": "",
       "arguments": {},
       "columnCustomDisplayInfos": {},
       "data": [
        [
         "dbfs:/FileStore/Fall_2024_DS625_Team_01/Fall_2024_DS625_Team_01-main/data/daphne/",
         "daphne/",
         0,
         0
        ],
        [
         "dbfs:/FileStore/Fall_2024_DS625_Team_01/Fall_2024_DS625_Team_01-main/data/forage/",
         "forage/",
         0,
         0
        ],
        [
         "dbfs:/FileStore/Fall_2024_DS625_Team_01/Fall_2024_DS625_Team_01-main/data/hybrid/",
         "hybrid/",
         0,
         0
        ],
        [
         "dbfs:/FileStore/Fall_2024_DS625_Team_01/Fall_2024_DS625_Team_01-main/data/kaggle/",
         "kaggle/",
         0,
         0
        ]
       ],
       "datasetInfos": [],
       "dbfsResultPath": null,
       "isJsonSchema": true,
       "metadata": {
        "isDbfsCommandResult": false
       },
       "overflow": false,
       "plotOptions": {
        "customPlotOptions": {},
        "displayType": "table",
        "pivotAggregation": null,
        "pivotColumns": null,
        "xColumns": null,
        "yColumns": null
       },
       "removedWidgets": [],
       "schema": [
        {
         "metadata": "{}",
         "name": "path",
         "type": "\"string\""
        },
        {
         "metadata": "{}",
         "name": "name",
         "type": "\"string\""
        },
        {
         "metadata": "{}",
         "name": "size",
         "type": "\"long\""
        },
        {
         "metadata": "{}",
         "name": "modificationTime",
         "type": "\"long\""
        }
       ],
       "type": "table"
      }
     },
     "output_type": "display_data"
    }
   ],
   "source": [
    "%fs ls dbfs:/FileStore/Fall_2024_DS625_Team_01/Fall_2024_DS625_Team_01-main/data"
   ]
  },
  {
   "cell_type": "markdown",
   "metadata": {
    "application/vnd.databricks.v1+cell": {
     "cellMetadata": {},
     "inputWidgets": {},
     "nuid": "8e3fd870-dc93-4876-a2de-87e3e1a8aaf5",
     "showTitle": false,
     "tableResultSettingsMap": {},
     "title": ""
    }
   },
   "source": [
    "# Identify and preview relevant files"
   ]
  },
  {
   "cell_type": "code",
   "execution_count": 0,
   "metadata": {
    "application/vnd.databricks.v1+cell": {
     "cellMetadata": {
      "byteLimit": 2048000,
      "rowLimit": 10000
     },
     "inputWidgets": {},
     "nuid": "a62529fa-e705-41de-86c7-730e579aa67d",
     "showTitle": false,
     "tableResultSettingsMap": {},
     "title": ""
    }
   },
   "outputs": [
    {
     "output_type": "stream",
     "name": "stdout",
     "output_type": "stream",
     "text": [
      "+----+-------+---------------+--------------+\n|band|species|Beak length, mm|Beak depth, mm|\n+----+-------+---------------+--------------+\n|   2| fortis|            9.4|           8.0|\n|   9| fortis|            9.2|           8.3|\n|  12| fortis|            9.5|           7.5|\n|  15| fortis|            9.5|           8.0|\n| 305| fortis|           11.5|           9.9|\n+----+-------+---------------+--------------+\nonly showing top 5 rows\n\n+-----+---------+-----------+----+---+----+---+----+---+----+----+----+----+----+----+----+----+----+----+----+----+\n|PopID|   Sample|        Pop|Gf01|_c4|Gf03|_c6|Gf04|_c8|Gf05|_c10|Gf06|_c12|Gf07|_c14|Gf11|_c16|Gf12|_c18|Gf13|_c20|\n+-----+---------+-----------+----+---+----+---+----+---+----+----+----+----+----+----+----+----+----+----+----+----+\n|    1|019-57676|C. parvulus| 177|177| 227|227| 248|248| 205| 205| 174| 174| 283| 283| 180| 180| 171| 171| 157| 157|\n|    1|019-57680|C. parvulus| 185|187| 225|235| 248|248| 201| 201| 174| 174| 283| 283| 180| 187| 171| 181| 157| 174|\n|    1|019-57681|C. parvulus| 173|181| 225|225| 248|248| 201| 203| 174| 174| 283| 283| 167| 180| 167| 181| 157| 172|\n|    1|019-57683|C. parvulus| 163|181| 225|241| 248|248| 201| 203| 174| 174| 283| 283| 167| 187| 171| 181| 170| 174|\n|    1|019-57684|C. parvulus| 167|181| 223|225| 248|248| 201| 205| 174| 174| 289| 304| 180| 180| 171| 181| 157| 170|\n+-----+---------+-----------+----+---+----+---+----+---+----+----+----+----+----+----+----+----+----+----+----+----+\nonly showing top 5 rows\n\n"
     ]
    }
   ],
   "source": [
    "from pyspark.sql import SparkSession\n",
    "\n",
    "spark = SparkSession.builder.appName(\"FinchEDA\").getOrCreate()\n",
    "\n",
    "# Load and preview some example files\n",
    "# Example: finch_beaks_1975.csv in the kaggle directory\n",
    "df_beaks_1975 = spark.read.csv(\"dbfs:/FileStore/Fall_2024_DS625_Team_01/Fall_2024_DS625_Team_01-main/data/kaggle/finch_beaks_1975.csv\", header=True, inferSchema=True)\n",
    "df_beaks_1975.show(5)\n",
    "\n",
    "# Example: GeneticData_structure.csv in the hybrid directory\n",
    "df_genetic_data = spark.read.csv(\"dbfs:/FileStore/Fall_2024_DS625_Team_01/Fall_2024_DS625_Team_01-main/data/hybrid/GeneticData_structure.csv\", header=True, inferSchema=True)\n",
    "df_genetic_data.show(5)"
   ]
  },
  {
   "cell_type": "markdown",
   "metadata": {
    "application/vnd.databricks.v1+cell": {
     "cellMetadata": {},
     "inputWidgets": {},
     "nuid": "d6b32095-9297-45a6-9339-e3bfba42b377",
     "showTitle": false,
     "tableResultSettingsMap": {},
     "title": ""
    }
   },
   "source": [
    "# List files in each folder"
   ]
  },
  {
   "cell_type": "code",
   "execution_count": 0,
   "metadata": {
    "application/vnd.databricks.v1+cell": {
     "cellMetadata": {
      "byteLimit": 2048000,
      "rowLimit": 10000
     },
     "inputWidgets": {},
     "nuid": "bcd6b055-4e35-4d83-98c0-2a38d077b616",
     "showTitle": false,
     "tableResultSettingsMap": {},
     "title": ""
    }
   },
   "outputs": [
    {
     "output_type": "stream",
     "name": "stdout",
     "output_type": "stream",
     "text": [
      "\nListing files in dbfs:/FileStore/Fall_2024_DS625_Team_01/Fall_2024_DS625_Team_01-main/data/daphne:\n"
     ]
    },
    {
     "output_type": "display_data",
     "data": {
      "text/html": [
       "<style scoped>\n",
       "  .table-result-container {\n",
       "    max-height: 300px;\n",
       "    overflow: auto;\n",
       "  }\n",
       "  table, th, td {\n",
       "    border: 1px solid black;\n",
       "    border-collapse: collapse;\n",
       "  }\n",
       "  th, td {\n",
       "    padding: 5px;\n",
       "  }\n",
       "  th {\n",
       "    text-align: left;\n",
       "  }\n",
       "</style><div class='table-result-container'><table class='table-result'><thead style='background-color: white'><tr><th>path</th><th>name</th><th>size</th><th>modificationTime</th></tr></thead><tbody><tr><td>dbfs:/FileStore/Fall_2024_DS625_Team_01/Fall_2024_DS625_Team_01-main/data/daphne/Fig. 01-06 (also 7.3).csv</td><td>Fig. 01-06 (also 7.3).csv</td><td>1940</td><td>1731616415000</td></tr><tr><td>dbfs:/FileStore/Fall_2024_DS625_Team_01/Fall_2024_DS625_Team_01-main/data/daphne/Fig. 01-07.csv</td><td>Fig. 01-07.csv</td><td>1996</td><td>1731616421000</td></tr><tr><td>dbfs:/FileStore/Fall_2024_DS625_Team_01/Fall_2024_DS625_Team_01-main/data/daphne/Fig. 02-01.csv</td><td>Fig. 02-01.csv</td><td>645</td><td>1731616420000</td></tr><tr><td>dbfs:/FileStore/Fall_2024_DS625_Team_01/Fall_2024_DS625_Team_01-main/data/daphne/Fig. 02-02.csv</td><td>Fig. 02-02.csv</td><td>1544</td><td>1731616420000</td></tr><tr><td>dbfs:/FileStore/Fall_2024_DS625_Team_01/Fall_2024_DS625_Team_01-main/data/daphne/Fig. 02-09.csv</td><td>Fig. 02-09.csv</td><td>137</td><td>1731616420000</td></tr><tr><td>dbfs:/FileStore/Fall_2024_DS625_Team_01/Fall_2024_DS625_Team_01-main/data/daphne/Fig. 02-11.csv</td><td>Fig. 02-11.csv</td><td>355</td><td>1731616419000</td></tr><tr><td>dbfs:/FileStore/Fall_2024_DS625_Team_01/Fall_2024_DS625_Team_01-main/data/daphne/Fig. 02-15.csv</td><td>Fig. 02-15.csv</td><td>128</td><td>1731616414000</td></tr><tr><td>dbfs:/FileStore/Fall_2024_DS625_Team_01/Fall_2024_DS625_Team_01-main/data/daphne/Fig. 03-01.csv</td><td>Fig. 03-01.csv</td><td>291</td><td>1731616421000</td></tr><tr><td>dbfs:/FileStore/Fall_2024_DS625_Team_01/Fall_2024_DS625_Team_01-main/data/daphne/Fig. 03-02.csv</td><td>Fig. 03-02.csv</td><td>371</td><td>1731616419000</td></tr><tr><td>dbfs:/FileStore/Fall_2024_DS625_Team_01/Fall_2024_DS625_Team_01-main/data/daphne/Fig. 03-03 fortis.csv</td><td>Fig. 03-03 fortis.csv</td><td>18745</td><td>1731616420000</td></tr><tr><td>dbfs:/FileStore/Fall_2024_DS625_Team_01/Fall_2024_DS625_Team_01-main/data/daphne/Fig. 03-03scand.csv</td><td>Fig. 03-03scand.csv</td><td>8445</td><td>1731616421000</td></tr><tr><td>dbfs:/FileStore/Fall_2024_DS625_Team_01/Fall_2024_DS625_Team_01-main/data/daphne/Fig. 03-04.csv</td><td>Fig. 03-04.csv</td><td>242</td><td>1731616424000</td></tr><tr><td>dbfs:/FileStore/Fall_2024_DS625_Team_01/Fall_2024_DS625_Team_01-main/data/daphne/Fig. 04-04.csv</td><td>Fig. 04-04.csv</td><td>1099</td><td>1731616416000</td></tr><tr><td>dbfs:/FileStore/Fall_2024_DS625_Team_01/Fall_2024_DS625_Team_01-main/data/daphne/Fig. 04-05.csv</td><td>Fig. 04-05.csv</td><td>1033</td><td>1731616417000</td></tr><tr><td>dbfs:/FileStore/Fall_2024_DS625_Team_01/Fall_2024_DS625_Team_01-main/data/daphne/Fig. 04-06.csv</td><td>Fig. 04-06.csv</td><td>344</td><td>1731616425000</td></tr><tr><td>dbfs:/FileStore/Fall_2024_DS625_Team_01/Fall_2024_DS625_Team_01-main/data/daphne/Fig. 04-12.csv</td><td>Fig. 04-12.csv</td><td>350</td><td>1731616415000</td></tr><tr><td>dbfs:/FileStore/Fall_2024_DS625_Team_01/Fall_2024_DS625_Team_01-main/data/daphne/Fig. 04-13.csv</td><td>Fig. 04-13.csv</td><td>241</td><td>1731616422000</td></tr><tr><td>dbfs:/FileStore/Fall_2024_DS625_Team_01/Fall_2024_DS625_Team_01-main/data/daphne/Fig. 04-14.csv</td><td>Fig. 04-14.csv</td><td>180</td><td>1731616418000</td></tr><tr><td>dbfs:/FileStore/Fall_2024_DS625_Team_01/Fall_2024_DS625_Team_01-main/data/daphne/Fig. 05-02.csv</td><td>Fig. 05-02.csv</td><td>1455</td><td>1731616421000</td></tr><tr><td>dbfs:/FileStore/Fall_2024_DS625_Team_01/Fall_2024_DS625_Team_01-main/data/daphne/Fig. 05-03.csv</td><td>Fig. 05-03.csv</td><td>283</td><td>1731616424000</td></tr><tr><td>dbfs:/FileStore/Fall_2024_DS625_Team_01/Fall_2024_DS625_Team_01-main/data/daphne/Fig. 05-04.csv</td><td>Fig. 05-04.csv</td><td>1739</td><td>1731616415000</td></tr><tr><td>dbfs:/FileStore/Fall_2024_DS625_Team_01/Fall_2024_DS625_Team_01-main/data/daphne/Fig. 05-05.csv</td><td>Fig. 05-05.csv</td><td>891</td><td>1731616422000</td></tr><tr><td>dbfs:/FileStore/Fall_2024_DS625_Team_01/Fall_2024_DS625_Team_01-main/data/daphne/Fig. 05-06.csv</td><td>Fig. 05-06.csv</td><td>1104</td><td>1731616424000</td></tr><tr><td>dbfs:/FileStore/Fall_2024_DS625_Team_01/Fall_2024_DS625_Team_01-main/data/daphne/Fig. 05-07.csv</td><td>Fig. 05-07.csv</td><td>918</td><td>1731616416000</td></tr><tr><td>dbfs:/FileStore/Fall_2024_DS625_Team_01/Fall_2024_DS625_Team_01-main/data/daphne/Fig. 05-08.csv</td><td>Fig. 05-08.csv</td><td>503</td><td>1731616415000</td></tr><tr><td>dbfs:/FileStore/Fall_2024_DS625_Team_01/Fall_2024_DS625_Team_01-main/data/daphne/Fig. 05-09.csv</td><td>Fig. 05-09.csv</td><td>451</td><td>1731616424000</td></tr><tr><td>dbfs:/FileStore/Fall_2024_DS625_Team_01/Fall_2024_DS625_Team_01-main/data/daphne/Fig. 05-14.csv</td><td>Fig. 05-14.csv</td><td>763</td><td>1731616423000</td></tr><tr><td>dbfs:/FileStore/Fall_2024_DS625_Team_01/Fall_2024_DS625_Team_01-main/data/daphne/Fig. 05-15.csv</td><td>Fig. 05-15.csv</td><td>705</td><td>1731616421000</td></tr><tr><td>dbfs:/FileStore/Fall_2024_DS625_Team_01/Fall_2024_DS625_Team_01-main/data/daphne/Fig. 06-01.csv</td><td>Fig. 06-01.csv</td><td>248</td><td>1731616419000</td></tr><tr><td>dbfs:/FileStore/Fall_2024_DS625_Team_01/Fall_2024_DS625_Team_01-main/data/daphne/Fig. 06-03.csv</td><td>Fig. 06-03.csv</td><td>105</td><td>1731616422000</td></tr><tr><td>dbfs:/FileStore/Fall_2024_DS625_Team_01/Fall_2024_DS625_Team_01-main/data/daphne/Fig. 06-04.csv</td><td>Fig. 06-04.csv</td><td>248</td><td>1731616419000</td></tr><tr><td>dbfs:/FileStore/Fall_2024_DS625_Team_01/Fall_2024_DS625_Team_01-main/data/daphne/Fig. 06-05.csv</td><td>Fig. 06-05.csv</td><td>387</td><td>1731616418000</td></tr><tr><td>dbfs:/FileStore/Fall_2024_DS625_Team_01/Fall_2024_DS625_Team_01-main/data/daphne/Fig. 06-06.csv</td><td>Fig. 06-06.csv</td><td>725</td><td>1731616425000</td></tr><tr><td>dbfs:/FileStore/Fall_2024_DS625_Team_01/Fall_2024_DS625_Team_01-main/data/daphne/Fig. 06-07.csv</td><td>Fig. 06-07.csv</td><td>179</td><td>1731616417000</td></tr><tr><td>dbfs:/FileStore/Fall_2024_DS625_Team_01/Fall_2024_DS625_Team_01-main/data/daphne/Fig. 06-09.csv</td><td>Fig. 06-09.csv</td><td>435</td><td>1731616424000</td></tr><tr><td>dbfs:/FileStore/Fall_2024_DS625_Team_01/Fall_2024_DS625_Team_01-main/data/daphne/Fig. 06-11.csv</td><td>Fig. 06-11.csv</td><td>358</td><td>1731616417000</td></tr><tr><td>dbfs:/FileStore/Fall_2024_DS625_Team_01/Fall_2024_DS625_Team_01-main/data/daphne/Fig. 07-01.csv</td><td>Fig. 07-01.csv</td><td>932</td><td>1731616425000</td></tr><tr><td>dbfs:/FileStore/Fall_2024_DS625_Team_01/Fall_2024_DS625_Team_01-main/data/daphne/Fig. 07-05.csv</td><td>Fig. 07-05.csv</td><td>465</td><td>1731616423000</td></tr><tr><td>dbfs:/FileStore/Fall_2024_DS625_Team_01/Fall_2024_DS625_Team_01-main/data/daphne/Fig. 07-06.csv</td><td>Fig. 07-06.csv</td><td>517</td><td>1731616423000</td></tr><tr><td>dbfs:/FileStore/Fall_2024_DS625_Team_01/Fall_2024_DS625_Team_01-main/data/daphne/Fig. 08-10.csv</td><td>Fig. 08-10.csv</td><td>127</td><td>1731616421000</td></tr><tr><td>dbfs:/FileStore/Fall_2024_DS625_Team_01/Fall_2024_DS625_Team_01-main/data/daphne/Fig. 08-11.csv</td><td>Fig. 08-11.csv</td><td>681</td><td>1731616422000</td></tr><tr><td>dbfs:/FileStore/Fall_2024_DS625_Team_01/Fall_2024_DS625_Team_01-main/data/daphne/Fig. 08-12 lower.csv</td><td>Fig. 08-12 lower.csv</td><td>895</td><td>1731616423000</td></tr><tr><td>dbfs:/FileStore/Fall_2024_DS625_Team_01/Fall_2024_DS625_Team_01-main/data/daphne/Fig. 09-03.csv</td><td>Fig. 09-03.csv</td><td>2422</td><td>1731616425000</td></tr><tr><td>dbfs:/FileStore/Fall_2024_DS625_Team_01/Fall_2024_DS625_Team_01-main/data/daphne/Fig. 09-06.csv</td><td>Fig. 09-06.csv</td><td>3780</td><td>1731616422000</td></tr><tr><td>dbfs:/FileStore/Fall_2024_DS625_Team_01/Fall_2024_DS625_Team_01-main/data/daphne/Fig. 10-01.csv</td><td>Fig. 10-01.csv</td><td>2510</td><td>1731616424000</td></tr><tr><td>dbfs:/FileStore/Fall_2024_DS625_Team_01/Fall_2024_DS625_Team_01-main/data/daphne/Fig. 10-03 data, 12.csv</td><td>Fig. 10-03 data, 12.csv</td><td>5679</td><td>1731616424000</td></tr><tr><td>dbfs:/FileStore/Fall_2024_DS625_Team_01/Fall_2024_DS625_Team_01-main/data/daphne/Fig. 10-03 data, 75.csv</td><td>Fig. 10-03 data, 75.csv</td><td>8274</td><td>1731616421000</td></tr><tr><td>dbfs:/FileStore/Fall_2024_DS625_Team_01/Fall_2024_DS625_Team_01-main/data/daphne/Fig. 10-03 data, 87.csv</td><td>Fig. 10-03 data, 87.csv</td><td>22008</td><td>1731616424000</td></tr><tr><td>dbfs:/FileStore/Fall_2024_DS625_Team_01/Fall_2024_DS625_Team_01-main/data/daphne/Fig. 10-03 data, 91.csv</td><td>Fig. 10-03 data, 91.csv</td><td>14107</td><td>1731616418000</td></tr><tr><td>dbfs:/FileStore/Fall_2024_DS625_Team_01/Fall_2024_DS625_Team_01-main/data/daphne/Fig. 10-04.csv</td><td>Fig. 10-04.csv</td><td>569</td><td>1731616419000</td></tr><tr><td>dbfs:/FileStore/Fall_2024_DS625_Team_01/Fall_2024_DS625_Team_01-main/data/daphne/Fig. 10-05.csv</td><td>Fig. 10-05.csv</td><td>2553</td><td>1731616419000</td></tr><tr><td>dbfs:/FileStore/Fall_2024_DS625_Team_01/Fall_2024_DS625_Team_01-main/data/daphne/Fig. 10-06.csv</td><td>Fig. 10-06.csv</td><td>1641</td><td>1731616420000</td></tr><tr><td>dbfs:/FileStore/Fall_2024_DS625_Team_01/Fall_2024_DS625_Team_01-main/data/daphne/Fig. 10-07.csv</td><td>Fig. 10-07.csv</td><td>2417</td><td>1731616416000</td></tr><tr><td>dbfs:/FileStore/Fall_2024_DS625_Team_01/Fall_2024_DS625_Team_01-main/data/daphne/Fig. 10-08.csv</td><td>Fig. 10-08.csv</td><td>2287</td><td>1731616424000</td></tr><tr><td>dbfs:/FileStore/Fall_2024_DS625_Team_01/Fall_2024_DS625_Team_01-main/data/daphne/Fig. 10-09.csv</td><td>Fig. 10-09.csv</td><td>3267</td><td>1731616422000</td></tr><tr><td>dbfs:/FileStore/Fall_2024_DS625_Team_01/Fall_2024_DS625_Team_01-main/data/daphne/Fig. 10-10.csv</td><td>Fig. 10-10.csv</td><td>1349</td><td>1731616422000</td></tr><tr><td>dbfs:/FileStore/Fall_2024_DS625_Team_01/Fall_2024_DS625_Team_01-main/data/daphne/Fig. 10-11.csv</td><td>Fig. 10-11.csv</td><td>1026</td><td>1731616420000</td></tr><tr><td>dbfs:/FileStore/Fall_2024_DS625_Team_01/Fall_2024_DS625_Team_01-main/data/daphne/Fig. 10-12.csv</td><td>Fig. 10-12.csv</td><td>1294</td><td>1731616418000</td></tr><tr><td>dbfs:/FileStore/Fall_2024_DS625_Team_01/Fall_2024_DS625_Team_01-main/data/daphne/Fig. 11-01.csv</td><td>Fig. 11-01.csv</td><td>2178</td><td>1731616416000</td></tr><tr><td>dbfs:/FileStore/Fall_2024_DS625_Team_01/Fall_2024_DS625_Team_01-main/data/daphne/Fig. 11-02.csv</td><td>Fig. 11-02.csv</td><td>2165</td><td>1731616415000</td></tr><tr><td>dbfs:/FileStore/Fall_2024_DS625_Team_01/Fall_2024_DS625_Team_01-main/data/daphne/Fig. 11-03.csv</td><td>Fig. 11-03.csv</td><td>1489</td><td>1731616415000</td></tr><tr><td>dbfs:/FileStore/Fall_2024_DS625_Team_01/Fall_2024_DS625_Team_01-main/data/daphne/Fig. 11-04.csv</td><td>Fig. 11-04.csv</td><td>1940</td><td>1731616425000</td></tr><tr><td>dbfs:/FileStore/Fall_2024_DS625_Team_01/Fall_2024_DS625_Team_01-main/data/daphne/Fig. 11-05.csv</td><td>Fig. 11-05.csv</td><td>1316</td><td>1731616423000</td></tr><tr><td>dbfs:/FileStore/Fall_2024_DS625_Team_01/Fall_2024_DS625_Team_01-main/data/daphne/Fig. 11-07.csv</td><td>Fig. 11-07.csv</td><td>1997</td><td>1731616418000</td></tr><tr><td>dbfs:/FileStore/Fall_2024_DS625_Team_01/Fall_2024_DS625_Team_01-main/data/daphne/Fig. 11-08.csv</td><td>Fig. 11-08.csv</td><td>3302</td><td>1731616423000</td></tr><tr><td>dbfs:/FileStore/Fall_2024_DS625_Team_01/Fall_2024_DS625_Team_01-main/data/daphne/Fig. 11-09.csv</td><td>Fig. 11-09.csv</td><td>1832</td><td>1731616418000</td></tr><tr><td>dbfs:/FileStore/Fall_2024_DS625_Team_01/Fall_2024_DS625_Team_01-main/data/daphne/Fig. 11-10.csv</td><td>Fig. 11-10.csv</td><td>1201</td><td>1731616423000</td></tr><tr><td>dbfs:/FileStore/Fall_2024_DS625_Team_01/Fall_2024_DS625_Team_01-main/data/daphne/Fig. 11-11.csv</td><td>Fig. 11-11.csv</td><td>3649</td><td>1731616415000</td></tr><tr><td>dbfs:/FileStore/Fall_2024_DS625_Team_01/Fall_2024_DS625_Team_01-main/data/daphne/Fig. 11-12.csv</td><td>Fig. 11-12.csv</td><td>5259</td><td>1731616415000</td></tr><tr><td>dbfs:/FileStore/Fall_2024_DS625_Team_01/Fall_2024_DS625_Team_01-main/data/daphne/Fig. 12-05.csv</td><td>Fig. 12-05.csv</td><td>19010</td><td>1731616416000</td></tr><tr><td>dbfs:/FileStore/Fall_2024_DS625_Team_01/Fall_2024_DS625_Team_01-main/data/daphne/Fig. 13-13.csv</td><td>Fig. 13-13.csv</td><td>542</td><td>1731616425000</td></tr><tr><td>dbfs:/FileStore/Fall_2024_DS625_Team_01/Fall_2024_DS625_Team_01-main/data/daphne/Fig. 13-14.csv</td><td>Fig. 13-14.csv</td><td>518</td><td>1731616421000</td></tr><tr><td>dbfs:/FileStore/Fall_2024_DS625_Team_01/Fall_2024_DS625_Team_01-main/data/daphne/Fig. 13-15.csv</td><td>Fig. 13-15.csv</td><td>73</td><td>1731616414000</td></tr><tr><td>dbfs:/FileStore/Fall_2024_DS625_Team_01/Fall_2024_DS625_Team_01-main/data/daphne/Fig. 13-17.csv</td><td>Fig. 13-17.csv</td><td>619</td><td>1731616417000</td></tr><tr><td>dbfs:/FileStore/Fall_2024_DS625_Team_01/Fall_2024_DS625_Team_01-main/data/daphne/Fig. 14-01.csv</td><td>Fig. 14-01.csv</td><td>565</td><td>1731616420000</td></tr><tr><td>dbfs:/FileStore/Fall_2024_DS625_Team_01/Fall_2024_DS625_Team_01-main/data/daphne/Fig. 14-02.csv</td><td>Fig. 14-02.csv</td><td>2146</td><td>1731616420000</td></tr><tr><td>dbfs:/FileStore/Fall_2024_DS625_Team_01/Fall_2024_DS625_Team_01-main/data/daphne/Fig. 14-03.csv</td><td>Fig. 14-03.csv</td><td>2231</td><td>1731616418000</td></tr><tr><td>dbfs:/FileStore/Fall_2024_DS625_Team_01/Fall_2024_DS625_Team_01-main/data/daphne/Fig. 17-02.csv</td><td>Fig. 17-02.csv</td><td>2058</td><td>1731616417000</td></tr><tr><td>dbfs:/FileStore/Fall_2024_DS625_Team_01/Fall_2024_DS625_Team_01-main/data/daphne/Fig. 17-03.csv</td><td>Fig. 17-03.csv</td><td>1700</td><td>1731616417000</td></tr><tr><td>dbfs:/FileStore/Fall_2024_DS625_Team_01/Fall_2024_DS625_Team_01-main/data/daphne/Fig. A-03-03.csv</td><td>Fig. A-03-03.csv</td><td>329</td><td>1731616422000</td></tr><tr><td>dbfs:/FileStore/Fall_2024_DS625_Team_01/Fall_2024_DS625_Team_01-main/data/daphne/Fig. A-17-01.csv</td><td>Fig. A-17-01.csv</td><td>738</td><td>1731616418000</td></tr><tr><td>dbfs:/FileStore/Fall_2024_DS625_Team_01/Fall_2024_DS625_Team_01-main/data/daphne/Fig. B1-02.csv</td><td>Fig. B1-02.csv</td><td>1623</td><td>1731616416000</td></tr><tr><td>dbfs:/FileStore/Fall_2024_DS625_Team_01/Fall_2024_DS625_Team_01-main/data/daphne/Readme for files.txt</td><td>Readme for files.txt</td><td>4398</td><td>1731616417000</td></tr></tbody></table></div>"
      ]
     },
     "metadata": {
      "application/vnd.databricks.v1+output": {
       "addedWidgets": {},
       "aggData": [],
       "aggError": "",
       "aggOverflow": false,
       "aggSchema": [],
       "aggSeriesLimitReached": false,
       "aggType": "",
       "arguments": {},
       "columnCustomDisplayInfos": {},
       "data": [
        [
         "dbfs:/FileStore/Fall_2024_DS625_Team_01/Fall_2024_DS625_Team_01-main/data/daphne/Fig. 01-06 (also 7.3).csv",
         "Fig. 01-06 (also 7.3).csv",
         1940,
         1731616415000
        ],
        [
         "dbfs:/FileStore/Fall_2024_DS625_Team_01/Fall_2024_DS625_Team_01-main/data/daphne/Fig. 01-07.csv",
         "Fig. 01-07.csv",
         1996,
         1731616421000
        ],
        [
         "dbfs:/FileStore/Fall_2024_DS625_Team_01/Fall_2024_DS625_Team_01-main/data/daphne/Fig. 02-01.csv",
         "Fig. 02-01.csv",
         645,
         1731616420000
        ],
        [
         "dbfs:/FileStore/Fall_2024_DS625_Team_01/Fall_2024_DS625_Team_01-main/data/daphne/Fig. 02-02.csv",
         "Fig. 02-02.csv",
         1544,
         1731616420000
        ],
        [
         "dbfs:/FileStore/Fall_2024_DS625_Team_01/Fall_2024_DS625_Team_01-main/data/daphne/Fig. 02-09.csv",
         "Fig. 02-09.csv",
         137,
         1731616420000
        ],
        [
         "dbfs:/FileStore/Fall_2024_DS625_Team_01/Fall_2024_DS625_Team_01-main/data/daphne/Fig. 02-11.csv",
         "Fig. 02-11.csv",
         355,
         1731616419000
        ],
        [
         "dbfs:/FileStore/Fall_2024_DS625_Team_01/Fall_2024_DS625_Team_01-main/data/daphne/Fig. 02-15.csv",
         "Fig. 02-15.csv",
         128,
         1731616414000
        ],
        [
         "dbfs:/FileStore/Fall_2024_DS625_Team_01/Fall_2024_DS625_Team_01-main/data/daphne/Fig. 03-01.csv",
         "Fig. 03-01.csv",
         291,
         1731616421000
        ],
        [
         "dbfs:/FileStore/Fall_2024_DS625_Team_01/Fall_2024_DS625_Team_01-main/data/daphne/Fig. 03-02.csv",
         "Fig. 03-02.csv",
         371,
         1731616419000
        ],
        [
         "dbfs:/FileStore/Fall_2024_DS625_Team_01/Fall_2024_DS625_Team_01-main/data/daphne/Fig. 03-03 fortis.csv",
         "Fig. 03-03 fortis.csv",
         18745,
         1731616420000
        ],
        [
         "dbfs:/FileStore/Fall_2024_DS625_Team_01/Fall_2024_DS625_Team_01-main/data/daphne/Fig. 03-03scand.csv",
         "Fig. 03-03scand.csv",
         8445,
         1731616421000
        ],
        [
         "dbfs:/FileStore/Fall_2024_DS625_Team_01/Fall_2024_DS625_Team_01-main/data/daphne/Fig. 03-04.csv",
         "Fig. 03-04.csv",
         242,
         1731616424000
        ],
        [
         "dbfs:/FileStore/Fall_2024_DS625_Team_01/Fall_2024_DS625_Team_01-main/data/daphne/Fig. 04-04.csv",
         "Fig. 04-04.csv",
         1099,
         1731616416000
        ],
        [
         "dbfs:/FileStore/Fall_2024_DS625_Team_01/Fall_2024_DS625_Team_01-main/data/daphne/Fig. 04-05.csv",
         "Fig. 04-05.csv",
         1033,
         1731616417000
        ],
        [
         "dbfs:/FileStore/Fall_2024_DS625_Team_01/Fall_2024_DS625_Team_01-main/data/daphne/Fig. 04-06.csv",
         "Fig. 04-06.csv",
         344,
         1731616425000
        ],
        [
         "dbfs:/FileStore/Fall_2024_DS625_Team_01/Fall_2024_DS625_Team_01-main/data/daphne/Fig. 04-12.csv",
         "Fig. 04-12.csv",
         350,
         1731616415000
        ],
        [
         "dbfs:/FileStore/Fall_2024_DS625_Team_01/Fall_2024_DS625_Team_01-main/data/daphne/Fig. 04-13.csv",
         "Fig. 04-13.csv",
         241,
         1731616422000
        ],
        [
         "dbfs:/FileStore/Fall_2024_DS625_Team_01/Fall_2024_DS625_Team_01-main/data/daphne/Fig. 04-14.csv",
         "Fig. 04-14.csv",
         180,
         1731616418000
        ],
        [
         "dbfs:/FileStore/Fall_2024_DS625_Team_01/Fall_2024_DS625_Team_01-main/data/daphne/Fig. 05-02.csv",
         "Fig. 05-02.csv",
         1455,
         1731616421000
        ],
        [
         "dbfs:/FileStore/Fall_2024_DS625_Team_01/Fall_2024_DS625_Team_01-main/data/daphne/Fig. 05-03.csv",
         "Fig. 05-03.csv",
         283,
         1731616424000
        ],
        [
         "dbfs:/FileStore/Fall_2024_DS625_Team_01/Fall_2024_DS625_Team_01-main/data/daphne/Fig. 05-04.csv",
         "Fig. 05-04.csv",
         1739,
         1731616415000
        ],
        [
         "dbfs:/FileStore/Fall_2024_DS625_Team_01/Fall_2024_DS625_Team_01-main/data/daphne/Fig. 05-05.csv",
         "Fig. 05-05.csv",
         891,
         1731616422000
        ],
        [
         "dbfs:/FileStore/Fall_2024_DS625_Team_01/Fall_2024_DS625_Team_01-main/data/daphne/Fig. 05-06.csv",
         "Fig. 05-06.csv",
         1104,
         1731616424000
        ],
        [
         "dbfs:/FileStore/Fall_2024_DS625_Team_01/Fall_2024_DS625_Team_01-main/data/daphne/Fig. 05-07.csv",
         "Fig. 05-07.csv",
         918,
         1731616416000
        ],
        [
         "dbfs:/FileStore/Fall_2024_DS625_Team_01/Fall_2024_DS625_Team_01-main/data/daphne/Fig. 05-08.csv",
         "Fig. 05-08.csv",
         503,
         1731616415000
        ],
        [
         "dbfs:/FileStore/Fall_2024_DS625_Team_01/Fall_2024_DS625_Team_01-main/data/daphne/Fig. 05-09.csv",
         "Fig. 05-09.csv",
         451,
         1731616424000
        ],
        [
         "dbfs:/FileStore/Fall_2024_DS625_Team_01/Fall_2024_DS625_Team_01-main/data/daphne/Fig. 05-14.csv",
         "Fig. 05-14.csv",
         763,
         1731616423000
        ],
        [
         "dbfs:/FileStore/Fall_2024_DS625_Team_01/Fall_2024_DS625_Team_01-main/data/daphne/Fig. 05-15.csv",
         "Fig. 05-15.csv",
         705,
         1731616421000
        ],
        [
         "dbfs:/FileStore/Fall_2024_DS625_Team_01/Fall_2024_DS625_Team_01-main/data/daphne/Fig. 06-01.csv",
         "Fig. 06-01.csv",
         248,
         1731616419000
        ],
        [
         "dbfs:/FileStore/Fall_2024_DS625_Team_01/Fall_2024_DS625_Team_01-main/data/daphne/Fig. 06-03.csv",
         "Fig. 06-03.csv",
         105,
         1731616422000
        ],
        [
         "dbfs:/FileStore/Fall_2024_DS625_Team_01/Fall_2024_DS625_Team_01-main/data/daphne/Fig. 06-04.csv",
         "Fig. 06-04.csv",
         248,
         1731616419000
        ],
        [
         "dbfs:/FileStore/Fall_2024_DS625_Team_01/Fall_2024_DS625_Team_01-main/data/daphne/Fig. 06-05.csv",
         "Fig. 06-05.csv",
         387,
         1731616418000
        ],
        [
         "dbfs:/FileStore/Fall_2024_DS625_Team_01/Fall_2024_DS625_Team_01-main/data/daphne/Fig. 06-06.csv",
         "Fig. 06-06.csv",
         725,
         1731616425000
        ],
        [
         "dbfs:/FileStore/Fall_2024_DS625_Team_01/Fall_2024_DS625_Team_01-main/data/daphne/Fig. 06-07.csv",
         "Fig. 06-07.csv",
         179,
         1731616417000
        ],
        [
         "dbfs:/FileStore/Fall_2024_DS625_Team_01/Fall_2024_DS625_Team_01-main/data/daphne/Fig. 06-09.csv",
         "Fig. 06-09.csv",
         435,
         1731616424000
        ],
        [
         "dbfs:/FileStore/Fall_2024_DS625_Team_01/Fall_2024_DS625_Team_01-main/data/daphne/Fig. 06-11.csv",
         "Fig. 06-11.csv",
         358,
         1731616417000
        ],
        [
         "dbfs:/FileStore/Fall_2024_DS625_Team_01/Fall_2024_DS625_Team_01-main/data/daphne/Fig. 07-01.csv",
         "Fig. 07-01.csv",
         932,
         1731616425000
        ],
        [
         "dbfs:/FileStore/Fall_2024_DS625_Team_01/Fall_2024_DS625_Team_01-main/data/daphne/Fig. 07-05.csv",
         "Fig. 07-05.csv",
         465,
         1731616423000
        ],
        [
         "dbfs:/FileStore/Fall_2024_DS625_Team_01/Fall_2024_DS625_Team_01-main/data/daphne/Fig. 07-06.csv",
         "Fig. 07-06.csv",
         517,
         1731616423000
        ],
        [
         "dbfs:/FileStore/Fall_2024_DS625_Team_01/Fall_2024_DS625_Team_01-main/data/daphne/Fig. 08-10.csv",
         "Fig. 08-10.csv",
         127,
         1731616421000
        ],
        [
         "dbfs:/FileStore/Fall_2024_DS625_Team_01/Fall_2024_DS625_Team_01-main/data/daphne/Fig. 08-11.csv",
         "Fig. 08-11.csv",
         681,
         1731616422000
        ],
        [
         "dbfs:/FileStore/Fall_2024_DS625_Team_01/Fall_2024_DS625_Team_01-main/data/daphne/Fig. 08-12 lower.csv",
         "Fig. 08-12 lower.csv",
         895,
         1731616423000
        ],
        [
         "dbfs:/FileStore/Fall_2024_DS625_Team_01/Fall_2024_DS625_Team_01-main/data/daphne/Fig. 09-03.csv",
         "Fig. 09-03.csv",
         2422,
         1731616425000
        ],
        [
         "dbfs:/FileStore/Fall_2024_DS625_Team_01/Fall_2024_DS625_Team_01-main/data/daphne/Fig. 09-06.csv",
         "Fig. 09-06.csv",
         3780,
         1731616422000
        ],
        [
         "dbfs:/FileStore/Fall_2024_DS625_Team_01/Fall_2024_DS625_Team_01-main/data/daphne/Fig. 10-01.csv",
         "Fig. 10-01.csv",
         2510,
         1731616424000
        ],
        [
         "dbfs:/FileStore/Fall_2024_DS625_Team_01/Fall_2024_DS625_Team_01-main/data/daphne/Fig. 10-03 data, 12.csv",
         "Fig. 10-03 data, 12.csv",
         5679,
         1731616424000
        ],
        [
         "dbfs:/FileStore/Fall_2024_DS625_Team_01/Fall_2024_DS625_Team_01-main/data/daphne/Fig. 10-03 data, 75.csv",
         "Fig. 10-03 data, 75.csv",
         8274,
         1731616421000
        ],
        [
         "dbfs:/FileStore/Fall_2024_DS625_Team_01/Fall_2024_DS625_Team_01-main/data/daphne/Fig. 10-03 data, 87.csv",
         "Fig. 10-03 data, 87.csv",
         22008,
         1731616424000
        ],
        [
         "dbfs:/FileStore/Fall_2024_DS625_Team_01/Fall_2024_DS625_Team_01-main/data/daphne/Fig. 10-03 data, 91.csv",
         "Fig. 10-03 data, 91.csv",
         14107,
         1731616418000
        ],
        [
         "dbfs:/FileStore/Fall_2024_DS625_Team_01/Fall_2024_DS625_Team_01-main/data/daphne/Fig. 10-04.csv",
         "Fig. 10-04.csv",
         569,
         1731616419000
        ],
        [
         "dbfs:/FileStore/Fall_2024_DS625_Team_01/Fall_2024_DS625_Team_01-main/data/daphne/Fig. 10-05.csv",
         "Fig. 10-05.csv",
         2553,
         1731616419000
        ],
        [
         "dbfs:/FileStore/Fall_2024_DS625_Team_01/Fall_2024_DS625_Team_01-main/data/daphne/Fig. 10-06.csv",
         "Fig. 10-06.csv",
         1641,
         1731616420000
        ],
        [
         "dbfs:/FileStore/Fall_2024_DS625_Team_01/Fall_2024_DS625_Team_01-main/data/daphne/Fig. 10-07.csv",
         "Fig. 10-07.csv",
         2417,
         1731616416000
        ],
        [
         "dbfs:/FileStore/Fall_2024_DS625_Team_01/Fall_2024_DS625_Team_01-main/data/daphne/Fig. 10-08.csv",
         "Fig. 10-08.csv",
         2287,
         1731616424000
        ],
        [
         "dbfs:/FileStore/Fall_2024_DS625_Team_01/Fall_2024_DS625_Team_01-main/data/daphne/Fig. 10-09.csv",
         "Fig. 10-09.csv",
         3267,
         1731616422000
        ],
        [
         "dbfs:/FileStore/Fall_2024_DS625_Team_01/Fall_2024_DS625_Team_01-main/data/daphne/Fig. 10-10.csv",
         "Fig. 10-10.csv",
         1349,
         1731616422000
        ],
        [
         "dbfs:/FileStore/Fall_2024_DS625_Team_01/Fall_2024_DS625_Team_01-main/data/daphne/Fig. 10-11.csv",
         "Fig. 10-11.csv",
         1026,
         1731616420000
        ],
        [
         "dbfs:/FileStore/Fall_2024_DS625_Team_01/Fall_2024_DS625_Team_01-main/data/daphne/Fig. 10-12.csv",
         "Fig. 10-12.csv",
         1294,
         1731616418000
        ],
        [
         "dbfs:/FileStore/Fall_2024_DS625_Team_01/Fall_2024_DS625_Team_01-main/data/daphne/Fig. 11-01.csv",
         "Fig. 11-01.csv",
         2178,
         1731616416000
        ],
        [
         "dbfs:/FileStore/Fall_2024_DS625_Team_01/Fall_2024_DS625_Team_01-main/data/daphne/Fig. 11-02.csv",
         "Fig. 11-02.csv",
         2165,
         1731616415000
        ],
        [
         "dbfs:/FileStore/Fall_2024_DS625_Team_01/Fall_2024_DS625_Team_01-main/data/daphne/Fig. 11-03.csv",
         "Fig. 11-03.csv",
         1489,
         1731616415000
        ],
        [
         "dbfs:/FileStore/Fall_2024_DS625_Team_01/Fall_2024_DS625_Team_01-main/data/daphne/Fig. 11-04.csv",
         "Fig. 11-04.csv",
         1940,
         1731616425000
        ],
        [
         "dbfs:/FileStore/Fall_2024_DS625_Team_01/Fall_2024_DS625_Team_01-main/data/daphne/Fig. 11-05.csv",
         "Fig. 11-05.csv",
         1316,
         1731616423000
        ],
        [
         "dbfs:/FileStore/Fall_2024_DS625_Team_01/Fall_2024_DS625_Team_01-main/data/daphne/Fig. 11-07.csv",
         "Fig. 11-07.csv",
         1997,
         1731616418000
        ],
        [
         "dbfs:/FileStore/Fall_2024_DS625_Team_01/Fall_2024_DS625_Team_01-main/data/daphne/Fig. 11-08.csv",
         "Fig. 11-08.csv",
         3302,
         1731616423000
        ],
        [
         "dbfs:/FileStore/Fall_2024_DS625_Team_01/Fall_2024_DS625_Team_01-main/data/daphne/Fig. 11-09.csv",
         "Fig. 11-09.csv",
         1832,
         1731616418000
        ],
        [
         "dbfs:/FileStore/Fall_2024_DS625_Team_01/Fall_2024_DS625_Team_01-main/data/daphne/Fig. 11-10.csv",
         "Fig. 11-10.csv",
         1201,
         1731616423000
        ],
        [
         "dbfs:/FileStore/Fall_2024_DS625_Team_01/Fall_2024_DS625_Team_01-main/data/daphne/Fig. 11-11.csv",
         "Fig. 11-11.csv",
         3649,
         1731616415000
        ],
        [
         "dbfs:/FileStore/Fall_2024_DS625_Team_01/Fall_2024_DS625_Team_01-main/data/daphne/Fig. 11-12.csv",
         "Fig. 11-12.csv",
         5259,
         1731616415000
        ],
        [
         "dbfs:/FileStore/Fall_2024_DS625_Team_01/Fall_2024_DS625_Team_01-main/data/daphne/Fig. 12-05.csv",
         "Fig. 12-05.csv",
         19010,
         1731616416000
        ],
        [
         "dbfs:/FileStore/Fall_2024_DS625_Team_01/Fall_2024_DS625_Team_01-main/data/daphne/Fig. 13-13.csv",
         "Fig. 13-13.csv",
         542,
         1731616425000
        ],
        [
         "dbfs:/FileStore/Fall_2024_DS625_Team_01/Fall_2024_DS625_Team_01-main/data/daphne/Fig. 13-14.csv",
         "Fig. 13-14.csv",
         518,
         1731616421000
        ],
        [
         "dbfs:/FileStore/Fall_2024_DS625_Team_01/Fall_2024_DS625_Team_01-main/data/daphne/Fig. 13-15.csv",
         "Fig. 13-15.csv",
         73,
         1731616414000
        ],
        [
         "dbfs:/FileStore/Fall_2024_DS625_Team_01/Fall_2024_DS625_Team_01-main/data/daphne/Fig. 13-17.csv",
         "Fig. 13-17.csv",
         619,
         1731616417000
        ],
        [
         "dbfs:/FileStore/Fall_2024_DS625_Team_01/Fall_2024_DS625_Team_01-main/data/daphne/Fig. 14-01.csv",
         "Fig. 14-01.csv",
         565,
         1731616420000
        ],
        [
         "dbfs:/FileStore/Fall_2024_DS625_Team_01/Fall_2024_DS625_Team_01-main/data/daphne/Fig. 14-02.csv",
         "Fig. 14-02.csv",
         2146,
         1731616420000
        ],
        [
         "dbfs:/FileStore/Fall_2024_DS625_Team_01/Fall_2024_DS625_Team_01-main/data/daphne/Fig. 14-03.csv",
         "Fig. 14-03.csv",
         2231,
         1731616418000
        ],
        [
         "dbfs:/FileStore/Fall_2024_DS625_Team_01/Fall_2024_DS625_Team_01-main/data/daphne/Fig. 17-02.csv",
         "Fig. 17-02.csv",
         2058,
         1731616417000
        ],
        [
         "dbfs:/FileStore/Fall_2024_DS625_Team_01/Fall_2024_DS625_Team_01-main/data/daphne/Fig. 17-03.csv",
         "Fig. 17-03.csv",
         1700,
         1731616417000
        ],
        [
         "dbfs:/FileStore/Fall_2024_DS625_Team_01/Fall_2024_DS625_Team_01-main/data/daphne/Fig. A-03-03.csv",
         "Fig. A-03-03.csv",
         329,
         1731616422000
        ],
        [
         "dbfs:/FileStore/Fall_2024_DS625_Team_01/Fall_2024_DS625_Team_01-main/data/daphne/Fig. A-17-01.csv",
         "Fig. A-17-01.csv",
         738,
         1731616418000
        ],
        [
         "dbfs:/FileStore/Fall_2024_DS625_Team_01/Fall_2024_DS625_Team_01-main/data/daphne/Fig. B1-02.csv",
         "Fig. B1-02.csv",
         1623,
         1731616416000
        ],
        [
         "dbfs:/FileStore/Fall_2024_DS625_Team_01/Fall_2024_DS625_Team_01-main/data/daphne/Readme for files.txt",
         "Readme for files.txt",
         4398,
         1731616417000
        ]
       ],
       "datasetInfos": [],
       "dbfsResultPath": null,
       "isJsonSchema": true,
       "metadata": {},
       "overflow": false,
       "plotOptions": {
        "customPlotOptions": {},
        "displayType": "table",
        "pivotAggregation": null,
        "pivotColumns": null,
        "xColumns": null,
        "yColumns": null
       },
       "removedWidgets": [],
       "schema": [
        {
         "metadata": "{}",
         "name": "path",
         "type": "\"string\""
        },
        {
         "metadata": "{}",
         "name": "name",
         "type": "\"string\""
        },
        {
         "metadata": "{}",
         "name": "size",
         "type": "\"long\""
        },
        {
         "metadata": "{}",
         "name": "modificationTime",
         "type": "\"long\""
        }
       ],
       "type": "table"
      }
     },
     "output_type": "display_data"
    },
    {
     "output_type": "stream",
     "name": "stdout",
     "output_type": "stream",
     "text": [
      "\nListing files in dbfs:/FileStore/Fall_2024_DS625_Team_01/Fall_2024_DS625_Team_01-main/data/forage:\n"
     ]
    },
    {
     "output_type": "display_data",
     "data": {
      "text/html": [
       "<style scoped>\n",
       "  .table-result-container {\n",
       "    max-height: 300px;\n",
       "    overflow: auto;\n",
       "  }\n",
       "  table, th, td {\n",
       "    border: 1px solid black;\n",
       "    border-collapse: collapse;\n",
       "  }\n",
       "  th, td {\n",
       "    padding: 5px;\n",
       "  }\n",
       "  th {\n",
       "    text-align: left;\n",
       "  }\n",
       "</style><div class='table-result-container'><table class='table-result'><thead style='background-color: white'><tr><th>path</th><th>name</th><th>size</th><th>modificationTime</th></tr></thead><tbody><tr><td>dbfs:/FileStore/Fall_2024_DS625_Team_01/Fall_2024_DS625_Team_01-main/data/forage/DRYAD_Darwin_s_finch_foraging_behaviour_and_naris_size.xlsx</td><td>DRYAD_Darwin_s_finch_foraging_behaviour_and_naris_size.xlsx</td><td>210107</td><td>1731616414000</td></tr></tbody></table></div>"
      ]
     },
     "metadata": {
      "application/vnd.databricks.v1+output": {
       "addedWidgets": {},
       "aggData": [],
       "aggError": "",
       "aggOverflow": false,
       "aggSchema": [],
       "aggSeriesLimitReached": false,
       "aggType": "",
       "arguments": {},
       "columnCustomDisplayInfos": {},
       "data": [
        [
         "dbfs:/FileStore/Fall_2024_DS625_Team_01/Fall_2024_DS625_Team_01-main/data/forage/DRYAD_Darwin_s_finch_foraging_behaviour_and_naris_size.xlsx",
         "DRYAD_Darwin_s_finch_foraging_behaviour_and_naris_size.xlsx",
         210107,
         1731616414000
        ]
       ],
       "datasetInfos": [],
       "dbfsResultPath": null,
       "isJsonSchema": true,
       "metadata": {},
       "overflow": false,
       "plotOptions": {
        "customPlotOptions": {},
        "displayType": "table",
        "pivotAggregation": null,
        "pivotColumns": null,
        "xColumns": null,
        "yColumns": null
       },
       "removedWidgets": [],
       "schema": [
        {
         "metadata": "{}",
         "name": "path",
         "type": "\"string\""
        },
        {
         "metadata": "{}",
         "name": "name",
         "type": "\"string\""
        },
        {
         "metadata": "{}",
         "name": "size",
         "type": "\"long\""
        },
        {
         "metadata": "{}",
         "name": "modificationTime",
         "type": "\"long\""
        }
       ],
       "type": "table"
      }
     },
     "output_type": "display_data"
    },
    {
     "output_type": "stream",
     "name": "stdout",
     "output_type": "stream",
     "text": [
      "\nListing files in dbfs:/FileStore/Fall_2024_DS625_Team_01/Fall_2024_DS625_Team_01-main/data/hybrid:\n"
     ]
    },
    {
     "output_type": "display_data",
     "data": {
      "text/html": [
       "<style scoped>\n",
       "  .table-result-container {\n",
       "    max-height: 300px;\n",
       "    overflow: auto;\n",
       "  }\n",
       "  table, th, td {\n",
       "    border: 1px solid black;\n",
       "    border-collapse: collapse;\n",
       "  }\n",
       "  th, td {\n",
       "    padding: 5px;\n",
       "  }\n",
       "  th {\n",
       "    text-align: left;\n",
       "  }\n",
       "</style><div class='table-result-container'><table class='table-result'><thead style='background-color: white'><tr><th>path</th><th>name</th><th>size</th><th>modificationTime</th></tr></thead><tbody><tr><td>dbfs:/FileStore/Fall_2024_DS625_Team_01/Fall_2024_DS625_Team_01-main/data/hybrid/GeneticData_structure.csv</td><td>GeneticData_structure.csv</td><td>38058</td><td>1731616414000</td></tr><tr><td>dbfs:/FileStore/Fall_2024_DS625_Team_01/Fall_2024_DS625_Team_01-main/data/hybrid/MaleAgeBirthYearRainfallassigned.csv</td><td>MaleAgeBirthYearRainfallassigned.csv</td><td>17561</td><td>1731616414000</td></tr></tbody></table></div>"
      ]
     },
     "metadata": {
      "application/vnd.databricks.v1+output": {
       "addedWidgets": {},
       "aggData": [],
       "aggError": "",
       "aggOverflow": false,
       "aggSchema": [],
       "aggSeriesLimitReached": false,
       "aggType": "",
       "arguments": {},
       "columnCustomDisplayInfos": {},
       "data": [
        [
         "dbfs:/FileStore/Fall_2024_DS625_Team_01/Fall_2024_DS625_Team_01-main/data/hybrid/GeneticData_structure.csv",
         "GeneticData_structure.csv",
         38058,
         1731616414000
        ],
        [
         "dbfs:/FileStore/Fall_2024_DS625_Team_01/Fall_2024_DS625_Team_01-main/data/hybrid/MaleAgeBirthYearRainfallassigned.csv",
         "MaleAgeBirthYearRainfallassigned.csv",
         17561,
         1731616414000
        ]
       ],
       "datasetInfos": [],
       "dbfsResultPath": null,
       "isJsonSchema": true,
       "metadata": {},
       "overflow": false,
       "plotOptions": {
        "customPlotOptions": {},
        "displayType": "table",
        "pivotAggregation": null,
        "pivotColumns": null,
        "xColumns": null,
        "yColumns": null
       },
       "removedWidgets": [],
       "schema": [
        {
         "metadata": "{}",
         "name": "path",
         "type": "\"string\""
        },
        {
         "metadata": "{}",
         "name": "name",
         "type": "\"string\""
        },
        {
         "metadata": "{}",
         "name": "size",
         "type": "\"long\""
        },
        {
         "metadata": "{}",
         "name": "modificationTime",
         "type": "\"long\""
        }
       ],
       "type": "table"
      }
     },
     "output_type": "display_data"
    },
    {
     "output_type": "stream",
     "name": "stdout",
     "output_type": "stream",
     "text": [
      "\nListing files in dbfs:/FileStore/Fall_2024_DS625_Team_01/Fall_2024_DS625_Team_01-main/data/kaggle:\n"
     ]
    },
    {
     "output_type": "display_data",
     "data": {
      "text/html": [
       "<style scoped>\n",
       "  .table-result-container {\n",
       "    max-height: 300px;\n",
       "    overflow: auto;\n",
       "  }\n",
       "  table, th, td {\n",
       "    border: 1px solid black;\n",
       "    border-collapse: collapse;\n",
       "  }\n",
       "  th, td {\n",
       "    padding: 5px;\n",
       "  }\n",
       "  th {\n",
       "    text-align: left;\n",
       "  }\n",
       "</style><div class='table-result-container'><table class='table-result'><thead style='background-color: white'><tr><th>path</th><th>name</th><th>size</th><th>modificationTime</th></tr></thead><tbody><tr><td>dbfs:/FileStore/Fall_2024_DS625_Team_01/Fall_2024_DS625_Team_01-main/data/kaggle/finch_beaks_1975.csv</td><td>finch_beaks_1975.csv</td><td>8256</td><td>1731616426000</td></tr><tr><td>dbfs:/FileStore/Fall_2024_DS625_Team_01/Fall_2024_DS625_Team_01-main/data/kaggle/finch_beaks_2012.csv</td><td>finch_beaks_2012.csv</td><td>5608</td><td>1731616425000</td></tr><tr><td>dbfs:/FileStore/Fall_2024_DS625_Team_01/Fall_2024_DS625_Team_01-main/data/kaggle/fortis_beak_depth_heredity.csv</td><td>fortis_beak_depth_heredity.csv</td><td>5881</td><td>1731616426000</td></tr><tr><td>dbfs:/FileStore/Fall_2024_DS625_Team_01/Fall_2024_DS625_Team_01-main/data/kaggle/scandens_beak_depth_heredity.csv</td><td>scandens_beak_depth_heredity.csv</td><td>1850</td><td>1731616425000</td></tr></tbody></table></div>"
      ]
     },
     "metadata": {
      "application/vnd.databricks.v1+output": {
       "addedWidgets": {},
       "aggData": [],
       "aggError": "",
       "aggOverflow": false,
       "aggSchema": [],
       "aggSeriesLimitReached": false,
       "aggType": "",
       "arguments": {},
       "columnCustomDisplayInfos": {},
       "data": [
        [
         "dbfs:/FileStore/Fall_2024_DS625_Team_01/Fall_2024_DS625_Team_01-main/data/kaggle/finch_beaks_1975.csv",
         "finch_beaks_1975.csv",
         8256,
         1731616426000
        ],
        [
         "dbfs:/FileStore/Fall_2024_DS625_Team_01/Fall_2024_DS625_Team_01-main/data/kaggle/finch_beaks_2012.csv",
         "finch_beaks_2012.csv",
         5608,
         1731616425000
        ],
        [
         "dbfs:/FileStore/Fall_2024_DS625_Team_01/Fall_2024_DS625_Team_01-main/data/kaggle/fortis_beak_depth_heredity.csv",
         "fortis_beak_depth_heredity.csv",
         5881,
         1731616426000
        ],
        [
         "dbfs:/FileStore/Fall_2024_DS625_Team_01/Fall_2024_DS625_Team_01-main/data/kaggle/scandens_beak_depth_heredity.csv",
         "scandens_beak_depth_heredity.csv",
         1850,
         1731616425000
        ]
       ],
       "datasetInfos": [],
       "dbfsResultPath": null,
       "isJsonSchema": true,
       "metadata": {},
       "overflow": false,
       "plotOptions": {
        "customPlotOptions": {},
        "displayType": "table",
        "pivotAggregation": null,
        "pivotColumns": null,
        "xColumns": null,
        "yColumns": null
       },
       "removedWidgets": [],
       "schema": [
        {
         "metadata": "{}",
         "name": "path",
         "type": "\"string\""
        },
        {
         "metadata": "{}",
         "name": "name",
         "type": "\"string\""
        },
        {
         "metadata": "{}",
         "name": "size",
         "type": "\"long\""
        },
        {
         "metadata": "{}",
         "name": "modificationTime",
         "type": "\"long\""
        }
       ],
       "type": "table"
      }
     },
     "output_type": "display_data"
    }
   ],
   "source": [
    "folders = [\n",
    "    \"dbfs:/FileStore/Fall_2024_DS625_Team_01/Fall_2024_DS625_Team_01-main/data/daphne\",\n",
    "    \"dbfs:/FileStore/Fall_2024_DS625_Team_01/Fall_2024_DS625_Team_01-main/data/forage\",\n",
    "    \"dbfs:/FileStore/Fall_2024_DS625_Team_01/Fall_2024_DS625_Team_01-main/data/hybrid\",\n",
    "    \"dbfs:/FileStore/Fall_2024_DS625_Team_01/Fall_2024_DS625_Team_01-main/data/kaggle\"\n",
    "]\n",
    "\n",
    "for folder in folders:\n",
    "    print(f\"\\nListing files in {folder}:\")\n",
    "    display(dbutils.fs.ls(folder))"
   ]
  },
  {
   "cell_type": "markdown",
   "metadata": {
    "application/vnd.databricks.v1+cell": {
     "cellMetadata": {},
     "inputWidgets": {},
     "nuid": "d0b18152-2bda-42f7-b5b6-1ae144f71b79",
     "showTitle": false,
     "tableResultSettingsMap": {},
     "title": ""
    }
   },
   "source": [
    "# Inspect each dataset (looping through each folder)"
   ]
  },
  {
   "cell_type": "code",
   "execution_count": 0,
   "metadata": {
    "application/vnd.databricks.v1+cell": {
     "cellMetadata": {
      "byteLimit": 2048000,
      "rowLimit": 10000
     },
     "inputWidgets": {},
     "nuid": "bf8058f3-30f1-442e-a2e5-6ee3daf8105a",
     "showTitle": false,
     "tableResultSettingsMap": {},
     "title": ""
    }
   },
   "outputs": [
    {
     "output_type": "stream",
     "name": "stdout",
     "output_type": "stream",
     "text": [
      "\n--- Processing files in daphne folder ---\n\nLoading file: dbfs:/FileStore/Fall_2024_DS625_Team_01/Fall_2024_DS625_Team_01-main/data/daphne/Fig. 01-06 (also 7.3).csv\n+----+-------+-----------+----------+----------+--------------+-------------+-------------+\n|Year|Species|Beak length|Beak depth|Beak width|CI Beak length|CI Beak depth|CI Beak width|\n+----+-------+-----------+----------+----------+--------------+-------------+-------------+\n|1973| fortis|      10.76|      9.48|      8.69|         0.097|         0.13|        0.081|\n|1974| fortis|      10.72|      9.42|      8.66|         0.144|         0.17|        0.112|\n|1975| fortis|      10.57|      9.19|      8.55|         0.075|        0.084|        0.057|\n|1976| fortis|      10.64|      9.23|      8.58|         0.048|        0.053|        0.039|\n|1977| fortis|      10.73|      9.35|      8.63|         0.085|        0.092|        0.066|\n+----+-------+-----------+----------+----------+--------------+-------------+-------------+\nonly showing top 5 rows\n\nroot\n |-- Year: string (nullable = true)\n |-- Species: string (nullable = true)\n |-- Beak length: string (nullable = true)\n |-- Beak depth: double (nullable = true)\n |-- Beak width: double (nullable = true)\n |-- CI Beak length: double (nullable = true)\n |-- CI Beak depth: double (nullable = true)\n |-- CI Beak width: double (nullable = true)\n\n\nLoading file: dbfs:/FileStore/Fall_2024_DS625_Team_01/Fall_2024_DS625_Team_01-main/data/daphne/Fig. 01-07.csv\n+----+--------+-----------+----------+----------+--------------+-------------+-------------+\n|Year| Species|Beak length|Beak depth|Beak width|CI Beak length|CI Beak depth|CI beak width|\n+----+--------+-----------+----------+----------+--------------+-------------+-------------+\n|1973|scandens|      14.55|      9.28|      8.57|         0.144|        0.149|        0.115|\n|1974|scandens|      14.57|      9.21|      8.58|         0.162|        0.157|        0.129|\n|1975|scandens|      14.14|      8.94|      8.37|         0.163|         0.12|        0.097|\n|1976|scandens|      14.41|      9.06|      8.52|           0.1|        0.074|         0.06|\n|1977|scandens|      14.55|      9.14|       8.6|         0.125|        0.093|        0.075|\n+----+--------+-----------+----------+----------+--------------+-------------+-------------+\nonly showing top 5 rows\n\nroot\n |-- Year: string (nullable = true)\n |-- Species: string (nullable = true)\n |-- Beak length: double (nullable = true)\n |-- Beak depth: double (nullable = true)\n |-- Beak width: double (nullable = true)\n |-- CI Beak length: string (nullable = true)\n |-- CI Beak depth: string (nullable = true)\n |-- CI beak width: string (nullable = true)\n\n\nLoading file: dbfs:/FileStore/Fall_2024_DS625_Team_01/Fall_2024_DS625_Team_01-main/data/daphne/Fig. 02-01.csv\n+----------+-------+-----------+-----------+----+----------+----+--------------+-------------+\n|    Island|Species|Beak length|Sample size| SD4|Beak width| SD6|CI Beak length|CI Beak depth|\n+----------+-------+-----------+-----------+----+----------+----+--------------+-------------+\n|  Floreana| fortis|      11.26|        278| 0.9|      9.56|1.05|          NULL|         NULL|\n|Santa Cruz| fortis|      11.66|        159|0.87|      9.96|0.98|          NULL|         NULL|\n|  Santiago| fortis|      11.16|         85|0.63|      9.56|0.66|          NULL|         NULL|\n|    R�bida| fortis|      11.27|         11|0.47|      9.84|0.45|          NULL|         NULL|\n|   Isabela| fortis|      11.55|        198|1.03|      9.92|1.06|          NULL|         NULL|\n+----------+-------+-----------+-----------+----+----------+----+--------------+-------------+\nonly showing top 5 rows\n\nroot\n |-- Island: string (nullable = true)\n |-- Species: string (nullable = true)\n |-- Beak length: double (nullable = true)\n |-- Sample size: integer (nullable = true)\n |-- SD4: double (nullable = true)\n |-- Beak width: double (nullable = true)\n |-- SD6: double (nullable = true)\n |-- CI Beak length: double (nullable = true)\n |-- CI Beak depth: double (nullable = true)\n\n\nLoading file: dbfs:/FileStore/Fall_2024_DS625_Team_01/Fall_2024_DS625_Team_01-main/data/daphne/Fig. 02-02.csv\n+-----------+----------+----------+----------+-----------+----------+--------+----------+-----------+----------+------------+----------+------------+-----------+---------+--------+----------+-----------+----------+------------+---------------+------------+------------+\n|Beak depth0|Frequency1|  Species2|   Island3|Beak depth4|Frequency5|Species6|   island7|Beak depth8|Frequency9|   Species10|  island11|Beak depth12|Frequency13|Species14|Island15|Bill depth|Frequency17| Species18|    Island19|Mean beak depth|   Species21|    Island22|\n+-----------+----------+----------+----------+-----------+----------+--------+----------+-----------+----------+------------+----------+------------+-----------+---------+--------+----------+-----------+----------+------------+---------------+------------+------------+\n|        2.7|      0.08|fuliginosa|Santa Cruz|        3.9|      0.01|  fortis|Santa Cruz|        6.6|      0.05|magnirostris|Santa Cruz|         3.6|       0.05|   fortis|  Daphne|       2.7|       0.08|fuliginosa|Los Hermanos|            3.3|  fuliginosa|  Santa Cruz|\n|        3.0|      0.12|fuliginosa|Santa Cruz|        4.2|      0.03|  fortis|Santa Cruz|        6.9|      0.14|magnirostris|Santa Cruz|         3.9|       0.15|   fortis|  Daphne|       3.0|       0.17|fuliginosa|Los Hermanos|            5.3|      fortis|  Santa Cruz|\n|        3.3|       0.3|fuliginosa|Santa Cruz|        4.5|      0.11|  fortis|Santa Cruz|        7.2|      0.01|magnirostris|Santa Cruz|         4.2|       0.26|   fortis|  Daphne|       3.3|       0.08|fuliginosa|Los Hermanos|            7.9|magnirostris|  Santa Cruz|\n|        3.6|      0.39|fuliginosa|Santa Cruz|        4.8|       0.2|  fortis|Santa Cruz|        7.5|      0.14|magnirostris|Santa Cruz|         4.5|       0.32|   fortis|  Daphne|       3.6|       0.42|fuliginosa|Los Hermanos|            4.5|      fortis|      Daphne|\n|        3.9|       0.1|fuliginosa|Santa Cruz|        5.1|      0.18|  fortis|Santa Cruz|        7.8|      0.14|magnirostris|Santa Cruz|         4.8|       0.18|   fortis|  Daphne|       3.9|       0.01|fuliginosa|Los Hermanos|            3.6|  fuliginosa|Los Hermanos|\n+-----------+----------+----------+----------+-----------+----------+--------+----------+-----------+----------+------------+----------+------------+-----------+---------+--------+----------+-----------+----------+------------+---------------+------------+------------+\nonly showing top 5 rows\n\nroot\n |-- Beak depth0: double (nullable = true)\n |-- Frequency1: double (nullable = true)\n |-- Species2: string (nullable = true)\n |-- Island3: string (nullable = true)\n |-- Beak depth4: double (nullable = true)\n |-- Frequency5: double (nullable = true)\n |-- Species6: string (nullable = true)\n |-- island7: string (nullable = true)\n |-- Beak depth8: double (nullable = true)\n |-- Frequency9: double (nullable = true)\n |-- Species10: string (nullable = true)\n |-- island11: string (nullable = true)\n |-- Beak depth12: double (nullable = true)\n |-- Frequency13: double (nullable = true)\n |-- Species14: string (nullable = true)\n |-- Island15: string (nullable = true)\n |-- Bill depth: double (nullable = true)\n |-- Frequency17: double (nullable = true)\n |-- Species18: string (nullable = true)\n |-- Island19: string (nullable = true)\n |-- Mean beak depth: double (nullable = true)\n |-- Species21: string (nullable = true)\n |-- Island22: string (nullable = true)\n\n\nLoading file: dbfs:/FileStore/Fall_2024_DS625_Team_01/Fall_2024_DS625_Team_01-main/data/daphne/Fig. 02-09.csv\n+--------------------+------+----------+\n|          Diet items|fortis|fuliginosa|\n+--------------------+------+----------+\n|     Tribulus fruits|   0.2|       0.0|\n|       Opuntia seeds|  0.24|      0.09|\n|Small seeds on gr...|  0.38|      0.27|\n|Small seeds on plant|  0.18|      0.64|\n+--------------------+------+----------+\n\nroot\n |-- Diet items: string (nullable = true)\n |-- fortis: double (nullable = true)\n |-- fuliginosa: double (nullable = true)\n\n\nLoading file: dbfs:/FileStore/Fall_2024_DS625_Team_01/Fall_2024_DS625_Team_01-main/data/daphne/Fig. 02-11.csv\n+-----------+----------+-----------+----------+-----------+-----------+------------+----+----+----+----+----+----+----+\n|�DH classes|Daphne Apr|Borrero Apr|Daphne Dec|Borrero Dec|Daphne July|Borrero July|   7|   8|   9|  10|  11|  12|  13|\n+-----------+----------+-----------+----------+-----------+-----------+------------+----+----+----+----+----+----+----+\n|          1|        19|          0|         0|          0|          5|          35|NULL|NULL|NULL|NULL|NULL|NULL|NULL|\n|          2|        21|         49|         4|          5|         10|          75|NULL|    |    |    |    |    |    |\n|          3|        21|         49|         4|          5|         10|          89|NULL|NULL|NULL|NULL|NULL|NULL|NULL|\n|          4|        41|         76|        79|         16|         26|          97|NULL|NULL|NULL|NULL|NULL|NULL|NULL|\n|          5|        41|         82|        79|         30|         26|          97|NULL|NULL|NULL|NULL|NULL|NULL|NULL|\n+-----------+----------+-----------+----------+-----------+-----------+------------+----+----+----+----+----+----+----+\nonly showing top 5 rows\n\nroot\n |-- �DH classes: integer (nullable = true)\n |-- Daphne Apr: integer (nullable = true)\n |-- Borrero Apr: integer (nullable = true)\n |-- Daphne Dec: integer (nullable = true)\n |-- Borrero Dec: integer (nullable = true)\n |-- Daphne July: integer (nullable = true)\n |-- Borrero July: integer (nullable = true)\n |--  7: string (nullable = true)\n |--  8: string (nullable = true)\n |--  9: string (nullable = true)\n |--  10: string (nullable = true)\n |--  11: string (nullable = true)\n |--  12: string (nullable = true)\n |--  13: string (nullable = true)\n\n\nLoading file: dbfs:/FileStore/Fall_2024_DS625_Team_01/Fall_2024_DS625_Team_01-main/data/daphne/Fig. 02-15.csv\n+----------+----+----+---------------+----+----+----+\n|Beak depth|  SE|  CI|Diet categories| _c4| _c5| _c6|\n+----------+----+----+---------------+----+----+----+\n|      9.28|0.06|0.12|              S|    |NULL|NULL|\n|      9.73|0.12|0.24|             SM|    |    |NULL|\n|      9.95|0.08|0.16|            SML|    |    |    |\n|      NULL|NULL|NULL|           NULL|NULL|NULL|NULL|\n|      NULL|NULL|NULL|           NULL|NULL|NULL|NULL|\n+----------+----+----+---------------+----+----+----+\nonly showing top 5 rows\n\nroot\n |-- Beak depth: string (nullable = true)\n |-- SE: string (nullable = true)\n |-- CI: string (nullable = true)\n |-- Diet categories: string (nullable = true)\n |-- _c4: string (nullable = true)\n |-- _c5: string (nullable = true)\n |-- _c6: string (nullable = true)\n\n\nLoading file: dbfs:/FileStore/Fall_2024_DS625_Team_01/Fall_2024_DS625_Team_01-main/data/daphne/Fig. 03-01.csv\n+------+-------------+-----------+\n|Family|Mid-offspring|Mid-parents|\n+------+-------------+-----------+\n|     1|         10.7|       10.5|\n|     2|          9.5|       9.54|\n|     3|            9|       9.05|\n|     4|         7.65|        9.0|\n|     5|          9.4|        9.9|\n+------+-------------+-----------+\nonly showing top 5 rows\n\nroot\n |-- Family: string (nullable = true)\n |-- Mid-offspring: string (nullable = true)\n |-- Mid-parents: double (nullable = true)\n\n\nLoading file: dbfs:/FileStore/Fall_2024_DS625_Team_01/Fall_2024_DS625_Team_01-main/data/daphne/Fig. 03-02.csv\n+----+-------+-----------+-----------+-----------+\n|year|Average|     95% CI|   upper CL|   lower CL|\n+----+-------+-----------+-----------+-----------+\n|  76|  0.776|0.319744681|1.095744681|0.457446809|\n|  78|  0.843|0.231468085|1.074468085|0.606382979|\n|  81|  0.644| 0.20706383| 0.85106383|0.446808511|\n|  83|  0.747|0.178531915|0.925531915|0.563829787|\n|  84|  0.569|0.239510638|0.808510638|0.340425532|\n+----+-------+-----------+-----------+-----------+\nonly showing top 5 rows\n\nroot\n |-- year: integer (nullable = true)\n |-- Average: string (nullable = true)\n |-- 95% CI: string (nullable = true)\n |-- upper CL: string (nullable = true)\n |-- lower CL: double (nullable = true)\n\n\nLoading file: dbfs:/FileStore/Fall_2024_DS625_Team_01/Fall_2024_DS625_Team_01-main/data/daphne/Fig. 03-03 fortis.csv\n+---------------+-------+----------+--------+-------+-------+---------+----------+----+----+----+\n|Offspring bands|species|Mid-offspr|maleband|Male BD|femband|Female BD|Mid-parent| _c8| _c9|_c10|\n+---------------+-------+----------+--------+-------+-------+---------+----------+----+----+----+\n|         1091.0| fortis|      10.7|     280|   10.9|    528|      9.3|      10.1|NULL|    |    |\n|         3234.3| fortis|      9.78|     282|   10.7|   1527|      8.4|      9.55|NULL|    |    |\n|         4928.0| fortis|      9.48|     282|   10.7|   2245|      8.1|       9.4|NULL|    |    |\n|        10751.0| fortis|       9.6|     282|   10.7|   2447|      9.8|     10.25|NULL|    |NULL|\n|         4947.0| fortis|     10.27|     316|   9.85|   2439|     10.4|     10.13|NULL|NULL|NULL|\n+---------------+-------+----------+--------+-------+-------+---------+----------+----+----+----+\nonly showing top 5 rows\n\nroot\n |-- Offspring bands: double (nullable = true)\n |-- species: string (nullable = true)\n |-- Mid-offspr: double (nullable = true)\n |-- maleband: integer (nullable = true)\n |-- Male BD: double (nullable = true)\n |-- femband: integer (nullable = true)\n |-- Female BD: double (nullable = true)\n |-- Mid-parent: double (nullable = true)\n |-- _c8: string (nullable = true)\n |-- _c9: string (nullable = true)\n |-- _c10: string (nullable = true)\n\n\nLoading file: dbfs:/FileStore/Fall_2024_DS625_Team_01/Fall_2024_DS625_Team_01-main/data/daphne/Fig. 03-03scand.csv\n+---------------+--------+------+-------------+--------+-------+-------+------+----------+----+----+----+\n|offspring bands| species|Family|Mid-offspring|maleband|male BL|femband|fem BL|Mid-parent| _c9|_c10|_c11|\n+---------------+--------+------+-------------+--------+-------+-------+------+----------+----+----+----+\n|        5166.33|scandens|     1|        15.57|     292|  15.25|   3455|  16.1|    15.675|NULL|NULL|NULL|\n|        4407.67|scandens|     2|         14.1|     359|   14.9|    408|  14.0|     14.45|NULL|    |NULL|\n|         5512.0|scandens|     3|         15.8|     363|   14.9|   2543|  14.2|     14.55|NULL|    |NULL|\n|        10394.5|scandens|     4|        12.45|     363|   14.9|   4813|  13.6|     14.25|NULL|    |NULL|\n|        13260.0|scandens|     5|         14.2|     404|  14.75|   1865|  14.9|    14.825|NULL|    |    |\n+---------------+--------+------+-------------+--------+-------+-------+------+----------+----+----+----+\nonly showing top 5 rows\n\nroot\n |-- offspring bands: double (nullable = true)\n |-- species: string (nullable = true)\n |-- Family: integer (nullable = true)\n |-- Mid-offspring: double (nullable = true)\n |-- maleband: integer (nullable = true)\n |-- male BL: double (nullable = true)\n |-- femband: integer (nullable = true)\n |-- fem BL: double (nullable = true)\n |-- Mid-parent: double (nullable = true)\n |-- _c9: string (nullable = true)\n |-- _c10: string (nullable = true)\n |-- _c11: string (nullable = true)\n\n\nLoading file: dbfs:/FileStore/Fall_2024_DS625_Team_01/Fall_2024_DS625_Team_01-main/data/daphne/Fig. 03-04.csv\n+----+-----------+---------+---------+-------------+---------+---------+\n|year|fortis mean|upper CL2|lower CL3|scandens mean|upper CL5|lower CL6|\n+----+-----------+---------+---------+-------------+---------+---------+\n|  76|         10|       15|      5.5|            .|        .|        .|\n|  78|        7.3|     12.1|      5.2|            .|        .|        .|\n|  81|        7.5|     10.5|      5.8|            3|      3.8|      2.4|\n|  83|        7.2|      9.5|      5.9|          2.5|        3|      1.9|\n|  84|        7.2|      9.2|      6.2|            .|        .|        .|\n+----+-----------+---------+---------+-------------+---------+---------+\nonly showing top 5 rows\n\nroot\n |-- year: string (nullable = true)\n |-- fortis mean: string (nullable = true)\n |-- upper CL2: string (nullable = true)\n |-- lower CL3: double (nullable = true)\n |-- scandens mean: string (nullable = true)\n |-- upper CL5: string (nullable = true)\n |-- lower CL6: string (nullable = true)\n\n\nLoading file: dbfs:/FileStore/Fall_2024_DS625_Team_01/Fall_2024_DS625_Team_01-main/data/daphne/Fig. 04-04.csv\n+----+---------+-----+----+---------+----+-------+----+\n|Year|    Month|Males| SE3|All birds| SE5|Females| SE7|\n+----+---------+-----+----+---------+----+-------+----+\n|1975|     July| 0.54|0.05|     0.04|0.04|  -0.24| 0.1|\n|1975|   August| NULL|NULL|     NULL|NULL|   NULL|NULL|\n|1975|September| NULL|NULL|     NULL|NULL|   NULL|NULL|\n|1975|  October| NULL|NULL|     NULL|NULL|   NULL|NULL|\n|1975| November| NULL|NULL|     NULL|NULL|   NULL|NULL|\n+----+---------+-----+----+---------+----+-------+----+\nonly showing top 5 rows\n\nroot\n |-- Year: integer (nullable = true)\n |-- Month: string (nullable = true)\n |-- Males: double (nullable = true)\n |-- SE3: double (nullable = true)\n |-- All birds: double (nullable = true)\n |-- SE5: double (nullable = true)\n |-- Females: double (nullable = true)\n |-- SE7: double (nullable = true)\n\n\nLoading file: dbfs:/FileStore/Fall_2024_DS625_Team_01/Fall_2024_DS625_Team_01-main/data/daphne/Fig. 04-05.csv\n+----+---------+---------------+------+--------------+----+-------------+----+\n|Year|    Month|Population size|95% CI|Seed abundance| SE5|Size-hardness| SE7|\n+----+---------+---------------+------+--------------+----+-------------+----+\n|1975|     July|           1400|   250|          NULL|NULL|         NULL|NULL|\n|1975|   August|           NULL|  NULL|          NULL|NULL|         NULL|NULL|\n|1975|September|           NULL|  NULL|          NULL|NULL|         NULL|NULL|\n|1975|  October|           NULL|  NULL|          NULL|NULL|         NULL|NULL|\n|1975| November|           NULL|  NULL|          NULL|NULL|         NULL|NULL|\n+----+---------+---------------+------+--------------+----+-------------+----+\nonly showing top 5 rows\n\nroot\n |-- Year: integer (nullable = true)\n |-- Month: string (nullable = true)\n |-- Population size: string (nullable = true)\n |-- 95% CI: integer (nullable = true)\n |-- Seed abundance: double (nullable = true)\n |-- SE5: double (nullable = true)\n |-- Size-hardness: double (nullable = true)\n |-- SE7: double (nullable = true)\n\n\nLoading file: dbfs:/FileStore/Fall_2024_DS625_Team_01/Fall_2024_DS625_Team_01-main/data/daphne/Fig. 04-06.csv\n+-----------+---+-------+-------------+-----+\n|Time period|  N|Mean BD|Mean adjusted|   SE|\n+-----------+---+-------+-------------+-----+\n|     Jul-75|214|  9.466|         9.24|0.051|\n|     Jan-76|387|  9.467|         9.24|0.041|\n|     Mar-76|408|  9.465|         9.24| 0.04|\n|     Jun-76|640|  9.418|         9.19|0.033|\n|     Dec-76|442|  9.483|         9.25| 0.04|\n+-----------+---+-------+-------------+-----+\nonly showing top 5 rows\n\nroot\n |-- Time period: string (nullable = true)\n |-- N: integer (nullable = true)\n |-- Mean BD: double (nullable = true)\n |-- Mean adjusted: double (nullable = true)\n |-- SE: double (nullable = true)\n\n\nLoading file: dbfs:/FileStore/Fall_2024_DS625_Team_01/Fall_2024_DS625_Team_01-main/data/daphne/Fig. 04-12.csv\n+----+--------+\n|Year|Rain, mm|\n+----+--------+\n|1973|     150|\n|1974|      35|\n|1975|     320|\n|1976|     135|\n|1977|      24|\n+----+--------+\nonly showing top 5 rows\n\nroot\n |-- Year: integer (nullable = true)\n |-- Rain, mm: integer (nullable = true)\n\n\nLoading file: dbfs:/FileStore/Fall_2024_DS625_Team_01/Fall_2024_DS625_Team_01-main/data/daphne/Fig. 04-13.csv\n+----+-----------+-----------+\n|Year|small seeds|large seeds|\n+----+-----------+-----------+\n|1976|        700|        850|\n|1977|        100|        900|\n|1978|        250|        500|\n|1979|        270|        970|\n|1980|         50|       1300|\n+----+-----------+-----------+\nonly showing top 5 rows\n\nroot\n |-- Year: integer (nullable = true)\n |-- small seeds: integer (nullable = true)\n |-- large seeds: integer (nullable = true)\n\n\nLoading file: dbfs:/FileStore/Fall_2024_DS625_Team_01/Fall_2024_DS625_Team_01-main/data/daphne/Fig. 04-14.csv\n+------------------+-------+-------+\n|          Variable|1976-77|1984-86|\n+------------------+-------+-------+\n|   Beak width (BW)|   0.53|  -0.17|\n|   Beak depth (BD)|   0.63|  -0.16|\n|  Beak length (BL)|   0.54|  -0.03|\n|Tarsus length (TS)|   0.43|  -0.09|\n|         Wing (WG)|   0.72|  -0.08|\n+------------------+-------+-------+\nonly showing top 5 rows\n\nroot\n |-- Variable: string (nullable = true)\n |-- 1976-77: double (nullable = true)\n |-- 1984-86: double (nullable = true)\n\n\nLoading file: dbfs:/FileStore/Fall_2024_DS625_Team_01/Fall_2024_DS625_Team_01-main/data/daphne/Fig. 05-02.csv\n+-------------+-------------+--------+-------------+-------------+------+-------------+-------------+--------+-------------+--------------+-------+--------------+--------------+--------+--------------+--------------+-------+----+----+----+\n|Sea temp (X)0|Air temp (Y)1|  Years2|Sea temp (X)3|Air temp (Y)4|Years5|Sea temp (X)6|Rainfall (Y)7|  years8|Sea temp (X)9|Rainfall (Y)10|years11|Air temp (Y)12|Rainfall (Y)13| Years14|Air temp (Y)15|Rainfall (Y)16|Years17|  18|  19|  20|\n+-------------+-------------+--------+-------------+-------------+------+-------------+-------------+--------+-------------+--------------+-------+--------------+--------------+--------+--------------+--------------+-------+----+----+----+\n|         24.4|         26.6|Non-Ni�o|         26.7|         26.8|  Ni�o|         24.4|            0|Non-Ni�o|         26.7|           195|   Ni�o|          26.6|             0|Non-Ni�o|          26.8|           195|   Ni�o|NULL|NULL|NULL|\n|         24.5|         25.7|Non-Ni�o|         26.9|         26.5|  Ni�o|         24.5|            0|Non-Ni�o|         26.9|           234|   Ni�o|          25.7|             0|Non-Ni�o|          26.5|           234|   Ni�o|NULL|NULL|NULL|\n|         24.8|         26.0|Non-Ni�o|         26.9|         26.9|  Ni�o|         24.8|          135|Non-Ni�o|         26.9|           368|   Ni�o|          26.0|           135|Non-Ni�o|          26.9|           368|   Ni�o|NULL|NULL|NULL|\n|         24.9|         26.2|Non-Ni�o|         27.7|         27.4|  Ni�o|         24.9|           20|Non-Ni�o|         27.7|           622|   Ni�o|          26.2|            20|Non-Ni�o|          27.4|           622|   Ni�o|NULL|    |    |\n|         25.0|         25.4|Non-Ni�o|         27.9|         29.0|  Ni�o|         25.0|           30|Non-Ni�o|         27.9|           922|   Ni�o|          25.4|            30|Non-Ni�o|          29.0|           922|   Ni�o|NULL|    |    |\n+-------------+-------------+--------+-------------+-------------+------+-------------+-------------+--------+-------------+--------------+-------+--------------+--------------+--------+--------------+--------------+-------+----+----+----+\nonly showing top 5 rows\n\nroot\n |-- Sea temp (X)0: double (nullable = true)\n |-- Air temp (Y)1: double (nullable = true)\n |-- Years2: string (nullable = true)\n |-- Sea temp (X)3: double (nullable = true)\n |-- Air temp (Y)4: double (nullable = true)\n |-- Years5: string (nullable = true)\n |-- Sea temp (X)6: double (nullable = true)\n |-- Rainfall (Y)7: integer (nullable = true)\n |-- years8: string (nullable = true)\n |-- Sea temp (X)9: double (nullable = true)\n |-- Rainfall (Y)10: integer (nullable = true)\n |-- years11: string (nullable = true)\n |-- Air temp (Y)12: double (nullable = true)\n |-- Rainfall (Y)13: integer (nullable = true)\n |-- Years14: string (nullable = true)\n |-- Air temp (Y)15: double (nullable = true)\n |-- Rainfall (Y)16: integer (nullable = true)\n |-- Years17: string (nullable = true)\n |--  18: string (nullable = true)\n |--  19: string (nullable = true)\n |--  20: string (nullable = true)\n\n\nLoading file: dbfs:/FileStore/Fall_2024_DS625_Team_01/Fall_2024_DS625_Team_01-main/data/daphne/Fig. 05-03.csv\n+-----+------+--------+----+----+----+----+\n|Years|fortis|scandens|   3|   4|   5|   6|\n+-----+------+--------+----+----+----+----+\n| 1976|   280|     150|NULL|NULL|NULL|NULL|\n| 1977|     0|      85|NULL|NULL|NULL|NULL|\n| 1978|   130|     100|NULL|NULL|NULL|NULL|\n| 1979|   120|      70|NULL|    |    |    |\n| 1980|   135|     125|NULL|    |    |NULL|\n+-----+------+--------+----+----+----+----+\nonly showing top 5 rows\n\nroot\n |-- Years: integer (nullable = true)\n |-- fortis: integer (nullable = true)\n |-- scandens: integer (nullable = true)\n |--  3: string (nullable = true)\n |--  4: string (nullable = true)\n |--  5: string (nullable = true)\n |--  6: string (nullable = true)\n\n\nLoading file: dbfs:/FileStore/Fall_2024_DS625_Team_01/Fall_2024_DS625_Team_01-main/data/daphne/Fig. 05-04.csv\n+------------+-----+--------+----+--------+------------+-----+--------+------+--------+-------------+------+---------+-----+---------+-------------+------+---------+------+---------+-------------+------+---------+-----+---------+\n\n*** WARNING: max output size exceeded, skipping output. ***\n\npth|year|beak length|beak depth|year|beak length|beak depth|NULL|NULL|NULL|NULL|NULL|NULL|NULL|NULL|NULL|NULL|NULL|NULL|NULL|NULL|NULL|NULL|NULL|2008|15.08|10.28|8.57|8.29|\n|1973| fortis|      10.76|      9.48|1986|      10.91|      9.48|1987|      10.93|      9.31|NULL|NULL|NULL|NULL|NULL|NULL|NULL|NULL|NULL|NULL|NULL|NULL|NULL|NULL|NULL|NULL|NULL|2009|15.07|10.28|8.51|8.27|\n|1974| fortis|      10.72|      9.42|   .|          .|         .|1988|      10.93|      9.31|NULL|NULL|NULL|NULL|NULL|NULL|NULL|NULL|NULL|NULL|NULL|NULL|NULL|NULL|NULL|NULL|NULL|2010|15.08|10.42|8.52|8.33|\n|1975| fortis|      10.57|      9.19|   .|          .|         .|1989|      10.91|      9.28|NULL|NULL|NULL|NULL|NULL|NULL|NULL|NULL|NULL|NULL|NULL|NULL|NULL|NULL|NULL|NULL|NULL|2011|15.08|10.46|8.57|8.34|\n|1976| fortis|      10.64|      9.23|   .|          .|         .|1990|      10.89|      9.26|NULL|NULL|NULL|NULL|NULL|NULL|NULL|NULL|NULL|NULL|NULL|NULL|NULL|NULL|NULL|NULL|NULL|2012| 15.1|10.51|8.65|8.38|\n+----+-------+-----------+----------+----+-----------+----------+----+-----------+----------+----+----+----+----+----+----+----+----+----+----+----+----+----+----+----+----+----+----+-----+-----+----+----+\nonly showing top 5 rows\n\nroot\n |-- _c0: string (nullable = true)\n |-- _c1: string (nullable = true)\n |-- EARLY: string (nullable = true)\n |-- _c3: string (nullable = true)\n |-- _c4: string (nullable = true)\n |-- MIDDLE: string (nullable = true)\n |-- _c6: string (nullable = true)\n |-- _c7: string (nullable = true)\n |-- LATE: string (nullable = true)\n |-- _c9: string (nullable = true)\n |-- _c10: string (nullable = true)\n |-- _c11: string (nullable = true)\n |-- _c12: string (nullable = true)\n |--  : string (nullable = true)\n |-- _c14: string (nullable = true)\n |-- _c15: string (nullable = true)\n |-- _c16: string (nullable = true)\n |-- _c17: string (nullable = true)\n |-- _c18: string (nullable = true)\n |-- _c19: string (nullable = true)\n |-- _c20: string (nullable = true)\n |-- _c21: string (nullable = true)\n |-- _c22: string (nullable = true)\n |-- _c23: string (nullable = true)\n |-- _c24: string (nullable = true)\n |-- _c25: string (nullable = true)\n |-- _c26: string (nullable = true)\n |-- 2007: integer (nullable = true)\n |-- 15.14: double (nullable = true)\n |-- 10.32: double (nullable = true)\n |-- 8.62: double (nullable = true)\n |-- 8.29: double (nullable = true)\n\n\nLoading file: dbfs:/FileStore/Fall_2024_DS625_Team_01/Fall_2024_DS625_Team_01-main/data/daphne/Fig. 12-05.csv\n+-----------------+------------+------------+-----------------+------------+------------+------------------+------------+-----------+-----------------+------------+-----------+------------------+------------+-----------+------------------+------------+------------+\n|Species and time0|        PC11|        PC22|Species and time3|        PC14|        PC25| Species and time6|        PC17|       PC28|Species and time9|       PC110|      PC211|Species and time12|       PC113|      PC214|Species and time15|       PC116|       PC217|\n+-----------------+------------+------------+-----------------+------------+------------+------------------+------------+-----------+-----------------+------------+-----------+------------------+------------+-----------+------------------+------------+------------+\n|     fortis early|-2.289962556|-0.101150033|      fortis late|-1.630852891|-0.253030838|magnirostris early|-1.146817483|2.758761152|magnirostris late|-1.907491747|1.424323403|    scandens early|-0.243338884| 0.45778811|     scandens late|-0.287249398|-1.004907213|\n|     fortis early|-2.105904451|-0.094465791|      fortis late|-1.578886524|-0.316185264|magnirostris early|-0.845065283|2.194161372|magnirostris late|-1.688362369|1.051318602|    scandens early| 0.189733592|1.387797566|     scandens late|-0.162957209| -0.58857647|\n|     fortis early|-2.098260635|-0.228442989|      fortis late|-1.445736401|-0.237718923|magnirostris early|-0.594540735|1.230628655|magnirostris late|-1.352038054|1.576680213|    scandens early| 0.299405646|0.597454564|     scandens late|-0.001567589|-0.299140342|\n|     fortis early|-1.835890187| 1.299991936|      fortis late|-1.440177644|-0.285609968|magnirostris early| 0.844181068|3.716005819|magnirostris late|-1.294641688|1.349910015|    scandens early| 0.323558365|0.473406537|     scandens late| 0.158251673|-0.716786308|\n|     fortis early|-1.829858779|-0.076578633|      fortis late|-1.435286393|-0.323619176|              NULL|        NULL|       NULL|magnirostris late|-1.288575426|1.395617943|    scandens early| 0.442094348|1.420914584|     scandens late| 0.199808968|-1.519103149|\n+-----------------+------------+------------+-----------------+------------+------------+------------------+------------+-----------+-----------------+------------+-----------+------------------+------------+-----------+------------------+------------+------------+\nonly showing top 5 rows\n\nroot\n |-- Species and time0: string (nullable = true)\n |-- PC11: double (nullable = true)\n |-- PC22: double (nullable = true)\n |-- Species and time3: string (nullable = true)\n |-- PC14: double (nullable = true)\n |-- PC25: double (nullable = true)\n |-- Species and time6: string (nullable = true)\n |-- PC17: double (nullable = true)\n |-- PC28: double (nullable = true)\n |-- Species and time9: string (nullable = true)\n |-- PC110: double (nullable = true)\n |-- PC211: double (nullable = true)\n |-- Species and time12: string (nullable = true)\n |-- PC113: double (nullable = true)\n |-- PC214: double (nullable = true)\n |-- Species and time15: string (nullable = true)\n |-- PC116: double (nullable = true)\n |-- PC217: double (nullable = true)\n\n\nLoading file: dbfs:/FileStore/Fall_2024_DS625_Team_01/Fall_2024_DS625_Team_01-main/data/daphne/Fig. 13-13.csv\n+-----------+---------------------+-------------+---------------------+-------------+\n|generations|line A heterozygosity|line A sample|line B heterozygosity|line B sample|\n+-----------+---------------------+-------------+---------------------+-------------+\n|          0|                0.286|            1|                0.286|            1|\n|          1|                0.786|            4|                 0.87|            4|\n|          2|                0.684|           19|                0.561|            2|\n|          3|                0.743|            5|                0.607|            2|\n|          4|                0.714|            2|                0.417|           27|\n+-----------+---------------------+-------------+---------------------+-------------+\nonly showing top 5 rows\n\nroot\n |-- generations: string (nullable = true)\n |-- line A heterozygosity: string (nullable = true)\n |-- line A sample: string (nullable = true)\n |-- line B heterozygosity: string (nullable = true)\n |-- line B sample: integer (nullable = true)\n\n\nLoading file: dbfs:/FileStore/Fall_2024_DS625_Team_01/Fall_2024_DS625_Team_01-main/data/daphne/Fig. 13-14.csv\n+-----------+-----------------+-------------+-----------------+-------------+\n|generations|line A beak width|line A sample|line B beak width|line B sample|\n+-----------+-----------------+-------------+-----------------+-------------+\n|          0|            10.97|            1|            10.97|            1|\n|          1|             9.39|            8|             10.7|            1|\n|          2|             8.78|           10|            10.95|            2|\n|          3|                9|            3|            11.05|            2|\n|          4|             9.22|            2|            10.86|           25|\n+-----------+-----------------+-------------+-----------------+-------------+\nonly showing top 5 rows\n\nroot\n |-- generations: string (nullable = true)\n |-- line A beak width: string (nullable = true)\n |-- line A sample: string (nullable = true)\n |-- line B beak width: double (nullable = true)\n |-- line B sample: integer (nullable = true)\n\n\nLoading file: dbfs:/FileStore/Fall_2024_DS625_Team_01/Fall_2024_DS625_Team_01-main/data/daphne/Fig. 13-15.csv\n+----+-------+\n|Year|Numbers|\n+----+-------+\n|2005|      2|\n|2006|      8|\n|2007|      8|\n|2008|     24|\n|2009|     24|\n+----+-------+\nonly showing top 5 rows\n\nroot\n |-- Year: integer (nullable = true)\n |-- Numbers: integer (nullable = true)\n\n\nLoading file: dbfs:/FileStore/Fall_2024_DS625_Team_01/Fall_2024_DS625_Team_01-main/data/daphne/Fig. 13-17.csv\n+------------+--------+----------------+---------------+----+-----------+------+-----------+\n|       TOTAL|Tribulus|O. seed or fruit|O.bud or flower|SSOG|SS on plant|Others|Sample size|\n+------------+--------+----------------+---------------+----+-----------+------+-----------+\n|        NULL|    NULL|            NULL|           NULL|NULL|       NULL|  NULL|       NULL|\n|      fortis|       3|               6|             42|  68|         71|    22|        190|\n|          BB|      13|               2|             10|   0|          2|     0|         27|\n|magnirostris|      61|              16|              2|   0|          0|     5|         84|\n|    scandens|       0|              43|             88|   7|          6|     6|        140|\n+------------+--------+----------------+---------------+----+-----------+------+-----------+\nonly showing top 5 rows\n\nroot\n |-- TOTAL: string (nullable = true)\n |-- Tribulus: string (nullable = true)\n |-- O. seed or fruit: string (nullable = true)\n |-- O.bud or flower: string (nullable = true)\n |-- SSOG: string (nullable = true)\n |-- SS on plant: string (nullable = true)\n |-- Others: string (nullable = true)\n |-- Sample size: string (nullable = true)\n\n\nLoading file: dbfs:/FileStore/Fall_2024_DS625_Team_01/Fall_2024_DS625_Team_01-main/data/daphne/Fig. 14-01.csv\n+-----+-------+------+\n|Years|reading|  �18O|\n+-----+-------+------+\n|    0|    780| 0.078|\n|   10|    530| 0.053|\n|   20|    594|0.0594|\n|   30|    595|0.0595|\n|   40|    549|0.0549|\n+-----+-------+------+\nonly showing top 5 rows\n\nroot\n |-- Years: integer (nullable = true)\n |-- reading: integer (nullable = true)\n |-- �18O: double (nullable = true)\n\n\nLoading file: dbfs:/FileStore/Fall_2024_DS625_Team_01/Fall_2024_DS625_Team_01-main/data/daphne/Fig. 14-02.csv\n+----+-------------------+-----------------+-----------------------+---------------------+\n|Year|SC ln cum mean rain|SC ln cum SD rain|Daphne ln cum mean rain|Daphne ln cum SD rain|\n+----+-------------------+-----------------+-----------------------+---------------------+\n|1969|        5.716108092|      0.563608555|                      .|                    .|\n|1970|        5.478499983|      0.769980105|                      .|                    .|\n|1971|        5.487466206|      0.703292652|                      .|                    .|\n|1972|        5.612493433|      0.740955419|                      .|                    .|\n|1973|        5.673461643|      0.716827853|                      .|                    .|\n+----+-------------------+-----------------+-----------------------+---------------------+\nonly showing top 5 rows\n\nroot\n |-- Year: integer (nullable = true)\n |-- SC ln cum mean rain: string (nullable = true)\n |-- SC ln cum SD rain: string (nullable = true)\n |-- Daphne ln cum mean rain: string (nullable = true)\n |-- Daphne ln cum SD rain: string (nullable = true)\n\n\nLoading file: dbfs:/FileStore/Fall_2024_DS625_Team_01/Fall_2024_DS625_Team_01-main/data/daphne/Fig. 14-03.csv\n+----+----------+------------+----------------------+----------------+------------------------+------------------+\n|Year|fortis nos|scandens nos|ln fortis cum mean nos|ln fortis cum SD|ln scandens cum mean nos|ln scandens cum SD|\n+----+----------+------------+----------------------+----------------+------------------------+------------------+\n|1976|       490|         185|                     .|               .|                       .|                 .|\n|1977|       210|         146|                     .|               .|                       .|                 .|\n|1978|       157|         132|                     .|               .|                       .|                 .|\n|1979|       295|         190|                     .|               .|                       .|                 .|\n|1980|       280|         197|           5.583904737|     0.424388011|             5.123398434|        0.17864084|\n+----+----------+------------+----------------------+----------------+------------------------+------------------+\nonly showing top 5 rows\n\nroot\n |-- Year: integer (nullable = true)\n |-- fortis nos: string (nullable = true)\n |-- scandens nos: string (nullable = true)\n |-- ln fortis cum mean nos: string (nullable = true)\n |-- ln fortis cum SD: string (nullable = true)\n |-- ln scandens cum mean nos: string (nullable = true)\n |-- ln scandens cum SD: string (nullable = true)\n\n\nLoading file: dbfs:/FileStore/Fall_2024_DS625_Team_01/Fall_2024_DS625_Team_01-main/data/daphne/Fig. 17-02.csv\n+------+--------+---+------------+-------+------+--------+---+------------+-------+-------+------------+----+-------------+--------+\n|Years0|Species1| N2|Y frequency3|95% CI4|Years5|Species6| N7|Y frequency8|95% CI9|Years10|   Species11| N12|Y frequency13|95% CI14|\n+------+--------+---+------------+-------+------+--------+---+------------+-------+-------+------------+----+-------------+--------+\n|  1978|  fortis|136|        0.15|   0.07|  1978|scandens| 99|        0.25|   0.09|   1987|magnirostris|  26|         0.23|    0.18|\n|  1979|  fortis|148|        0.14|   0.06|  1979|scandens|131|        0.27|   0.08|   1988|magnirostris|NULL|         NULL|    NULL|\n|  1980|  fortis|136|        0.14|   0.06|  1980|scandens|228|        0.25|   0.06|   1989|magnirostris|NULL|         NULL|    NULL|\n|  1981|  fortis|350|        0.15|   0.06|  1981|scandens|269|        0.28|   0.05|   1990|magnirostris|NULL|         NULL|    NULL|\n|  1982|  fortis|174|        0.16|   0.06|  1982|scandens|132|        0.23|   0.07|   1991|magnirostris|  41|         0.15|    0.14|\n+------+--------+---+------------+-------+------+--------+---+------------+-------+-------+------------+----+-------------+--------+\nonly showing top 5 rows\n\nroot\n |-- Years0: string (nullable = true)\n |-- Species1: string (nullable = true)\n |-- N2: integer (nullable = true)\n |-- Y frequency3: double (nullable = true)\n |-- 95% CI4: double (nullable = true)\n |-- Years5: integer (nullable = true)\n |-- Species6: string (nullable = true)\n |-- N7: integer (nullable = true)\n |-- Y frequency8: double (nullable = true)\n |-- 95% CI9: double (nullable = true)\n |-- Years10: integer (nullable = true)\n |-- Species11: string (nullable = true)\n |-- N12: integer (nullable = true)\n |-- Y frequency13: double (nullable = true)\n |-- 95% CI14: double (nullable = true)\n\n\nLoading file: dbfs:/FileStore/Fall_2024_DS625_Team_01/Fall_2024_DS625_Team_01-main/data/daphne/Fig. 17-03.csv\n+-------+-----------+-----------+-----------+-----------+----+----+\n|    _c0|        _c1|        _c2|  GENOTYPES|        _c4| _c5| _c6|\n+-------+-----------+-----------+-----------+-----------+----+----+\n|Species|All cohorts|      pp/py|         py|         yy|NULL|NULL|\n| fortis|          0|          3|          3|          3|NULL|NULL|\n| fortis|          1|2.782802247|2.823908741|2.754519802|NULL|NULL|\n| fortis|          2|2.578682264|2.664829295|2.531717606|NULL|NULL|\n| fortis|          3|2.432856241|2.540428385|2.392220149|NULL|NULL|\n+-------+-----------+-----------+-----------+-----------+----+----+\nonly showing top 5 rows\n\nroot\n |-- _c0: string (nullable = true)\n |-- _c1: string (nullable = true)\n |-- _c2: string (nullable = true)\n |-- GENOTYPES: string (nullable = true)\n |-- _c4: string (nullable = true)\n |-- _c5: string (nullable = true)\n |-- _c6: string (nullable = true)\n\n\nLoading file: dbfs:/FileStore/Fall_2024_DS625_Team_01/Fall_2024_DS625_Team_01-main/data/daphne/Fig. A-03-03.csv\n+------+--------+----+--------+-----------+--------+----------+--------+\n|Weight|numbers1|Wing|numbers3|beak length|numbers5|Beak depth|numbers7|\n+------+--------+----+--------+-----------+--------+----------+--------+\n| >-2.2|       0|  -3|       2|       -0.4|       1|      -0.5|       1|\n|  -2.2|       1|  -2|       5|       -0.3|       1|      -0.4|       6|\n|  -1.7|       1|  -1|      11|       -0.2|       3|      -0.3|       7|\n|  -1.2|       9|   0|      27|       -0.1|      12|      -0.2|      18|\n|  -0.7|       8|   1|      16|          0|      12|      -0.1|       6|\n+------+--------+----+--------+-----------+--------+----------+--------+\nonly showing top 5 rows\n\nroot\n |-- Weight: string (nullable = true)\n |-- numbers1: integer (nullable = true)\n |-- Wing: string (nullable = true)\n |-- numbers3: string (nullable = true)\n |-- beak length: string (nullable = true)\n |-- numbers5: string (nullable = true)\n |-- Beak depth: double (nullable = true)\n |-- numbers7: integer (nullable = true)\n\n\nLoading file: dbfs:/FileStore/Fall_2024_DS625_Team_01/Fall_2024_DS625_Team_01-main/data/daphne/Fig. A-17-01.csv\n+-----+------------+-----------+-----------+------+\n|Years|     Species|Sample size|Y frequency|95% CI|\n+-----+------------+-----------+-----------+------+\n| 1978|magnirostris|         26|       0.23|  0.18|\n| 1979|magnirostris|          .|          .|     .|\n| 1980|magnirostris|          .|          .|     .|\n| 1981|magnirostris|          .|          .|     .|\n| 1982|magnirostris|         41|       0.15|  0.14|\n+-----+------------+-----------+-----------+------+\nonly showing top 5 rows\n\nroot\n |-- Years: string (nullable = true)\n |-- Species: string (nullable = true)\n |-- Sample size: string (nullable = true)\n |-- Y frequency: string (nullable = true)\n |-- 95% CI: string (nullable = true)\n\n\nLoading file: dbfs:/FileStore/Fall_2024_DS625_Team_01/Fall_2024_DS625_Team_01-main/data/daphne/Fig. B1-02.csv\n+---------+----------+-----------+----------+\n|   Island|   Species|Beak length|Beak width|\n+---------+----------+-----------+----------+\n| Espa�ola|fuliginosa|       8.39|      6.58|\n|Gardner E|fuliginosa|        8.3|      6.58|\n| Floreana|fuliginosa|       8.33|      6.54|\n|Gardner F|fuliginosa|       8.66|       6.8|\n|  Enderby|fuliginosa|       7.89|      6.57|\n+---------+----------+-----------+----------+\nonly showing top 5 rows\n\nroot\n |-- Island: string (nullable = true)\n |-- Species: string (nullable = true)\n |-- Beak length: double (nullable = true)\n |-- Beak width: double (nullable = true)\n\n\n--- Processing files in forage folder ---\n\n--- Processing files in hybrid folder ---\n\nLoading file: dbfs:/FileStore/Fall_2024_DS625_Team_01/Fall_2024_DS625_Team_01-main/data/hybrid/GeneticData_structure.csv\n+-----+---------+-----------+----+---+----+---+----+---+----+----+----+----+----+----+----+----+----+----+----+----+\n|PopID|   Sample|        Pop|Gf01|_c4|Gf03|_c6|Gf04|_c8|Gf05|_c10|Gf06|_c12|Gf07|_c14|Gf11|_c16|Gf12|_c18|Gf13|_c20|\n+-----+---------+-----------+----+---+----+---+----+---+----+----+----+----+----+----+----+----+----+----+----+----+\n|    1|019-57676|C. parvulus| 177|177| 227|227| 248|248| 205| 205| 174| 174| 283| 283| 180| 180| 171| 171| 157| 157|\n|    1|019-57680|C. parvulus| 185|187| 225|235| 248|248| 201| 201| 174| 174| 283| 283| 180| 187| 171| 181| 157| 174|\n|    1|019-57681|C. parvulus| 173|181| 225|225| 248|248| 201| 203| 174| 174| 283| 283| 167| 180| 167| 181| 157| 172|\n|    1|019-57683|C. parvulus| 163|181| 225|241| 248|248| 201| 203| 174| 174| 283| 283| 167| 187| 171| 181| 170| 174|\n|    1|019-57684|C. parvulus| 167|181| 223|225| 248|248| 201| 205| 174| 174| 289| 304| 180| 180| 171| 181| 157| 170|\n+-----+---------+-----------+----+---+----+---+----+---+----+----+----+----+----+----+----+----+----+----+----+----+\nonly showing top 5 rows\n\nroot\n |-- PopID: integer (nullable = true)\n |-- Sample: string (nullable = true)\n |-- Pop: string (nullable = true)\n |-- Gf01: integer (nullable = true)\n |-- _c4: integer (nullable = true)\n |-- Gf03: integer (nullable = true)\n |-- _c6: integer (nullable = true)\n |-- Gf04: integer (nullable = true)\n |-- _c8: integer (nullable = true)\n |-- Gf05: integer (nullable = true)\n |-- _c10: integer (nullable = true)\n |-- Gf06: integer (nullable = true)\n |-- _c12: integer (nullable = true)\n |-- Gf07: integer (nullable = true)\n |-- _c14: integer (nullable = true)\n |-- Gf11: integer (nullable = true)\n |-- _c16: integer (nullable = true)\n |-- Gf12: integer (nullable = true)\n |-- _c18: integer (nullable = true)\n |-- Gf13: integer (nullable = true)\n |-- _c20: integer (nullable = true)\n\n\nLoading file: dbfs:/FileStore/Fall_2024_DS625_Team_01/Fall_2024_DS625_Team_01-main/data/hybrid/MaleAgeBirthYearRainfallassigned.csv\n+------------+-----------+-----------+------+---------------------+---------+-----------------+------------------+--------------------+-------------------------------------+\n|Capture_year|    cluster|Species_Cat|  Ring|sex(0=male, 1=female)|BirthYear|MaleColourCapYear|Rainfall_BirthYear|Rainfall_CaptureYear|MaleColourCat(0=B0, 1=B1-B3; 2=B4-B5)|\n+------------+-----------+-----------+------+---------------------+---------+-----------------+------------------+--------------------+-------------------------------------+\n|        2005|C. parvulus|          1| 971SK|                    0|     2004|                0|               799|                 804|                                    0|\n|        2005|C. parvulus|          1| 902SK|                    0|     2004|                0|               799|                 804|                                    0|\n|        2010|C. parvulus|          1|  50SK|                    0|     2009|                0|               657|                 828|                                    0|\n|        2010|C. parvulus|          1|2440SK|                    0|     2009|                0|               657|                 828|                                    0|\n|        2010|C. parvulus|          1|2439SK|                    0|     2009|                0|               657|                 828|                                    0|\n+------------+-----------+-----------+------+---------------------+---------+-----------------+------------------+--------------------+-------------------------------------+\nonly showing top 5 rows\n\nroot\n |-- Capture_year: integer (nullable = true)\n |-- cluster: string (nullable = true)\n |-- Species_Cat: integer (nullable = true)\n |-- Ring: string (nullable = true)\n |-- sex(0=male, 1=female): integer (nullable = true)\n |-- BirthYear: integer (nullable = true)\n |-- MaleColourCapYear: integer (nullable = true)\n |-- Rainfall_BirthYear: integer (nullable = true)\n |-- Rainfall_CaptureYear: integer (nullable = true)\n |-- MaleColourCat(0=B0, 1=B1-B3; 2=B4-B5): integer (nullable = true)\n\n\n--- Processing files in kaggle folder ---\n\nLoading file: dbfs:/FileStore/Fall_2024_DS625_Team_01/Fall_2024_DS625_Team_01-main/data/kaggle/finch_beaks_1975.csv\n+----+-------+---------------+--------------+\n|band|species|Beak length, mm|Beak depth, mm|\n+----+-------+---------------+--------------+\n|   2| fortis|            9.4|           8.0|\n|   9| fortis|            9.2|           8.3|\n|  12| fortis|            9.5|           7.5|\n|  15| fortis|            9.5|           8.0|\n| 305| fortis|           11.5|           9.9|\n+----+-------+---------------+--------------+\nonly showing top 5 rows\n\nroot\n |-- band: integer (nullable = true)\n |-- species: string (nullable = true)\n |-- Beak length, mm: double (nullable = true)\n |-- Beak depth, mm: double (nullable = true)\n\n\nLoading file: dbfs:/FileStore/Fall_2024_DS625_Team_01/Fall_2024_DS625_Team_01-main/data/kaggle/finch_beaks_2012.csv\n+-----+-------+-------+------+\n| band|species|blength|bdepth|\n+-----+-------+-------+------+\n|19022| fortis|   10.0|   8.5|\n|19028| fortis|   12.5|   8.9|\n|19032| fortis|    9.3|   7.5|\n|19041| fortis|   10.3|   9.6|\n|19044| fortis|   11.0|   9.2|\n+-----+-------+-------+------+\nonly showing top 5 rows\n\nroot\n |-- band: integer (nullable = true)\n |-- species: string (nullable = true)\n |-- blength: double (nullable = true)\n |-- bdepth: double (nullable = true)\n\n\nLoading file: dbfs:/FileStore/Fall_2024_DS625_Team_01/Fall_2024_DS625_Team_01-main/data/kaggle/fortis_beak_depth_heredity.csv\n+----------+-------+---------+\n|Mid-offspr|Male BD|Female BD|\n+----------+-------+---------+\n|      10.7|   10.9|      9.3|\n|      9.78|   10.7|      8.4|\n|      9.48|   10.7|      8.1|\n|       9.6|   10.7|      9.8|\n|     10.27|   9.85|     10.4|\n+----------+-------+---------+\nonly showing top 5 rows\n\nroot\n |-- Mid-offspr: double (nullable = true)\n |-- Male BD: double (nullable = true)\n |-- Female BD: double (nullable = true)\n\n\nLoading file: dbfs:/FileStore/Fall_2024_DS625_Team_01/Fall_2024_DS625_Team_01-main/data/kaggle/scandens_beak_depth_heredity.csv\n+----------+-------------+\n|mid_parent|mid_offspring|\n+----------+-------------+\n|    8.3318|        8.419|\n|    8.4035|       9.2468|\n|    8.5317|       8.1532|\n|    8.7202|       8.0089|\n|    8.7089|       8.2215|\n+----------+-------------+\nonly showing top 5 rows\n\nroot\n |-- mid_parent: double (nullable = true)\n |-- mid_offspring: double (nullable = true)\n\n"
     ]
    }
   ],
   "source": [
    "from pyspark.sql import SparkSession\n",
    "\n",
    "# Initialize Spark session\n",
    "spark = SparkSession.builder.appName(\"FinchEDA\").getOrCreate()\n",
    "\n",
    "# Define the base directory path for the data\n",
    "base_path = \"dbfs:/FileStore/Fall_2024_DS625_Team_01/Fall_2024_DS625_Team_01-main/data\"\n",
    "\n",
    "# List of subfolders to process\n",
    "folders = [\"daphne\", \"forage\", \"hybrid\", \"kaggle\"]\n",
    "\n",
    "# Loop through each folder and load each CSV file\n",
    "for folder in folders:\n",
    "    folder_path = f\"{base_path}/{folder}\"\n",
    "    print(f\"\\n--- Processing files in {folder} folder ---\")\n",
    "    \n",
    "    # List files in the current folder\n",
    "    file_list = dbutils.fs.ls(folder_path)\n",
    "    \n",
    "    for file_info in file_list:\n",
    "        file_path = file_info.path\n",
    "        # Only process CSV files\n",
    "        if file_path.endswith(\".csv\"):\n",
    "            print(f\"\\nLoading file: {file_path}\")\n",
    "            # Load the CSV file into a Spark DataFrame\n",
    "            df = spark.read.csv(file_path, header=True, inferSchema=True)\n",
    "            # Display the first few rows and schema for inspection\n",
    "            df.show(5)\n",
    "            df.printSchema()"
   ]
  },
  {
   "cell_type": "markdown",
   "metadata": {
    "application/vnd.databricks.v1+cell": {
     "cellMetadata": {},
     "inputWidgets": {},
     "nuid": "0999a469-fbe1-4c48-9973-458b8c0376e0",
     "showTitle": false,
     "tableResultSettingsMap": {},
     "title": ""
    }
   },
   "source": [
    "# EDA"
   ]
  },
  {
   "cell_type": "markdown",
   "metadata": {
    "application/vnd.databricks.v1+cell": {
     "cellMetadata": {},
     "inputWidgets": {},
     "nuid": "f63a61d1-b14d-4b8b-94b9-982236439657",
     "showTitle": false,
     "tableResultSettingsMap": {},
     "title": ""
    }
   },
   "source": [
    "Step 1: Standardize column names"
   ]
  },
  {
   "cell_type": "code",
   "execution_count": 0,
   "metadata": {
    "application/vnd.databricks.v1+cell": {
     "cellMetadata": {
      "byteLimit": 2048000,
      "rowLimit": 10000
     },
     "inputWidgets": {},
     "nuid": "dd8416d4-29a1-4153-8394-c1e6c74849b9",
     "showTitle": false,
     "tableResultSettingsMap": {},
     "title": ""
    }
   },
   "outputs": [],
   "source": [
    "from pyspark.sql.functions import col\n",
    "import re\n",
    "\n",
    "# Function to standardize column names\n",
    "def standardize_column_names(df):\n",
    "    new_columns = [re.sub(r'\\s+', '_', col_name.lower().replace(',', '')) for col_name in df.columns]\n",
    "    for old_col, new_col in zip(df.columns, new_columns):\n",
    "        df = df.withColumnRenamed(old_col, new_col)\n",
    "    return df"
   ]
  },
  {
   "cell_type": "markdown",
   "metadata": {
    "application/vnd.databricks.v1+cell": {
     "cellMetadata": {},
     "inputWidgets": {},
     "nuid": "75ec6b7c-e814-43ea-b8a8-184348977f45",
     "showTitle": false,
     "tableResultSettingsMap": {},
     "title": ""
    }
   },
   "source": [
    "Step 2: Handle missing values"
   ]
  },
  {
   "cell_type": "code",
   "execution_count": 0,
   "metadata": {
    "application/vnd.databricks.v1+cell": {
     "cellMetadata": {
      "byteLimit": 2048000,
      "rowLimit": 10000
     },
     "inputWidgets": {},
     "nuid": "417f157d-8ebd-45c5-949e-9a46bd21f7ce",
     "showTitle": false,
     "tableResultSettingsMap": {},
     "title": ""
    }
   },
   "outputs": [],
   "source": [
    "# Drop rows with more than a threshold of null values\n",
    "def drop_missing_values(df, threshold=0.5):\n",
    "    return df.dropna(thresh=int(threshold * len(df.columns)))\n",
    "\n",
    "# Fill null values in specific columns with 0 or another method\n",
    "def fill_missing_values(df, column_fill_values=None):\n",
    "    if column_fill_values:\n",
    "        for col_name, fill_value in column_fill_values.items():\n",
    "            df = df.fillna({col_name: fill_value})\n",
    "    return df"
   ]
  },
  {
   "cell_type": "markdown",
   "metadata": {
    "application/vnd.databricks.v1+cell": {
     "cellMetadata": {},
     "inputWidgets": {},
     "nuid": "e82bf5fa-0569-4ca0-9968-610bccb81f6c",
     "showTitle": false,
     "tableResultSettingsMap": {},
     "title": ""
    }
   },
   "source": [
    "Step 3: Align schemas, ensuring numeric columns are correctly typed"
   ]
  },
  {
   "cell_type": "code",
   "execution_count": 0,
   "metadata": {
    "application/vnd.databricks.v1+cell": {
     "cellMetadata": {
      "byteLimit": 2048000,
      "rowLimit": 10000
     },
     "inputWidgets": {},
     "nuid": "5c9dd04b-b6b3-4a69-b92c-32d1688e0859",
     "showTitle": false,
     "tableResultSettingsMap": {},
     "title": ""
    }
   },
   "outputs": [],
   "source": [
    "from pyspark.sql.types import DoubleType, IntegerType\n",
    "\n",
    "def cast_column_types(df, type_mappings):\n",
    "    for col_name, col_type in type_mappings.items():\n",
    "        df = df.withColumn(col_name, col(col_name).cast(col_type))\n",
    "    return df"
   ]
  },
  {
   "cell_type": "markdown",
   "metadata": {
    "application/vnd.databricks.v1+cell": {
     "cellMetadata": {},
     "inputWidgets": {},
     "nuid": "db8ca7bb-3f96-420c-b23f-25031a04342c",
     "showTitle": false,
     "tableResultSettingsMap": {},
     "title": ""
    }
   },
   "source": [
    "Step 4: Filter data by criteria"
   ]
  },
  {
   "cell_type": "code",
   "execution_count": 0,
   "metadata": {
    "application/vnd.databricks.v1+cell": {
     "cellMetadata": {
      "byteLimit": 2048000,
      "rowLimit": 10000
     },
     "inputWidgets": {},
     "nuid": "3c393b9a-8795-4975-8c6d-4d2ac7436f82",
     "showTitle": false,
     "tableResultSettingsMap": {},
     "title": ""
    }
   },
   "outputs": [],
   "source": [
    "def filter_data(df, species=None, year_range=None):\n",
    "    if species:\n",
    "        df = df.filter(col(\"species\").isin(species))\n",
    "    if year_range:\n",
    "        df = df.filter((col(\"year\") >= year_range[0]) & (col(\"year\") <= year_range[1]))\n",
    "    return df"
   ]
  },
  {
   "cell_type": "markdown",
   "metadata": {
    "application/vnd.databricks.v1+cell": {
     "cellMetadata": {},
     "inputWidgets": {},
     "nuid": "e1807929-4993-4fc7-b9cf-577ea81132ed",
     "showTitle": false,
     "tableResultSettingsMap": {},
     "title": ""
    }
   },
   "source": [
    "Step 5: Apply cleaning and EDA steps on each file"
   ]
  },
  {
   "cell_type": "code",
   "execution_count": 0,
   "metadata": {
    "application/vnd.databricks.v1+cell": {
     "cellMetadata": {
      "byteLimit": 2048000,
      "rowLimit": 10000
     },
     "inputWidgets": {},
     "nuid": "455073cd-3777-4945-a547-327b2dec20af",
     "showTitle": false,
     "tableResultSettingsMap": {},
     "title": ""
    }
   },
   "outputs": [
    {
     "output_type": "stream",
     "name": "stdout",
     "output_type": "stream",
     "text": [
      "Processing file: dbfs:/FileStore/Fall_2024_DS625_Team_01/Fall_2024_DS625_Team_01-main/data/daphne/Fig. 01-06 (also 7.3).csv\n+----+-------+-----------+----------+----------+--------------+-------------+-------------+\n|year|species|beak_length|beak_depth|beak_width|ci_beak_length|ci_beak_depth|ci_beak_width|\n+----+-------+-----------+----------+----------+--------------+-------------+-------------+\n|1973| fortis|      10.76|      9.48|      8.69|         0.097|         0.13|        0.081|\n|1974| fortis|      10.72|      9.42|      8.66|         0.144|         0.17|        0.112|\n|1975| fortis|      10.57|      9.19|      8.55|         0.075|        0.084|        0.057|\n|1976| fortis|      10.64|      9.23|      8.58|         0.048|        0.053|        0.039|\n|1977| fortis|      10.73|      9.35|      8.63|         0.085|        0.092|        0.066|\n+----+-------+-----------+----------+----------+--------------+-------------+-------------+\nonly showing top 5 rows\n\nProcessing file: dbfs:/FileStore/Fall_2024_DS625_Team_01/Fall_2024_DS625_Team_01-main/data/daphne/Fig. 01-07.csv\n+----+--------+-----------+----------+----------+--------------+-------------+-------------+\n|year| species|beak_length|beak_depth|beak_width|ci_beak_length|ci_beak_depth|ci_beak_width|\n+----+--------+-----------+----------+----------+--------------+-------------+-------------+\n|1973|scandens|      14.55|      9.28|      8.57|         0.144|        0.149|        0.115|\n|1974|scandens|      14.57|      9.21|      8.58|         0.162|        0.157|        0.129|\n|1975|scandens|      14.14|      8.94|      8.37|         0.163|         0.12|        0.097|\n|1976|scandens|      14.41|      9.06|      8.52|           0.1|        0.074|         0.06|\n|1977|scandens|      14.55|      9.14|       8.6|         0.125|        0.093|        0.075|\n+----+--------+-----------+----------+----------+--------------+-------------+-------------+\nonly showing top 5 rows\n\n"
     ]
    }
   ],
   "source": [
    "from pyspark.sql import DataFrame\n",
    "\n",
    "# Define standard processing pipeline for a given DataFrame\n",
    "def process_file(df: DataFrame, column_types=None, column_fill_values=None, species=None, year_range=None):\n",
    "    df = standardize_column_names(df)                     # Standardize column names\n",
    "    df = cast_column_types(df, column_types or {})        # Cast column types as needed\n",
    "    df = drop_missing_values(df, threshold=0.5)           # Drop rows with too many missing values\n",
    "    df = fill_missing_values(df, column_fill_values)      # Fill specific columns with defaults\n",
    "    df = filter_data(df, species=species, year_range=year_range)  # Filter by species or years\n",
    "    return df\n",
    "\n",
    "# Example usage for files in the `daphne` folder\n",
    "# Adjust column_types and column_fill_values per file based on the initial schema inspection\n",
    "daphne_files = [\n",
    "    \"dbfs:/FileStore/Fall_2024_DS625_Team_01/Fall_2024_DS625_Team_01-main/data/daphne/Fig. 01-06 (also 7.3).csv\",\n",
    "    \"dbfs:/FileStore/Fall_2024_DS625_Team_01/Fall_2024_DS625_Team_01-main/data/daphne/Fig. 01-07.csv\",\n",
    "    # Add other file paths as needed\n",
    "]\n",
    "\n",
    "# Process each file\n",
    "for file_path in daphne_files:\n",
    "    print(f\"Processing file: {file_path}\")\n",
    "    df = spark.read.option(\"header\", \"true\").csv(file_path)\n",
    "    \n",
    "    # Define specific column types, fill values, or filters for each file\n",
    "    column_types = {\"year\": IntegerType(), \"beak_length\": DoubleType(), \"beak_depth\": DoubleType()}\n",
    "    column_fill_values = {\"beak_length\": 0.0, \"beak_depth\": 0.0}\n",
    "    species_filter = [\"fortis\", \"scandens\"]\n",
    "    year_range_filter = (1973, 1980)\n",
    "    \n",
    "    df = process_file(df, column_types=column_types, column_fill_values=column_fill_values, species=species_filter, year_range=year_range_filter)\n",
    "    \n",
    "    # Display the processed data for verification\n",
    "    df.show(5)"
   ]
  },
  {
   "cell_type": "markdown",
   "metadata": {
    "application/vnd.databricks.v1+cell": {
     "cellMetadata": {},
     "inputWidgets": {},
     "nuid": "a9d6a113-e328-4387-a13e-a59779439634",
     "showTitle": false,
     "tableResultSettingsMap": {},
     "title": ""
    }
   },
   "source": [
    "CREATE DF1 AND DF2"
   ]
  },
  {
   "cell_type": "code",
   "execution_count": 0,
   "metadata": {
    "application/vnd.databricks.v1+cell": {
     "cellMetadata": {
      "byteLimit": 2048000,
      "rowLimit": 10000
     },
     "inputWidgets": {},
     "nuid": "7e01ae6d-e699-4e03-b1f2-1cb69c3f7706",
     "showTitle": false,
     "tableResultSettingsMap": {},
     "title": ""
    }
   },
   "outputs": [
    {
     "output_type": "stream",
     "name": "stdout",
     "output_type": "stream",
     "text": [
      "root\n |-- Year: string (nullable = true)\n |-- Species: string (nullable = true)\n |-- Beak length: string (nullable = true)\n |-- Beak depth: double (nullable = true)\n |-- Beak width: double (nullable = true)\n |-- CI Beak length: double (nullable = true)\n |-- CI Beak depth: double (nullable = true)\n |-- CI Beak width: double (nullable = true)\n\n+----+-------+-----------+----------+----------+--------------+-------------+-------------+\n|Year|Species|Beak length|Beak depth|Beak width|CI Beak length|CI Beak depth|CI Beak width|\n+----+-------+-----------+----------+----------+--------------+-------------+-------------+\n|1973| fortis|      10.76|      9.48|      8.69|         0.097|         0.13|        0.081|\n|1974| fortis|      10.72|      9.42|      8.66|         0.144|         0.17|        0.112|\n|1975| fortis|      10.57|      9.19|      8.55|         0.075|        0.084|        0.057|\n|1976| fortis|      10.64|      9.23|      8.58|         0.048|        0.053|        0.039|\n|1977| fortis|      10.73|      9.35|      8.63|         0.085|        0.092|        0.066|\n+----+-------+-----------+----------+----------+--------------+-------------+-------------+\nonly showing top 5 rows\n\nroot\n |-- Year: string (nullable = true)\n |-- Species: string (nullable = true)\n |-- Beak length: double (nullable = true)\n |-- Beak depth: double (nullable = true)\n |-- Beak width: double (nullable = true)\n |-- CI Beak length: string (nullable = true)\n |-- CI Beak depth: string (nullable = true)\n |-- CI beak width: string (nullable = true)\n\n+----+--------+-----------+----------+----------+--------------+-------------+-------------+\n|Year| Species|Beak length|Beak depth|Beak width|CI Beak length|CI Beak depth|CI beak width|\n+----+--------+-----------+----------+----------+--------------+-------------+-------------+\n|1973|scandens|      14.55|      9.28|      8.57|         0.144|        0.149|        0.115|\n|1974|scandens|      14.57|      9.21|      8.58|         0.162|        0.157|        0.129|\n|1975|scandens|      14.14|      8.94|      8.37|         0.163|         0.12|        0.097|\n|1976|scandens|      14.41|      9.06|      8.52|           0.1|        0.074|         0.06|\n|1977|scandens|      14.55|      9.14|       8.6|         0.125|        0.093|        0.075|\n+----+--------+-----------+----------+----------+--------------+-------------+-------------+\nonly showing top 5 rows\n\n"
     ]
    }
   ],
   "source": [
    "# Define df1 and df2 by loading the actual datasets\n",
    "df1 = spark.read.csv(\"dbfs:/FileStore/Fall_2024_DS625_Team_01/Fall_2024_DS625_Team_01-main/data/daphne/Fig. 01-06 (also 7.3).csv\", header=True, inferSchema=True)\n",
    "df2 = spark.read.csv(\"dbfs:/FileStore/Fall_2024_DS625_Team_01/Fall_2024_DS625_Team_01-main/data/daphne/Fig. 01-07.csv\", header=True, inferSchema=True)\n",
    "\n",
    "# Verify the schema and data\n",
    "df1.printSchema()\n",
    "df1.show(5)\n",
    "df2.printSchema()\n",
    "df2.show(5)"
   ]
  },
  {
   "cell_type": "markdown",
   "metadata": {
    "application/vnd.databricks.v1+cell": {
     "cellMetadata": {},
     "inputWidgets": {},
     "nuid": "c2df7480-5362-454c-aef5-53bb35390f02",
     "showTitle": false,
     "tableResultSettingsMap": {},
     "title": ""
    }
   },
   "source": [
    "Standardizing column names and converting data types to numerical columns"
   ]
  },
  {
   "cell_type": "code",
   "execution_count": 0,
   "metadata": {
    "application/vnd.databricks.v1+cell": {
     "cellMetadata": {
      "byteLimit": 2048000,
      "rowLimit": 10000
     },
     "inputWidgets": {},
     "nuid": "b6b8ae46-1220-40ca-8082-9ca4d6cfc9e1",
     "showTitle": false,
     "tableResultSettingsMap": {},
     "title": ""
    }
   },
   "outputs": [
    {
     "output_type": "stream",
     "name": "stdout",
     "output_type": "stream",
     "text": [
      "root\n |-- year: string (nullable = true)\n |-- species: string (nullable = true)\n |-- beak_length: double (nullable = true)\n |-- beak_depth: double (nullable = true)\n |-- beak_width: double (nullable = true)\n |-- ci_beak_length: double (nullable = true)\n |-- ci_beak_depth: double (nullable = true)\n |-- ci_beak_width: double (nullable = true)\n\n+----+-------+-----------+----------+----------+--------------+-------------+-------------+\n|year|species|beak_length|beak_depth|beak_width|ci_beak_length|ci_beak_depth|ci_beak_width|\n+----+-------+-----------+----------+----------+--------------+-------------+-------------+\n|1973| fortis|      10.76|      9.48|      8.69|         0.097|         0.13|        0.081|\n|1974| fortis|      10.72|      9.42|      8.66|         0.144|         0.17|        0.112|\n|1975| fortis|      10.57|      9.19|      8.55|         0.075|        0.084|        0.057|\n|1976| fortis|      10.64|      9.23|      8.58|         0.048|        0.053|        0.039|\n|1977| fortis|      10.73|      9.35|      8.63|         0.085|        0.092|        0.066|\n+----+-------+-----------+----------+----------+--------------+-------------+-------------+\nonly showing top 5 rows\n\nroot\n |-- year: string (nullable = true)\n |-- species: string (nullable = true)\n |-- beak_length: double (nullable = true)\n |-- beak_depth: double (nullable = true)\n |-- beak_width: double (nullable = true)\n |-- ci_beak_length: double (nullable = true)\n |-- ci_beak_depth: double (nullable = true)\n |-- ci_beak_width: double (nullable = true)\n\n+----+--------+-----------+----------+----------+--------------+-------------+-------------+\n|year| species|beak_length|beak_depth|beak_width|ci_beak_length|ci_beak_depth|ci_beak_width|\n+----+--------+-----------+----------+----------+--------------+-------------+-------------+\n|1973|scandens|      14.55|      9.28|      8.57|         0.144|        0.149|        0.115|\n|1974|scandens|      14.57|      9.21|      8.58|         0.162|        0.157|        0.129|\n|1975|scandens|      14.14|      8.94|      8.37|         0.163|         0.12|        0.097|\n|1976|scandens|      14.41|      9.06|      8.52|           0.1|        0.074|         0.06|\n|1977|scandens|      14.55|      9.14|       8.6|         0.125|        0.093|        0.075|\n+----+--------+-----------+----------+----------+--------------+-------------+-------------+\nonly showing top 5 rows\n\n"
     ]
    }
   ],
   "source": [
    "from pyspark.sql.functions import col\n",
    "\n",
    "# Standardize column names and data types for df1\n",
    "df1 = df1.withColumnRenamed(\"Year\", \"year\") \\\n",
    "         .withColumnRenamed(\"Species\", \"species\") \\\n",
    "         .withColumnRenamed(\"Beak length\", \"beak_length\") \\\n",
    "         .withColumnRenamed(\"Beak depth\", \"beak_depth\") \\\n",
    "         .withColumnRenamed(\"Beak width\", \"beak_width\") \\\n",
    "         .withColumnRenamed(\"CI Beak length\", \"ci_beak_length\") \\\n",
    "         .withColumnRenamed(\"CI Beak depth\", \"ci_beak_depth\") \\\n",
    "         .withColumnRenamed(\"CI Beak width\", \"ci_beak_width\") \\\n",
    "         .withColumn(\"beak_length\", col(\"beak_length\").cast(\"double\"))\n",
    "\n",
    "# Standardize column names for df2\n",
    "df2 = df2.withColumnRenamed(\"Year\", \"year\") \\\n",
    "         .withColumnRenamed(\"Species\", \"species\") \\\n",
    "         .withColumnRenamed(\"Beak length\", \"beak_length\") \\\n",
    "         .withColumnRenamed(\"Beak depth\", \"beak_depth\") \\\n",
    "         .withColumnRenamed(\"Beak width\", \"beak_width\") \\\n",
    "         .withColumnRenamed(\"CI Beak length\", \"ci_beak_length\") \\\n",
    "         .withColumnRenamed(\"CI Beak depth\", \"ci_beak_depth\") \\\n",
    "         .withColumnRenamed(\"CI beak width\", \"ci_beak_width\") \\\n",
    "         .withColumn(\"ci_beak_length\", col(\"ci_beak_length\").cast(\"double\")) \\\n",
    "         .withColumn(\"ci_beak_depth\", col(\"ci_beak_depth\").cast(\"double\")) \\\n",
    "         .withColumn(\"ci_beak_width\", col(\"ci_beak_width\").cast(\"double\"))\n",
    "\n",
    "# Verify the schemas and data to ensure consistency\n",
    "df1.printSchema()\n",
    "df1.show(5)\n",
    "df2.printSchema()\n",
    "df2.show(5)"
   ]
  },
  {
   "cell_type": "markdown",
   "metadata": {
    "application/vnd.databricks.v1+cell": {
     "cellMetadata": {},
     "inputWidgets": {},
     "nuid": "e15112ff-ca2f-42a5-838a-8adbead2d7c0",
     "showTitle": false,
     "tableResultSettingsMap": {},
     "title": ""
    }
   },
   "source": [
    "# Summary Statistics"
   ]
  },
  {
   "cell_type": "code",
   "execution_count": 0,
   "metadata": {
    "application/vnd.databricks.v1+cell": {
     "cellMetadata": {
      "byteLimit": 2048000,
      "rowLimit": 10000
     },
     "inputWidgets": {},
     "nuid": "4cca7ea4-127a-43c9-a23d-90a2f77c62ba",
     "showTitle": false,
     "tableResultSettingsMap": {},
     "title": ""
    }
   },
   "outputs": [
    {
     "output_type": "stream",
     "name": "stdout",
     "output_type": "stream",
     "text": [
      "+-------+-------------------+-------------------+-------------------+\n|summary|        beak_length|         beak_depth|         beak_width|\n+-------+-------------------+-------------------+-------------------+\n|  count|                 40|                 40|                 40|\n|   mean| 10.767499999999997|  9.197749999999997|  8.632749999999998|\n| stddev|0.23604378124972175|0.37985481369489044|0.18892390952376292|\n|    min|              10.28|               8.51|               8.27|\n|    max|              11.11|               9.81|               8.93|\n+-------+-------------------+-------------------+-------------------+\n\n+-------+------------------+-------------------+------------------+\n|summary|       beak_length|         beak_depth|        beak_width|\n+-------+------------------+-------------------+------------------+\n|  count|                40|                 40|                40|\n|   mean|13.896999999999997|  9.118999999999996| 8.629499999999998|\n| stddev|0.4987790220333172|0.09580428768307597|0.0772591377053514|\n|    min|             13.12|               8.91|              8.37|\n|    max|             14.61|               9.35|              8.82|\n+-------+------------------+-------------------+------------------+\n\n"
     ]
    }
   ],
   "source": [
    "# Show summary statistics for numerical columns\n",
    "df1.describe([\"beak_length\", \"beak_depth\", \"beak_width\"]).show()\n",
    "df2.describe([\"beak_length\", \"beak_depth\", \"beak_width\"]).show()"
   ]
  },
  {
   "cell_type": "markdown",
   "metadata": {
    "application/vnd.databricks.v1+cell": {
     "cellMetadata": {},
     "inputWidgets": {},
     "nuid": "065a08c6-5ff6-400c-a446-6efb2ef737f7",
     "showTitle": false,
     "tableResultSettingsMap": {},
     "title": ""
    }
   },
   "source": [
    "# Distribution Analysis"
   ]
  },
  {
   "cell_type": "code",
   "execution_count": 0,
   "metadata": {
    "application/vnd.databricks.v1+cell": {
     "cellMetadata": {
      "byteLimit": 2048000,
      "rowLimit": 10000
     },
     "inputWidgets": {},
     "nuid": "7e73e955-ec65-410c-b649-de2f61948cca",
     "showTitle": false,
     "tableResultSettingsMap": {},
     "title": ""
    }
   },
   "outputs": [
    {
     "output_type": "display_data",
     "data": {
      "image/png": "[encoded data removed]",
      "text/plain": [
       "<Figure size 1500x500 with 4 Axes>"
      ]
     },
     "metadata": {},
     "output_type": "display_data"
    },
    {
     "output_type": "display_data",
     "data": {
      "image/png": "[encoded data removed]",
      "text/plain": [
       "<Figure size 1500x500 with 4 Axes>"
      ]
     },
     "metadata": {},
     "output_type": "display_data"
    }
   ],
   "source": [
    "import matplotlib.pyplot as plt\n",
    "\n",
    "# Convert to pandas for plotting if data size allows\n",
    "df1_pd = df1.select(\"beak_length\", \"beak_depth\", \"beak_width\").toPandas()\n",
    "df2_pd = df2.select(\"beak_length\", \"beak_depth\", \"beak_width\").toPandas()\n",
    "\n",
    "# Plot histograms for each measurement in df1\n",
    "df1_pd.hist(bins=15, figsize=(15, 5))\n",
    "plt.suptitle(\"Distribution of Beak Measurements for Fortis (Fig. 01-06)\")\n",
    "plt.show()\n",
    "\n",
    "# Plot histograms for each measurement in df2\n",
    "df2_pd.hist(bins=15, figsize=(15, 5))\n",
    "plt.suptitle(\"Distribution of Beak Measurements for Scandens (Fig. 01-07)\")\n",
    "plt.show()"
   ]
  },
  {
   "cell_type": "markdown",
   "metadata": {
    "application/vnd.databricks.v1+cell": {
     "cellMetadata": {},
     "inputWidgets": {},
     "nuid": "3409ab72-c0ed-4b55-a806-4c5a18dc1f93",
     "showTitle": false,
     "tableResultSettingsMap": {},
     "title": ""
    }
   },
   "source": [
    "# Time-Series Trends"
   ]
  },
  {
   "cell_type": "code",
   "execution_count": 0,
   "metadata": {
    "application/vnd.databricks.v1+cell": {
     "cellMetadata": {
      "byteLimit": 2048000,
      "rowLimit": 10000
     },
     "inputWidgets": {},
     "nuid": "ce200301-d3a4-4e74-aee8-d38910e1bb9a",
     "showTitle": false,
     "tableResultSettingsMap": {},
     "title": ""
    }
   },
   "outputs": [
    {
     "output_type": "stream",
     "name": "stdout",
     "output_type": "stream",
     "text": [
      "+----+---------------+--------------+--------------+\n|Year|beak_length_avg|beak_depth_avg|beak_width_avg|\n+----+---------------+--------------+--------------+\n|NULL|           NULL|          NULL|          NULL|\n|    |           NULL|          NULL|          NULL|\n|1973|          10.76|          9.48|          8.69|\n|1974|          10.72|          9.42|          8.66|\n|1975|          10.57|          9.19|          8.55|\n|1976|          10.64|          9.23|          8.58|\n|1977|          10.73|          9.35|          8.63|\n|1978|          11.04|          9.74|          8.86|\n|1979|          11.07|          9.78|          8.73|\n|1980|          11.11|          9.81|           8.9|\n|1981|          11.04|          9.75|          8.89|\n|1982|          11.06|           9.8|          8.91|\n|1983|          11.03|          9.71|          8.92|\n|1984|          10.93|          9.66|          8.93|\n|1985|          10.91|          9.62|          8.91|\n|1986|          10.91|          9.48|          8.75|\n|1987|          10.93|          9.31|          8.69|\n|1988|          10.93|          9.31|          8.69|\n|1989|          10.91|          9.28|          8.67|\n|1990|          10.89|          9.26|          8.65|\n+----+---------------+--------------+--------------+\nonly showing top 20 rows\n\n+----+---------------+--------------+--------------+\n|Year|beak_length_avg|beak_depth_avg|beak_width_avg|\n+----+---------------+--------------+--------------+\n|NULL|           NULL|          NULL|          NULL|\n|    |           NULL|          NULL|          NULL|\n|1973|          14.55|          9.28|          8.57|\n|1974|          14.57|          9.21|          8.58|\n|1975|          14.14|          8.94|          8.37|\n|1976|          14.41|          9.06|          8.52|\n|1977|          14.55|          9.14|           8.6|\n|1978|          14.52|          9.35|           8.7|\n|1979|          14.48|          9.26|          8.62|\n|1980|          14.61|          9.31|          8.68|\n|1981|          14.44|          9.23|          8.63|\n|1982|          14.45|          9.25|          8.64|\n|1983|          14.36|          9.16|          8.63|\n|1984|          14.25|           9.1|           8.6|\n|1985|          14.23|          9.07|           8.6|\n|1986|           14.4|          9.22|          8.71|\n|1987|           14.2|          9.14|          8.64|\n|1988|           14.2|          9.14|          8.64|\n|1989|          14.27|          9.14|          8.67|\n|1990|          14.28|          9.14|          8.66|\n+----+---------------+--------------+--------------+\nonly showing top 20 rows\n\n"
     ]
    },
    {
     "output_type": "display_data",
     "data": {
      "image/png": "[encoded data removed]",
      "text/plain": [
       "<Figure size 1000x500 with 1 Axes>"
      ]
     },
     "metadata": {},
     "output_type": "display_data"
    }
   ],
   "source": [
    "import pandas as pd\n",
    "\n",
    "# Average measurements per year for df1 and df2\n",
    "df1_avg = df1.groupBy(\"Year\").avg(\"beak_length\", \"beak_depth\", \"beak_width\").orderBy(\"Year\")\n",
    "df2_avg = df2.groupBy(\"Year\").avg(\"beak_length\", \"beak_depth\", \"beak_width\").orderBy(\"Year\")\n",
    "\n",
    "# Rename columns for clarity\n",
    "df1_avg = df1_avg.withColumnRenamed(\"avg(beak_length)\", \"beak_length_avg\") \\\n",
    "                 .withColumnRenamed(\"avg(beak_depth)\", \"beak_depth_avg\") \\\n",
    "                 .withColumnRenamed(\"avg(beak_width)\", \"beak_width_avg\")\n",
    "df2_avg = df2_avg.withColumnRenamed(\"avg(beak_length)\", \"beak_length_avg\") \\\n",
    "                 .withColumnRenamed(\"avg(beak_depth)\", \"beak_depth_avg\") \\\n",
    "                 .withColumnRenamed(\"avg(beak_width)\", \"beak_width_avg\")\n",
    "\n",
    "# Show results for inspection\n",
    "df1_avg.show()\n",
    "df2_avg.show()\n",
    "\n",
    "# Convert to pandas for plotting and drop any rows with None values\n",
    "df1_avg_pd = df1_avg.toPandas().dropna(subset=[\"Year\", \"beak_length_avg\"])\n",
    "df2_avg_pd = df2_avg.toPandas().dropna(subset=[\"Year\", \"beak_length_avg\"])\n",
    "\n",
    "# Convert 'Year' to numeric to ensure proper plotting\n",
    "df1_avg_pd[\"Year\"] = pd.to_numeric(df1_avg_pd[\"Year\"], errors='coerce')\n",
    "df2_avg_pd[\"Year\"] = pd.to_numeric(df2_avg_pd[\"Year\"], errors='coerce')\n",
    "\n",
    "# Drop any rows where 'Year' couldn't be converted to numeric (NaN values)\n",
    "df1_avg_pd = df1_avg_pd.dropna(subset=[\"Year\"])\n",
    "df2_avg_pd = df2_avg_pd.dropna(subset=[\"Year\"])\n",
    "\n",
    "# Plotting trends over time\n",
    "plt.figure(figsize=(10, 5))\n",
    "plt.plot(df1_avg_pd[\"Year\"], df1_avg_pd[\"beak_length_avg\"], label=\"Fortis - Beak Length\")\n",
    "plt.plot(df2_avg_pd[\"Year\"], df2_avg_pd[\"beak_length_avg\"], label=\"Scandens - Beak Length\")\n",
    "plt.xlabel(\"Year\")\n",
    "plt.ylabel(\"Average Beak Length\")\n",
    "plt.legend()\n",
    "plt.title(\"Average Beak Length Over Time\")\n",
    "plt.show()"
   ]
  },
  {
   "cell_type": "markdown",
   "metadata": {
    "application/vnd.databricks.v1+cell": {
     "cellMetadata": {},
     "inputWidgets": {},
     "nuid": "d400dd8b-e2c0-4626-90f1-8ce8351c8290",
     "showTitle": false,
     "tableResultSettingsMap": {},
     "title": ""
    }
   },
   "source": [
    "# Comparing Species"
   ]
  },
  {
   "cell_type": "code",
   "execution_count": 0,
   "metadata": {
    "application/vnd.databricks.v1+cell": {
     "cellMetadata": {
      "byteLimit": 2048000,
      "rowLimit": 10000
     },
     "inputWidgets": {},
     "nuid": "b19e484a-2fb6-4e59-a73d-6404b2d3d8c3",
     "showTitle": false,
     "tableResultSettingsMap": {},
     "title": ""
    }
   },
   "outputs": [
    {
     "output_type": "display_data",
     "data": {
      "image/png": "[encoded data removed]",
      "text/plain": [
       "<Figure size 1200x600 with 1 Axes>"
      ]
     },
     "metadata": {},
     "output_type": "display_data"
    }
   ],
   "source": [
    "import seaborn as sns\n",
    "\n",
    "# Combine dataframes for species comparison\n",
    "df_combined = df1.unionByName(df2)\n",
    "df_combined_pd = df_combined.select(\"species\", \"beak_length\", \"beak_depth\", \"beak_width\").toPandas()\n",
    "\n",
    "# Box plot comparison\n",
    "plt.figure(figsize=(12, 6))\n",
    "sns.boxplot(x=\"species\", y=\"beak_length\", data=df_combined_pd)\n",
    "plt.title(\"Beak Length Comparison Between Fortis and Scandens\")\n",
    "plt.show()"
   ]
  },
  {
   "cell_type": "markdown",
   "metadata": {
    "application/vnd.databricks.v1+cell": {
     "cellMetadata": {},
     "inputWidgets": {},
     "nuid": "90ee2ae9-8c79-4359-80eb-c5e726738fd4",
     "showTitle": false,
     "tableResultSettingsMap": {},
     "title": ""
    }
   },
   "source": [
    "# Visualize Confidence Intervals"
   ]
  },
  {
   "cell_type": "code",
   "execution_count": 0,
   "metadata": {
    "application/vnd.databricks.v1+cell": {
     "cellMetadata": {
      "byteLimit": 2048000,
      "rowLimit": 10000
     },
     "inputWidgets": {},
     "nuid": "9344dd54-681b-4964-acb9-c5c838d141e2",
     "showTitle": false,
     "tableResultSettingsMap": {},
     "title": ""
    }
   },
   "outputs": [
    {
     "output_type": "stream",
     "name": "stdout",
     "output_type": "stream",
     "text": [
      "Index(['Year', 'beak_length_avg', 'beak_depth_avg', 'beak_width_avg'], dtype='object')\nIndex(['Year', 'beak_length_avg', 'beak_depth_avg', 'beak_width_avg'], dtype='object')\n"
     ]
    }
   ],
   "source": [
    "print(df1_avg_pd.columns)\n",
    "print(df2_avg_pd.columns)"
   ]
  },
  {
   "cell_type": "code",
   "execution_count": 0,
   "metadata": {
    "application/vnd.databricks.v1+cell": {
     "cellMetadata": {
      "byteLimit": 2048000,
      "rowLimit": 10000
     },
     "inputWidgets": {},
     "nuid": "bd7c8045-6dff-472a-aab9-263575c050c4",
     "showTitle": false,
     "tableResultSettingsMap": {},
     "title": ""
    }
   },
   "outputs": [
    {
     "output_type": "display_data",
     "data": {
      "image/png": "[encoded data removed]",
      "text/plain": [
       "<Figure size 1000x500 with 1 Axes>"
      ]
     },
     "metadata": {},
     "output_type": "display_data"
    }
   ],
   "source": [
    "# Plot without CI as placeholders, or if CI data becomes available, you may use it\n",
    "plt.figure(figsize=(10, 5))\n",
    "plt.plot(df1_avg_pd[\"Year\"], df1_avg_pd[\"beak_length_avg\"], label=\"Fortis - Beak Length\")\n",
    "plt.plot(df2_avg_pd[\"Year\"], df2_avg_pd[\"beak_length_avg\"], label=\"Scandens - Beak Length\")\n",
    "plt.xlabel(\"Year\")\n",
    "plt.ylabel(\"Average Beak Length\")\n",
    "plt.legend()\n",
    "plt.title(\"Average Beak Length Over Time\")\n",
    "plt.show()"
   ]
  },
  {
   "cell_type": "code",
   "execution_count": 0,
   "metadata": {
    "application/vnd.databricks.v1+cell": {
     "cellMetadata": {
      "byteLimit": 2048000,
      "rowLimit": 10000
     },
     "inputWidgets": {},
     "nuid": "6d8880b4-47e4-4cc0-9d69-8d930f5b1f35",
     "showTitle": false,
     "tableResultSettingsMap": {},
     "title": ""
    }
   },
   "outputs": [
    {
     "output_type": "stream",
     "name": "stdout",
     "output_type": "stream",
     "text": [
      "+-------+\n|Species|\n+-------+\n|   NULL|\n| fortis|\n|       |\n+-------+\n\n+--------+\n| Species|\n+--------+\n|    NULL|\n|scandens|\n|        |\n+--------+\n\n"
     ]
    }
   ],
   "source": [
    "# Check unique species in df1\n",
    "unique_species_df1 = df1.select(\"Species\").distinct().show()\n",
    "\n",
    "# Check unique species in df2\n",
    "unique_species_df2 = df2.select(\"Species\").distinct().show()\n"
   ]
  },
  {
   "cell_type": "markdown",
   "metadata": {
    "application/vnd.databricks.v1+cell": {
     "cellMetadata": {},
     "inputWidgets": {},
     "nuid": "0c09d67e-1796-4dc5-b239-a9a1e9717d8f",
     "showTitle": false,
     "tableResultSettingsMap": {},
     "title": ""
    }
   },
   "source": [
    "# EXAMINING THE EXCEL WORKBOOK IN THE FORAGE FOLDER"
   ]
  },
  {
   "cell_type": "code",
   "execution_count": 0,
   "metadata": {
    "application/vnd.databricks.v1+cell": {
     "cellMetadata": {
      "byteLimit": 2048000,
      "rowLimit": 10000
     },
     "collapsed": true,
     "inputWidgets": {},
     "nuid": "06c17d7f-b948-4f77-8e01-1544f0d1db02",
     "showTitle": false,
     "tableResultSettingsMap": {},
     "title": ""
    }
   },
   "outputs": [
    {
     "output_type": "stream",
     "name": "stdout",
     "output_type": "stream",
     "text": [
      "Collecting openpyxl\n  Obtaining dependency information for openpyxl from https://files.pythonhosted.org/packages/c0/da/977ded879c29cbd04de313843e76868e6e13408a94ed6b987245dc7c8506/openpyxl-3.1.5-py2.py3-none-any.whl.metadata\n  Downloading openpyxl-3.1.5-py2.py3-none-any.whl.metadata (2.5 kB)\nCollecting et-xmlfile (from openpyxl)\n  Obtaining dependency information for et-xmlfile from https://files.pythonhosted.org/packages/c1/8b/5fe2cc11fee489817272089c4203e679c63b570a5aaeb18d852ae3cbba6a/et_xmlfile-2.0.0-py3-none-any.whl.metadata\n  Downloading et_xmlfile-2.0.0-py3-none-any.whl.metadata (2.7 kB)\nDownloading openpyxl-3.1.5-py2.py3-none-any.whl (250 kB)\n\u001B[?25l   \u001B[90m━━━━━━━━━━━━━━━━━━━━━━━━━━━━━━━━━━━━━━━━\u001B[0m \u001B[32m0.0/250.9 kB\u001B[0m \u001B[31m?\u001B[0m eta \u001B[36m-:--:--\u001B[0m\n\u001B[2K   \u001B[91m━━━━━━━━━━━━━━━━━━━━━━\u001B[0m\u001B[91m╸\u001B[0m\u001B[90m━━━━━━━━━━━━━━━━━\u001B[0m \u001B[32m143.4/250.9 kB\u001B[0m \u001B[31m4.6 MB/s\u001B[0m eta \u001B[36m0:00:01\u001B[0m\n\u001B[2K   \u001B[90m━━━━━━━━━━━━━━━━━━━━━━━━━━━━━━━━━━━━━━━━\u001B[0m \u001B[32m250.9/250.9 kB\u001B[0m \u001B[31m5.0 MB/s\u001B[0m eta \u001B[36m0:00:00\u001B[0m\n\u001B[?25hDownloading et_xmlfile-2.0.0-py3-none-any.whl (18 kB)\nInstalling collected packages: et-xmlfile, openpyxl\nSuccessfully installed et-xmlfile-2.0.0 openpyxl-3.1.5\n\u001B[43mNote: you may need to restart the kernel using %restart_python or dbutils.library.restartPython() to use updated packages.\u001B[0m\n"
     ]
    }
   ],
   "source": [
    "%pip install openpyxl"
   ]
  },
  {
   "cell_type": "code",
   "execution_count": 0,
   "metadata": {
    "application/vnd.databricks.v1+cell": {
     "cellMetadata": {
      "byteLimit": 2048000,
      "rowLimit": 10000
     },
     "inputWidgets": {},
     "nuid": "0245492f-daf4-4301-ae7f-49f6180776c8",
     "showTitle": false,
     "tableResultSettingsMap": {},
     "title": ""
    }
   },
   "outputs": [
    {
     "output_type": "stream",
     "name": "stdout",
     "output_type": "stream",
     "text": [
      "Sheet names: dict_keys(['Sheet1', 'Sheet2'])\n\nData from sheet 'Sheet1':\n"
     ]
    },
    {
     "output_type": "display_data",
     "data": {
      "text/html": [
       "<style scoped>\n",
       "  .table-result-container {\n",
       "    max-height: 300px;\n",
       "    overflow: auto;\n",
       "  }\n",
       "  table, th, td {\n",
       "    border: 1px solid black;\n",
       "    border-collapse: collapse;\n",
       "  }\n",
       "  th, td {\n",
       "    padding: 5px;\n",
       "  }\n",
       "  th {\n",
       "    text-align: left;\n",
       "  }\n",
       "</style><div class='table-result-container'><table class='table-result'><thead style='background-color: white'><tr><th>Island</th><th>Genus</th><th>species</th><th>Species_Cat</th><th>Habitat</th><th>Year</th><th>Sex(male=0,fem=1,unk=99)</th><th>Male Color(0-5)_during_Foraging</th><th>Substrate_Cat(1=live bark,2=dead bark,3=green leaf,4=dead leaf,5=ground,6=grass,7=moss,8=lichen,9=flower,10=fruit,11=air)</th><th>Technique_Cat(1=glean,2=peck,3=bite+grasp,4=probe,5=pry,6=chipoff)</th><th>Food_Cat(1=plant,2=invertebrate,3=seed,4=unknown)</th><th>Substrate_Cat_FEW(1=foliage,2=bark,3=flower,4=ground,5=fruit, 6=moss)</th><th>Technique_Cat_FEW(1=glean,pick,bite; 2=probe,pry,chip-off)</th><th>Ring_Number</th><th>Naris_Cat(1=normal ≤ 2 mm; 2=enlarged > 2 mm)</th><th>Bill_Lgth_Head</th><th>Bill_Lgth_Fth</th><th>Bill_Lgth_Nostril</th><th>Naris_L</th><th>Naris_R</th><th>Naris_Max</th><th>Bill_Depth</th><th>Bill_Width</th><th>Tarsus</th><th>Tail</th><th>Wing</th><th>Mass</th><th>%NarisMAX_relative_to_BillLgthFth</th></tr></thead><tbody><tr><td>Floreana</td><td>Camarhynchus</td><td>hybrid</td><td>2</td><td>Scalesia forest highlands</td><td>2019</td><td>0</td><td>5.0</td><td>9</td><td>4</td><td>1</td><td>3</td><td>2</td><td>019-57681</td><td>2.0</td><td>27.1</td><td>14.0</td><td>7.4</td><td>2.7</td><td>2.5</td><td>2.7</td><td>8.0</td><td>6.7</td><td>22.1</td><td>45.0</td><td>66.0</td><td>13.3</td><td>19.28571428571429</td></tr><tr><td>Floreana</td><td>Camarhynchus</td><td>parvulus</td><td>1</td><td>Scalesia forest highlands</td><td>2013</td><td>0</td><td>null</td><td>4</td><td>1</td><td>4</td><td>1</td><td>1</td><td>019-57683</td><td>1.0</td><td>25.0</td><td>12.7</td><td>7.0</td><td>1.9</td><td>1.8</td><td>1.9</td><td>6.9</td><td>6.0</td><td>18.4</td><td>34.0</td><td>57.0</td><td>12.1</td><td>14.960629921259844</td></tr><tr><td>Floreana</td><td>Camarhynchus</td><td>parvulus</td><td>1</td><td>Scalesia forest highlands</td><td>2013</td><td>0</td><td>null</td><td>1</td><td>1</td><td>4</td><td>2</td><td>1</td><td>019-57690</td><td>1.0</td><td>26.1</td><td>13.0</td><td>7.6</td><td>1.9</td><td>1.2</td><td>1.9</td><td>7.6</td><td>6.6</td><td>20.2</td><td>38.0</td><td>63.0</td><td>13.1</td><td>14.615384615384613</td></tr><tr><td>Floreana</td><td>Camarhynchus</td><td>parvulus</td><td>1</td><td>Scalesia forest highlands</td><td>2013</td><td>0</td><td>null</td><td>3</td><td>1</td><td>4</td><td>1</td><td>1</td><td>019-57690</td><td>1.0</td><td>26.1</td><td>13.0</td><td>7.6</td><td>1.9</td><td>1.2</td><td>1.9</td><td>7.6</td><td>6.6</td><td>20.2</td><td>38.0</td><td>63.0</td><td>13.1</td><td>14.615384615384613</td></tr><tr><td>Floreana</td><td>Geospiza</td><td>fuliginosa</td><td>4</td><td>Scalesia forest highlands</td><td>2019</td><td>0</td><td>5.0</td><td>3</td><td>1</td><td>2</td><td>1</td><td>1</td><td>019-57691</td><td>1.0</td><td>28.6</td><td>15.2</td><td>9.1</td><td>1.5</td><td>1.7</td><td>1.7</td><td>7.0</td><td>6.1</td><td>19.1</td><td>39.0</td><td>63.0</td><td>14.6</td><td>11.18421052631579</td></tr></tbody></table></div>"
      ]
     },
     "metadata": {
      "application/vnd.databricks.v1+output": {
       "addedWidgets": {},
       "aggData": [],
       "aggError": "",
       "aggOverflow": false,
       "aggSchema": [],
       "aggSeriesLimitReached": false,
       "aggType": "",
       "arguments": {},
       "columnCustomDisplayInfos": {},
       "data": [
        [
         "Floreana",
         "Camarhynchus",
         "hybrid",
         2,
         "Scalesia forest highlands",
         2019,
         0,
         5.0,
         9,
         4,
         1,
         3,
         2,
         "019-57681",
         2.0,
         27.1,
         14.0,
         7.4,
         2.7,
         2.5,
         2.7,
         8.0,
         6.7,
         22.1,
         45.0,
         66.0,
         13.3,
         19.28571428571429
        ],
        [
         "Floreana",
         "Camarhynchus",
         "parvulus",
         1,
         "Scalesia forest highlands",
         2013,
         0,
         null,
         4,
         1,
         4,
         1,
         1,
         "019-57683",
         1.0,
         25.0,
         12.7,
         7.0,
         1.9,
         1.8,
         1.9,
         6.9,
         6.0,
         18.4,
         34.0,
         57.0,
         12.1,
         14.960629921259844
        ],
        [
         "Floreana",
         "Camarhynchus",
         "parvulus",
         1,
         "Scalesia forest highlands",
         2013,
         0,
         null,
         1,
         1,
         4,
         2,
         1,
         "019-57690",
         1.0,
         26.1,
         13.0,
         7.6,
         1.9,
         1.2,
         1.9,
         7.6,
         6.6,
         20.2,
         38.0,
         63.0,
         13.1,
         14.615384615384613
        ],
        [
         "Floreana",
         "Camarhynchus",
         "parvulus",
         1,
         "Scalesia forest highlands",
         2013,
         0,
         null,
         3,
         1,
         4,
         1,
         1,
         "019-57690",
         1.0,
         26.1,
         13.0,
         7.6,
         1.9,
         1.2,
         1.9,
         7.6,
         6.6,
         20.2,
         38.0,
         63.0,
         13.1,
         14.615384615384613
        ],
        [
         "Floreana",
         "Geospiza",
         "fuliginosa",
         4,
         "Scalesia forest highlands",
         2019,
         0,
         5.0,
         3,
         1,
         2,
         1,
         1,
         "019-57691",
         1.0,
         28.6,
         15.2,
         9.1,
         1.5,
         1.7,
         1.7,
         7.0,
         6.1,
         19.1,
         39.0,
         63.0,
         14.6,
         11.18421052631579
        ]
       ],
       "datasetInfos": [],
       "dbfsResultPath": null,
       "isJsonSchema": true,
       "metadata": {},
       "overflow": false,
       "plotOptions": {
        "customPlotOptions": {},
        "displayType": "table",
        "pivotAggregation": null,
        "pivotColumns": null,
        "xColumns": null,
        "yColumns": null
       },
       "removedWidgets": [],
       "schema": [
        {
         "metadata": "{}",
         "name": "Island",
         "type": "\"string\""
        },
        {
         "metadata": "{}",
         "name": "Genus",
         "type": "\"string\""
        },
        {
         "metadata": "{}",
         "name": "species",
         "type": "\"string\""
        },
        {
         "metadata": "{}",
         "name": "Species_Cat",
         "type": "\"long\""
        },
        {
         "metadata": "{}",
         "name": "Habitat",
         "type": "\"string\""
        },
        {
         "metadata": "{}",
         "name": "Year",
         "type": "\"long\""
        },
        {
         "metadata": "{}",
         "name": "Sex(male=0,fem=1,unk=99)",
         "type": "\"long\""
        },
        {
         "metadata": "{}",
         "name": "Male Color(0-5)_during_Foraging",
         "type": "\"double\""
        },
        {
         "metadata": "{}",
         "name": "Substrate_Cat(1=live bark,2=dead bark,3=green leaf,4=dead leaf,5=ground,6=grass,7=moss,8=lichen,9=flower,10=fruit,11=air)",
         "type": "\"long\""
        },
        {
         "metadata": "{}",
         "name": "Technique_Cat(1=glean,2=peck,3=bite+grasp,4=probe,5=pry,6=chipoff)",
         "type": "\"long\""
        },
        {
         "metadata": "{}",
         "name": "Food_Cat(1=plant,2=invertebrate,3=seed,4=unknown)",
         "type": "\"long\""
        },
        {
         "metadata": "{}",
         "name": "Substrate_Cat_FEW(1=foliage,2=bark,3=flower,4=ground,5=fruit, 6=moss)",
         "type": "\"long\""
        },
        {
         "metadata": "{}",
         "name": "Technique_Cat_FEW(1=glean,pick,bite; 2=probe,pry,chip-off)",
         "type": "\"long\""
        },
        {
         "metadata": "{}",
         "name": "Ring_Number",
         "type": "\"string\""
        },
        {
         "metadata": "{}",
         "name": "Naris_Cat(1=normal ≤ 2 mm; 2=enlarged > 2 mm)",
         "type": "\"double\""
        },
        {
         "metadata": "{}",
         "name": "Bill_Lgth_Head",
         "type": "\"double\""
        },
        {
         "metadata": "{}",
         "name": "Bill_Lgth_Fth",
         "type": "\"double\""
        },
        {
         "metadata": "{}",
         "name": "Bill_Lgth_Nostril",
         "type": "\"double\""
        },
        {
         "metadata": "{}",
         "name": "Naris_L",
         "type": "\"double\""
        },
        {
         "metadata": "{}",
         "name": "Naris_R",
         "type": "\"double\""
        },
        {
         "metadata": "{}",
         "name": "Naris_Max",
         "type": "\"double\""
        },
        {
         "metadata": "{}",
         "name": "Bill_Depth",
         "type": "\"double\""
        },
        {
         "metadata": "{}",
         "name": "Bill_Width",
         "type": "\"double\""
        },
        {
         "metadata": "{}",
         "name": "Tarsus",
         "type": "\"double\""
        },
        {
         "metadata": "{}",
         "name": "Tail",
         "type": "\"double\""
        },
        {
         "metadata": "{}",
         "name": "Wing",
         "type": "\"double\""
        },
        {
         "metadata": "{}",
         "name": "Mass",
         "type": "\"double\""
        },
        {
         "metadata": "{}",
         "name": "%NarisMAX_relative_to_BillLgthFth",
         "type": "\"double\""
        }
       ],
       "type": "table"
      }
     },
     "output_type": "display_data"
    },
    {
     "output_type": "stream",
     "name": "stdout",
     "output_type": "stream",
     "text": [
      "\nData from sheet 'Sheet2':\n"
     ]
    },
    {
     "output_type": "display_data",
     "data": {
      "text/html": [
       "<style scoped>\n",
       "  .table-result-container {\n",
       "    max-height: 300px;\n",
       "    overflow: auto;\n",
       "  }\n",
       "  table, th, td {\n",
       "    border: 1px solid black;\n",
       "    border-collapse: collapse;\n",
       "  }\n",
       "  th, td {\n",
       "    padding: 5px;\n",
       "  }\n",
       "  th {\n",
       "    text-align: left;\n",
       "  }\n",
       "</style><div class='table-result-container'><table class='table-result'><thead style='background-color: white'><tr><th>Island</th><th>Galapagos Archipelago, Floreana Island</th></tr></thead><tbody><tr><td>Genus</td><td>Genus of Darwin's finch</td></tr><tr><td>species</td><td>Species of Darwin's finch</td></tr><tr><td>Species_Cat</td><td>1=small tree finch, 2=hybrid tree finch, 3=medium tree finch, 4=small ground finch</td></tr><tr><td>Habitat</td><td>0=arid lowlands 0=100 masl; 1 = Scalesia forest highlands 300-400 masl</td></tr><tr><td>Year</td><td>Year</td></tr></tbody></table></div>"
      ]
     },
     "metadata": {
      "application/vnd.databricks.v1+output": {
       "addedWidgets": {},
       "aggData": [],
       "aggError": "",
       "aggOverflow": false,
       "aggSchema": [],
       "aggSeriesLimitReached": false,
       "aggType": "",
       "arguments": {},
       "columnCustomDisplayInfos": {},
       "data": [
        [
         "Genus",
         "Genus of Darwin's finch"
        ],
        [
         "species",
         "Species of Darwin's finch"
        ],
        [
         "Species_Cat",
         "1=small tree finch, 2=hybrid tree finch, 3=medium tree finch, 4=small ground finch"
        ],
        [
         "Habitat",
         "0=arid lowlands 0=100 masl; 1 = Scalesia forest highlands 300-400 masl"
        ],
        [
         "Year",
         "Year"
        ]
       ],
       "datasetInfos": [],
       "dbfsResultPath": null,
       "isJsonSchema": true,
       "metadata": {},
       "overflow": false,
       "plotOptions": {
        "customPlotOptions": {},
        "displayType": "table",
        "pivotAggregation": null,
        "pivotColumns": null,
        "xColumns": null,
        "yColumns": null
       },
       "removedWidgets": [],
       "schema": [
        {
         "metadata": "{}",
         "name": "Island",
         "type": "\"string\""
        },
        {
         "metadata": "{}",
         "name": "Galapagos Archipelago, Floreana Island",
         "type": "\"string\""
        }
       ],
       "type": "table"
      }
     },
     "output_type": "display_data"
    }
   ],
   "source": [
    "import pandas as pd\n",
    "\n",
    "# Define the path using Databricks utilities to read the file correctly\n",
    "excel_path = \"dbfs:/FileStore/Fall_2024_DS625_Team_01/Fall_2024_DS625_Team_01-main/data/forage/DRYAD_Darwin_s_finch_foraging_behaviour_and_naris_size.xlsx\"\n",
    "\n",
    "# Use dbutils to copy the file to the local driver for access\n",
    "local_path = \"/tmp/DRYAD_Darwin_s_finch_foraging_behaviour_and_naris_size.xlsx\"\n",
    "dbutils.fs.cp(excel_path, f\"file:{local_path}\")\n",
    "\n",
    "# Load the Excel file from the local path\n",
    "excel_data = pd.read_excel(local_path, sheet_name=None)\n",
    "\n",
    "# Display sheet names and preview data in each sheet\n",
    "print(\"Sheet names:\", excel_data.keys())\n",
    "\n",
    "for sheet, data in excel_data.items():\n",
    "    print(f\"\\nData from sheet '{sheet}':\")\n",
    "    display(data.head())"
   ]
  },
  {
   "cell_type": "markdown",
   "metadata": {
    "application/vnd.databricks.v1+cell": {
     "cellMetadata": {},
     "inputWidgets": {},
     "nuid": "5218ab2c-1f47-47ae-919f-0366167ec7b7",
     "showTitle": false,
     "tableResultSettingsMap": {},
     "title": ""
    }
   },
   "source": [
    "# Given the original project description:\n",
    "- **Beak Measurements and Evolution:** The files containing beak length, depth, and width data for different finch species over time are crucial. These files help analyze morphological changes and potential evolutionary trends in the finch population. This is directly relevant if the goal is to track changes in physical traits due to environmental factors.\n",
    "- **Foraging Behavior and Naris Size:** The foraging behavior and naris (nostril/nasal opening) size Excel workbook includes behavioral data and naris size measurements, which could be useful if the project focuses on foraging behavior and adaptations. If the description includes studying environmental impact on feeding behaviors or adaptations, this file is relevant.\n",
    "- **Environmental and Habitat Data:** Any files or columns that provide habitat or island data (like in the Excel workbook) can support analyses on how different environments or islands influence traits or behaviors. This data helps contextualize other variables with environmental factors.\n",
    "- **Confidence Intervals:** If the project includes statistical analyses, files with confidence intervals for measurements, like beak length, depth, and width, are valuable. These intervals support confidence in trend assessments and comparisons between species or over time.\n",
    "- **Species-specific Comparisons:** If the project description includes species comparisons, the files with species identifiers and data on different morphological and behavioral metrics will be useful.\n",
    "\n",
    "Based on these factors, the following files will be instrumental in achieving the project goals:\n",
    "- **Beak measurements file (e.g., Fig. 01-06.csv, Fig. 01-07.csv):** For tracking morphological changes.\n",
    "- **Foraging behavior and naris size Excel workbook:** For insights into behavioral adaptations.\n",
    "- **Environmental/habitat data in the Excel workbook:** To assess how environment influences adaptations.\n",
    "- **Files with confidence interval data:** For robust trend analysis and species comparisons."
   ]
  }
 ],
 "metadata": {
  "application/vnd.databricks.v1+notebook": {
   "dashboards": [],
   "environmentMetadata": null,
   "language": "python",
   "notebookMetadata": {
    "mostRecentlyExecutedCommandWithImplicitDF": {
     "commandId": 3391858540213073,
     "dataframes": [
      "_sqldf"
     ]
    },
    "pythonIndentUnit": 2
   },
   "notebookName": "DS625TeamProject",
   "widgets": {}
  }
 },
 "nbformat": 4,
 "nbformat_minor": 0
}
